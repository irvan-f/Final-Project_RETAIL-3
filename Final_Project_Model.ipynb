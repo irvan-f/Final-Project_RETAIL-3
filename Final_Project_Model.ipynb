{
  "nbformat": 4,
  "nbformat_minor": 0,
  "metadata": {
    "colab": {
      "name": "Final_Project_Model.ipynb",
      "provenance": [],
      "collapsed_sections": [],
      "toc_visible": true
    },
    "kernelspec": {
      "name": "python3",
      "display_name": "Python 3"
    },
    "language_info": {
      "name": "python"
    }
  },
  "cells": [
    {
      "cell_type": "markdown",
      "source": [
        "# Model : Predicting Profit using Linear Regression"
      ],
      "metadata": {
        "id": "565FRPHC31ZT"
      }
    },
    {
      "cell_type": "markdown",
      "source": [
        "## Import Libraries"
      ],
      "metadata": {
        "id": "pii7vcTkAgp4"
      }
    },
    {
      "cell_type": "code",
      "source": [
        "# Data Manipulation\n",
        "import numpy as np\n",
        "import pandas as pd\n",
        "\n",
        "# Plotting Libraries\n",
        "import matplotlib.pyplot as plt\n",
        "import seaborn as sns\n",
        "\n",
        "# Statistic Test\n",
        "from scipy.stats import shapiro\n",
        "\n",
        "# Modeling Utilities\n",
        "from sklearn import metrics\n",
        "from sklearn import preprocessing\n",
        "from sklearn.model_selection import train_test_split\n",
        "from sklearn.preprocessing import RobustScaler, OneHotEncoder\n",
        "from sklearn.compose import ColumnTransformer\n",
        "from sklearn.metrics import mean_squared_error, r2_score, mean_absolute_error, median_absolute_error\n",
        "import tensorflow as tf\n",
        "from tensorflow import keras\n",
        "from tensorflow.keras import Sequential\n",
        "from tensorflow.keras.layers import Dense \n",
        "from tensorflow.keras.layers import Dropout\n",
        "from tensorflow.keras import regularizers\n",
        "from tensorflow.keras.callbacks import EarlyStopping\n",
        "tf.keras.utils.set_random_seed(10)\n",
        "\n",
        "# plt.rcParams.update(params)\n",
        "import warnings\n",
        "warnings.filterwarnings('ignore')\n",
        "\n",
        "# Import dataset\n",
        "from google.colab import drive\n",
        "drive.mount('/content/drive')"
      ],
      "metadata": {
        "colab": {
          "base_uri": "https://localhost:8080/"
        },
        "id": "4zsSLjDFAHpC",
        "outputId": "686edc90-43ad-4af9-b481-d20e4eeac5b2"
      },
      "execution_count": 1,
      "outputs": [
        {
          "output_type": "stream",
          "name": "stdout",
          "text": [
            "Drive already mounted at /content/drive; to attempt to forcibly remount, call drive.mount(\"/content/drive\", force_remount=True).\n"
          ]
        }
      ]
    },
    {
      "cell_type": "markdown",
      "source": [
        "## Load Dataset and Brief Explanation of Dataset\n",
        "Dataset yang digunakan **Sample-Superstore.csv** yang diambil dari [Retail/Customer Reviews](https://drive.google.com/drive/folders/11Ru_XWA4mVpjZPnuucGRGJDc4dZbyJlc?usp=sharing). Dataset ini berisi data penjualan superstore dari tahun 2014 hingga 2017 di United State of America (USA)."
      ],
      "metadata": {
        "id": "ccltQuZtFi0R"
      }
    },
    {
      "cell_type": "code",
      "source": [
        "# Load dataset\n",
        "superstore = pd.read_csv('/content/drive/MyDrive/Final Project_Retail 3/Sample - Superstore.csv', encoding='cp1252')\n",
        "\n",
        "# Menampilkan 5 baris pertama dari dataset\n",
        "superstore.head()"
      ],
      "metadata": {
        "colab": {
          "base_uri": "https://localhost:8080/",
          "height": 629
        },
        "id": "X--XH40BE7AY",
        "outputId": "4ecf8bb3-a102-4f83-a7bc-5746590f6695"
      },
      "execution_count": 2,
      "outputs": [
        {
          "output_type": "execute_result",
          "data": {
            "text/plain": [
              "   Row ID        Order ID  Order Date   Ship Date       Ship Mode Customer ID  \\\n",
              "0       1  CA-2016-152156   11/8/2016  11/11/2016    Second Class    CG-12520   \n",
              "1       2  CA-2016-152156   11/8/2016  11/11/2016    Second Class    CG-12520   \n",
              "2       3  CA-2016-138688   6/12/2016   6/16/2016    Second Class    DV-13045   \n",
              "3       4  US-2015-108966  10/11/2015  10/18/2015  Standard Class    SO-20335   \n",
              "4       5  US-2015-108966  10/11/2015  10/18/2015  Standard Class    SO-20335   \n",
              "\n",
              "     Customer Name    Segment        Country             City  ...  \\\n",
              "0      Claire Gute   Consumer  United States        Henderson  ...   \n",
              "1      Claire Gute   Consumer  United States        Henderson  ...   \n",
              "2  Darrin Van Huff  Corporate  United States      Los Angeles  ...   \n",
              "3   Sean O'Donnell   Consumer  United States  Fort Lauderdale  ...   \n",
              "4   Sean O'Donnell   Consumer  United States  Fort Lauderdale  ...   \n",
              "\n",
              "  Postal Code  Region       Product ID         Category Sub-Category  \\\n",
              "0       42420   South  FUR-BO-10001798        Furniture    Bookcases   \n",
              "1       42420   South  FUR-CH-10000454        Furniture       Chairs   \n",
              "2       90036    West  OFF-LA-10000240  Office Supplies       Labels   \n",
              "3       33311   South  FUR-TA-10000577        Furniture       Tables   \n",
              "4       33311   South  OFF-ST-10000760  Office Supplies      Storage   \n",
              "\n",
              "                                        Product Name     Sales  Quantity  \\\n",
              "0                  Bush Somerset Collection Bookcase  261.9600         2   \n",
              "1  Hon Deluxe Fabric Upholstered Stacking Chairs,...  731.9400         3   \n",
              "2  Self-Adhesive Address Labels for Typewriters b...   14.6200         2   \n",
              "3      Bretford CR4500 Series Slim Rectangular Table  957.5775         5   \n",
              "4                     Eldon Fold 'N Roll Cart System   22.3680         2   \n",
              "\n",
              "   Discount    Profit  \n",
              "0      0.00   41.9136  \n",
              "1      0.00  219.5820  \n",
              "2      0.00    6.8714  \n",
              "3      0.45 -383.0310  \n",
              "4      0.20    2.5164  \n",
              "\n",
              "[5 rows x 21 columns]"
            ],
            "text/html": [
              "\n",
              "  <div id=\"df-94dd5b07-d266-4bd8-9d07-6eaade575575\">\n",
              "    <div class=\"colab-df-container\">\n",
              "      <div>\n",
              "<style scoped>\n",
              "    .dataframe tbody tr th:only-of-type {\n",
              "        vertical-align: middle;\n",
              "    }\n",
              "\n",
              "    .dataframe tbody tr th {\n",
              "        vertical-align: top;\n",
              "    }\n",
              "\n",
              "    .dataframe thead th {\n",
              "        text-align: right;\n",
              "    }\n",
              "</style>\n",
              "<table border=\"1\" class=\"dataframe\">\n",
              "  <thead>\n",
              "    <tr style=\"text-align: right;\">\n",
              "      <th></th>\n",
              "      <th>Row ID</th>\n",
              "      <th>Order ID</th>\n",
              "      <th>Order Date</th>\n",
              "      <th>Ship Date</th>\n",
              "      <th>Ship Mode</th>\n",
              "      <th>Customer ID</th>\n",
              "      <th>Customer Name</th>\n",
              "      <th>Segment</th>\n",
              "      <th>Country</th>\n",
              "      <th>City</th>\n",
              "      <th>...</th>\n",
              "      <th>Postal Code</th>\n",
              "      <th>Region</th>\n",
              "      <th>Product ID</th>\n",
              "      <th>Category</th>\n",
              "      <th>Sub-Category</th>\n",
              "      <th>Product Name</th>\n",
              "      <th>Sales</th>\n",
              "      <th>Quantity</th>\n",
              "      <th>Discount</th>\n",
              "      <th>Profit</th>\n",
              "    </tr>\n",
              "  </thead>\n",
              "  <tbody>\n",
              "    <tr>\n",
              "      <th>0</th>\n",
              "      <td>1</td>\n",
              "      <td>CA-2016-152156</td>\n",
              "      <td>11/8/2016</td>\n",
              "      <td>11/11/2016</td>\n",
              "      <td>Second Class</td>\n",
              "      <td>CG-12520</td>\n",
              "      <td>Claire Gute</td>\n",
              "      <td>Consumer</td>\n",
              "      <td>United States</td>\n",
              "      <td>Henderson</td>\n",
              "      <td>...</td>\n",
              "      <td>42420</td>\n",
              "      <td>South</td>\n",
              "      <td>FUR-BO-10001798</td>\n",
              "      <td>Furniture</td>\n",
              "      <td>Bookcases</td>\n",
              "      <td>Bush Somerset Collection Bookcase</td>\n",
              "      <td>261.9600</td>\n",
              "      <td>2</td>\n",
              "      <td>0.00</td>\n",
              "      <td>41.9136</td>\n",
              "    </tr>\n",
              "    <tr>\n",
              "      <th>1</th>\n",
              "      <td>2</td>\n",
              "      <td>CA-2016-152156</td>\n",
              "      <td>11/8/2016</td>\n",
              "      <td>11/11/2016</td>\n",
              "      <td>Second Class</td>\n",
              "      <td>CG-12520</td>\n",
              "      <td>Claire Gute</td>\n",
              "      <td>Consumer</td>\n",
              "      <td>United States</td>\n",
              "      <td>Henderson</td>\n",
              "      <td>...</td>\n",
              "      <td>42420</td>\n",
              "      <td>South</td>\n",
              "      <td>FUR-CH-10000454</td>\n",
              "      <td>Furniture</td>\n",
              "      <td>Chairs</td>\n",
              "      <td>Hon Deluxe Fabric Upholstered Stacking Chairs,...</td>\n",
              "      <td>731.9400</td>\n",
              "      <td>3</td>\n",
              "      <td>0.00</td>\n",
              "      <td>219.5820</td>\n",
              "    </tr>\n",
              "    <tr>\n",
              "      <th>2</th>\n",
              "      <td>3</td>\n",
              "      <td>CA-2016-138688</td>\n",
              "      <td>6/12/2016</td>\n",
              "      <td>6/16/2016</td>\n",
              "      <td>Second Class</td>\n",
              "      <td>DV-13045</td>\n",
              "      <td>Darrin Van Huff</td>\n",
              "      <td>Corporate</td>\n",
              "      <td>United States</td>\n",
              "      <td>Los Angeles</td>\n",
              "      <td>...</td>\n",
              "      <td>90036</td>\n",
              "      <td>West</td>\n",
              "      <td>OFF-LA-10000240</td>\n",
              "      <td>Office Supplies</td>\n",
              "      <td>Labels</td>\n",
              "      <td>Self-Adhesive Address Labels for Typewriters b...</td>\n",
              "      <td>14.6200</td>\n",
              "      <td>2</td>\n",
              "      <td>0.00</td>\n",
              "      <td>6.8714</td>\n",
              "    </tr>\n",
              "    <tr>\n",
              "      <th>3</th>\n",
              "      <td>4</td>\n",
              "      <td>US-2015-108966</td>\n",
              "      <td>10/11/2015</td>\n",
              "      <td>10/18/2015</td>\n",
              "      <td>Standard Class</td>\n",
              "      <td>SO-20335</td>\n",
              "      <td>Sean O'Donnell</td>\n",
              "      <td>Consumer</td>\n",
              "      <td>United States</td>\n",
              "      <td>Fort Lauderdale</td>\n",
              "      <td>...</td>\n",
              "      <td>33311</td>\n",
              "      <td>South</td>\n",
              "      <td>FUR-TA-10000577</td>\n",
              "      <td>Furniture</td>\n",
              "      <td>Tables</td>\n",
              "      <td>Bretford CR4500 Series Slim Rectangular Table</td>\n",
              "      <td>957.5775</td>\n",
              "      <td>5</td>\n",
              "      <td>0.45</td>\n",
              "      <td>-383.0310</td>\n",
              "    </tr>\n",
              "    <tr>\n",
              "      <th>4</th>\n",
              "      <td>5</td>\n",
              "      <td>US-2015-108966</td>\n",
              "      <td>10/11/2015</td>\n",
              "      <td>10/18/2015</td>\n",
              "      <td>Standard Class</td>\n",
              "      <td>SO-20335</td>\n",
              "      <td>Sean O'Donnell</td>\n",
              "      <td>Consumer</td>\n",
              "      <td>United States</td>\n",
              "      <td>Fort Lauderdale</td>\n",
              "      <td>...</td>\n",
              "      <td>33311</td>\n",
              "      <td>South</td>\n",
              "      <td>OFF-ST-10000760</td>\n",
              "      <td>Office Supplies</td>\n",
              "      <td>Storage</td>\n",
              "      <td>Eldon Fold 'N Roll Cart System</td>\n",
              "      <td>22.3680</td>\n",
              "      <td>2</td>\n",
              "      <td>0.20</td>\n",
              "      <td>2.5164</td>\n",
              "    </tr>\n",
              "  </tbody>\n",
              "</table>\n",
              "<p>5 rows × 21 columns</p>\n",
              "</div>\n",
              "      <button class=\"colab-df-convert\" onclick=\"convertToInteractive('df-94dd5b07-d266-4bd8-9d07-6eaade575575')\"\n",
              "              title=\"Convert this dataframe to an interactive table.\"\n",
              "              style=\"display:none;\">\n",
              "        \n",
              "  <svg xmlns=\"http://www.w3.org/2000/svg\" height=\"24px\"viewBox=\"0 0 24 24\"\n",
              "       width=\"24px\">\n",
              "    <path d=\"M0 0h24v24H0V0z\" fill=\"none\"/>\n",
              "    <path d=\"M18.56 5.44l.94 2.06.94-2.06 2.06-.94-2.06-.94-.94-2.06-.94 2.06-2.06.94zm-11 1L8.5 8.5l.94-2.06 2.06-.94-2.06-.94L8.5 2.5l-.94 2.06-2.06.94zm10 10l.94 2.06.94-2.06 2.06-.94-2.06-.94-.94-2.06-.94 2.06-2.06.94z\"/><path d=\"M17.41 7.96l-1.37-1.37c-.4-.4-.92-.59-1.43-.59-.52 0-1.04.2-1.43.59L10.3 9.45l-7.72 7.72c-.78.78-.78 2.05 0 2.83L4 21.41c.39.39.9.59 1.41.59.51 0 1.02-.2 1.41-.59l7.78-7.78 2.81-2.81c.8-.78.8-2.07 0-2.86zM5.41 20L4 18.59l7.72-7.72 1.47 1.35L5.41 20z\"/>\n",
              "  </svg>\n",
              "      </button>\n",
              "      \n",
              "  <style>\n",
              "    .colab-df-container {\n",
              "      display:flex;\n",
              "      flex-wrap:wrap;\n",
              "      gap: 12px;\n",
              "    }\n",
              "\n",
              "    .colab-df-convert {\n",
              "      background-color: #E8F0FE;\n",
              "      border: none;\n",
              "      border-radius: 50%;\n",
              "      cursor: pointer;\n",
              "      display: none;\n",
              "      fill: #1967D2;\n",
              "      height: 32px;\n",
              "      padding: 0 0 0 0;\n",
              "      width: 32px;\n",
              "    }\n",
              "\n",
              "    .colab-df-convert:hover {\n",
              "      background-color: #E2EBFA;\n",
              "      box-shadow: 0px 1px 2px rgba(60, 64, 67, 0.3), 0px 1px 3px 1px rgba(60, 64, 67, 0.15);\n",
              "      fill: #174EA6;\n",
              "    }\n",
              "\n",
              "    [theme=dark] .colab-df-convert {\n",
              "      background-color: #3B4455;\n",
              "      fill: #D2E3FC;\n",
              "    }\n",
              "\n",
              "    [theme=dark] .colab-df-convert:hover {\n",
              "      background-color: #434B5C;\n",
              "      box-shadow: 0px 1px 3px 1px rgba(0, 0, 0, 0.15);\n",
              "      filter: drop-shadow(0px 1px 2px rgba(0, 0, 0, 0.3));\n",
              "      fill: #FFFFFF;\n",
              "    }\n",
              "  </style>\n",
              "\n",
              "      <script>\n",
              "        const buttonEl =\n",
              "          document.querySelector('#df-94dd5b07-d266-4bd8-9d07-6eaade575575 button.colab-df-convert');\n",
              "        buttonEl.style.display =\n",
              "          google.colab.kernel.accessAllowed ? 'block' : 'none';\n",
              "\n",
              "        async function convertToInteractive(key) {\n",
              "          const element = document.querySelector('#df-94dd5b07-d266-4bd8-9d07-6eaade575575');\n",
              "          const dataTable =\n",
              "            await google.colab.kernel.invokeFunction('convertToInteractive',\n",
              "                                                     [key], {});\n",
              "          if (!dataTable) return;\n",
              "\n",
              "          const docLinkHtml = 'Like what you see? Visit the ' +\n",
              "            '<a target=\"_blank\" href=https://colab.research.google.com/notebooks/data_table.ipynb>data table notebook</a>'\n",
              "            + ' to learn more about interactive tables.';\n",
              "          element.innerHTML = '';\n",
              "          dataTable['output_type'] = 'display_data';\n",
              "          await google.colab.output.renderOutput(dataTable, element);\n",
              "          const docLink = document.createElement('div');\n",
              "          docLink.innerHTML = docLinkHtml;\n",
              "          element.appendChild(docLink);\n",
              "        }\n",
              "      </script>\n",
              "    </div>\n",
              "  </div>\n",
              "  "
            ]
          },
          "metadata": {},
          "execution_count": 2
        }
      ]
    },
    {
      "cell_type": "code",
      "source": [
        "# Memberikan informasi setiap kolom dan tipe data dari dataset\n",
        "superstore.info()"
      ],
      "metadata": {
        "colab": {
          "base_uri": "https://localhost:8080/"
        },
        "id": "GBkPRbHxNQoT",
        "outputId": "7531753c-3777-47f5-d1ef-a511f097cc90"
      },
      "execution_count": 3,
      "outputs": [
        {
          "output_type": "stream",
          "name": "stdout",
          "text": [
            "<class 'pandas.core.frame.DataFrame'>\n",
            "RangeIndex: 9994 entries, 0 to 9993\n",
            "Data columns (total 21 columns):\n",
            " #   Column         Non-Null Count  Dtype  \n",
            "---  ------         --------------  -----  \n",
            " 0   Row ID         9994 non-null   int64  \n",
            " 1   Order ID       9994 non-null   object \n",
            " 2   Order Date     9994 non-null   object \n",
            " 3   Ship Date      9994 non-null   object \n",
            " 4   Ship Mode      9994 non-null   object \n",
            " 5   Customer ID    9994 non-null   object \n",
            " 6   Customer Name  9994 non-null   object \n",
            " 7   Segment        9994 non-null   object \n",
            " 8   Country        9994 non-null   object \n",
            " 9   City           9994 non-null   object \n",
            " 10  State          9994 non-null   object \n",
            " 11  Postal Code    9994 non-null   int64  \n",
            " 12  Region         9994 non-null   object \n",
            " 13  Product ID     9994 non-null   object \n",
            " 14  Category       9994 non-null   object \n",
            " 15  Sub-Category   9994 non-null   object \n",
            " 16  Product Name   9994 non-null   object \n",
            " 17  Sales          9994 non-null   float64\n",
            " 18  Quantity       9994 non-null   int64  \n",
            " 19  Discount       9994 non-null   float64\n",
            " 20  Profit         9994 non-null   float64\n",
            "dtypes: float64(3), int64(3), object(15)\n",
            "memory usage: 1.6+ MB\n"
          ]
        }
      ]
    },
    {
      "cell_type": "code",
      "source": [
        "# Menunjukkan jumlah baris dan kolom dari dataset\n",
        "print(\"Jumlah baris: {}\\nJumlah kolom: {}\".format(superstore.shape[0], superstore.shape[1]))"
      ],
      "metadata": {
        "colab": {
          "base_uri": "https://localhost:8080/"
        },
        "id": "t6NgUFvBOKte",
        "outputId": "5cfb4a3e-4b80-4e41-fa67-a45a91fcecae"
      },
      "execution_count": 4,
      "outputs": [
        {
          "output_type": "stream",
          "name": "stdout",
          "text": [
            "Jumlah baris: 9994\n",
            "Jumlah kolom: 21\n"
          ]
        }
      ]
    },
    {
      "cell_type": "markdown",
      "source": [
        "Dataset adalah dataset superstore yang menunjukkan data penjualan dari superstore dari tahun 2014-2017 di Amerika Serikat, dimana terdapat 9994 baris dan 21 kolom. Berikut adalah penjelasan singkat mengenai variabel yang terdapat di dalam dataset tersebut:\n",
        "- **Row ID**: Nomor unik dari baris\n",
        "- **Order ID**: Nomor unik pemesanan untuk setiap pelanggan\n",
        "- **Order Date**: Tanggal pemesanan suatu produk\n",
        "- **Ship Date**: Tanggal pengiriman suatu produk\n",
        "- **Ship Mode**: Mode/jenis pengiriman yang ditentukan oleh pelanggan\n",
        "- **Customer ID**: Nomor unik untuk mengidentifikasi setiap pelanggan\n",
        "- **Customer Name**: Nama pelanggan\n",
        "- **Segment**: Segmen pelanggan\n",
        "- **Country**: Negara tempat tinggal pelanggan\n",
        "- **City**: Kota tempat tinggal pelanggan\n",
        "- **State**: Negara bagian tempat tinggal pelanggan\n",
        "- **Postal Code**: Kode pos setiap pelanggan\n",
        "- **Region**: Wilayah tempat tinggal pelanggan \n",
        "- **Product ID**: Nomor unik produk\n",
        "- **Category**: Kategori produk yang dipesan\n",
        "- **Sub-Category**: Sub-Kategori produk yang dipesan\n",
        "- **Product Name**: Nama produk\n",
        "- **Sales**: Hasil penjualan produk (dalam USD)\n",
        "- **Quantity**: Kuantitas/jumlah produk yang dijual\n",
        "- **Discount**: Diskon/potongan harga\n",
        "- **Profit**: Laba/rugi yang terjadi (dalam USD)"
      ],
      "metadata": {
        "id": "BvfhdUXhO1Lf"
      }
    },
    {
      "cell_type": "markdown",
      "source": [
        "## Data Preprocessing"
      ],
      "metadata": {
        "id": "Quc0WwxeYQg5"
      }
    },
    {
      "cell_type": "markdown",
      "source": [
        "### Identifying missing values, duplicate data, outliers and anomaly in the dataset\n",
        "Mengidentifikasi *missing value*, data duplikat, *outlier* dan anomali data perlu dilakukan sebelum kita melakukan analisis data. Supaya kita dapat menangani data dengan lebih baik agar memberikan analisis yang lebih akurat."
      ],
      "metadata": {
        "id": "3_hPbPrLaDZj"
      }
    },
    {
      "cell_type": "markdown",
      "source": [
        "#### Identifying Missing Values"
      ],
      "metadata": {
        "id": "phDx1ZHgqAlV"
      }
    },
    {
      "cell_type": "code",
      "source": [
        "# Mencari missing data dari setiap kolom yang ada di dataset \n",
        "superstore.isnull().sum()"
      ],
      "metadata": {
        "colab": {
          "base_uri": "https://localhost:8080/"
        },
        "id": "iHdHBFBmOzmL",
        "outputId": "aa97f097-130c-41bc-aa3c-9c4408c13d13"
      },
      "execution_count": 5,
      "outputs": [
        {
          "output_type": "execute_result",
          "data": {
            "text/plain": [
              "Row ID           0\n",
              "Order ID         0\n",
              "Order Date       0\n",
              "Ship Date        0\n",
              "Ship Mode        0\n",
              "Customer ID      0\n",
              "Customer Name    0\n",
              "Segment          0\n",
              "Country          0\n",
              "City             0\n",
              "State            0\n",
              "Postal Code      0\n",
              "Region           0\n",
              "Product ID       0\n",
              "Category         0\n",
              "Sub-Category     0\n",
              "Product Name     0\n",
              "Sales            0\n",
              "Quantity         0\n",
              "Discount         0\n",
              "Profit           0\n",
              "dtype: int64"
            ]
          },
          "metadata": {},
          "execution_count": 5
        }
      ]
    },
    {
      "cell_type": "markdown",
      "source": [
        "*Missing value* tidak ditemukan dalam dataset ini, maka tidak dibutuhkan proses untuk menangani *missing value* di tahap *data preprocessing*. "
      ],
      "metadata": {
        "id": "N2XrJtvjbi1E"
      }
    },
    {
      "cell_type": "markdown",
      "source": [
        "#### Identifying Duplicate Data"
      ],
      "metadata": {
        "id": "gqsi-sU4qan2"
      }
    },
    {
      "cell_type": "code",
      "source": [
        "# Mencari data duplikat dari setiap baris yang ada di dataset\n",
        "duplicate_dataset = superstore[superstore.duplicated()]\n",
        "duplicate_dataset"
      ],
      "metadata": {
        "colab": {
          "base_uri": "https://localhost:8080/",
          "height": 140
        },
        "id": "eTDUizavaxAa",
        "outputId": "f5317f9e-a820-4368-b78a-fcd6139021d4"
      },
      "execution_count": 6,
      "outputs": [
        {
          "output_type": "execute_result",
          "data": {
            "text/plain": [
              "Empty DataFrame\n",
              "Columns: [Row ID, Order ID, Order Date, Ship Date, Ship Mode, Customer ID, Customer Name, Segment, Country, City, State, Postal Code, Region, Product ID, Category, Sub-Category, Product Name, Sales, Quantity, Discount, Profit]\n",
              "Index: []\n",
              "\n",
              "[0 rows x 21 columns]"
            ],
            "text/html": [
              "\n",
              "  <div id=\"df-16dc9cc3-fa7d-468c-8141-f871d04e997c\">\n",
              "    <div class=\"colab-df-container\">\n",
              "      <div>\n",
              "<style scoped>\n",
              "    .dataframe tbody tr th:only-of-type {\n",
              "        vertical-align: middle;\n",
              "    }\n",
              "\n",
              "    .dataframe tbody tr th {\n",
              "        vertical-align: top;\n",
              "    }\n",
              "\n",
              "    .dataframe thead th {\n",
              "        text-align: right;\n",
              "    }\n",
              "</style>\n",
              "<table border=\"1\" class=\"dataframe\">\n",
              "  <thead>\n",
              "    <tr style=\"text-align: right;\">\n",
              "      <th></th>\n",
              "      <th>Row ID</th>\n",
              "      <th>Order ID</th>\n",
              "      <th>Order Date</th>\n",
              "      <th>Ship Date</th>\n",
              "      <th>Ship Mode</th>\n",
              "      <th>Customer ID</th>\n",
              "      <th>Customer Name</th>\n",
              "      <th>Segment</th>\n",
              "      <th>Country</th>\n",
              "      <th>City</th>\n",
              "      <th>...</th>\n",
              "      <th>Postal Code</th>\n",
              "      <th>Region</th>\n",
              "      <th>Product ID</th>\n",
              "      <th>Category</th>\n",
              "      <th>Sub-Category</th>\n",
              "      <th>Product Name</th>\n",
              "      <th>Sales</th>\n",
              "      <th>Quantity</th>\n",
              "      <th>Discount</th>\n",
              "      <th>Profit</th>\n",
              "    </tr>\n",
              "  </thead>\n",
              "  <tbody>\n",
              "  </tbody>\n",
              "</table>\n",
              "<p>0 rows × 21 columns</p>\n",
              "</div>\n",
              "      <button class=\"colab-df-convert\" onclick=\"convertToInteractive('df-16dc9cc3-fa7d-468c-8141-f871d04e997c')\"\n",
              "              title=\"Convert this dataframe to an interactive table.\"\n",
              "              style=\"display:none;\">\n",
              "        \n",
              "  <svg xmlns=\"http://www.w3.org/2000/svg\" height=\"24px\"viewBox=\"0 0 24 24\"\n",
              "       width=\"24px\">\n",
              "    <path d=\"M0 0h24v24H0V0z\" fill=\"none\"/>\n",
              "    <path d=\"M18.56 5.44l.94 2.06.94-2.06 2.06-.94-2.06-.94-.94-2.06-.94 2.06-2.06.94zm-11 1L8.5 8.5l.94-2.06 2.06-.94-2.06-.94L8.5 2.5l-.94 2.06-2.06.94zm10 10l.94 2.06.94-2.06 2.06-.94-2.06-.94-.94-2.06-.94 2.06-2.06.94z\"/><path d=\"M17.41 7.96l-1.37-1.37c-.4-.4-.92-.59-1.43-.59-.52 0-1.04.2-1.43.59L10.3 9.45l-7.72 7.72c-.78.78-.78 2.05 0 2.83L4 21.41c.39.39.9.59 1.41.59.51 0 1.02-.2 1.41-.59l7.78-7.78 2.81-2.81c.8-.78.8-2.07 0-2.86zM5.41 20L4 18.59l7.72-7.72 1.47 1.35L5.41 20z\"/>\n",
              "  </svg>\n",
              "      </button>\n",
              "      \n",
              "  <style>\n",
              "    .colab-df-container {\n",
              "      display:flex;\n",
              "      flex-wrap:wrap;\n",
              "      gap: 12px;\n",
              "    }\n",
              "\n",
              "    .colab-df-convert {\n",
              "      background-color: #E8F0FE;\n",
              "      border: none;\n",
              "      border-radius: 50%;\n",
              "      cursor: pointer;\n",
              "      display: none;\n",
              "      fill: #1967D2;\n",
              "      height: 32px;\n",
              "      padding: 0 0 0 0;\n",
              "      width: 32px;\n",
              "    }\n",
              "\n",
              "    .colab-df-convert:hover {\n",
              "      background-color: #E2EBFA;\n",
              "      box-shadow: 0px 1px 2px rgba(60, 64, 67, 0.3), 0px 1px 3px 1px rgba(60, 64, 67, 0.15);\n",
              "      fill: #174EA6;\n",
              "    }\n",
              "\n",
              "    [theme=dark] .colab-df-convert {\n",
              "      background-color: #3B4455;\n",
              "      fill: #D2E3FC;\n",
              "    }\n",
              "\n",
              "    [theme=dark] .colab-df-convert:hover {\n",
              "      background-color: #434B5C;\n",
              "      box-shadow: 0px 1px 3px 1px rgba(0, 0, 0, 0.15);\n",
              "      filter: drop-shadow(0px 1px 2px rgba(0, 0, 0, 0.3));\n",
              "      fill: #FFFFFF;\n",
              "    }\n",
              "  </style>\n",
              "\n",
              "      <script>\n",
              "        const buttonEl =\n",
              "          document.querySelector('#df-16dc9cc3-fa7d-468c-8141-f871d04e997c button.colab-df-convert');\n",
              "        buttonEl.style.display =\n",
              "          google.colab.kernel.accessAllowed ? 'block' : 'none';\n",
              "\n",
              "        async function convertToInteractive(key) {\n",
              "          const element = document.querySelector('#df-16dc9cc3-fa7d-468c-8141-f871d04e997c');\n",
              "          const dataTable =\n",
              "            await google.colab.kernel.invokeFunction('convertToInteractive',\n",
              "                                                     [key], {});\n",
              "          if (!dataTable) return;\n",
              "\n",
              "          const docLinkHtml = 'Like what you see? Visit the ' +\n",
              "            '<a target=\"_blank\" href=https://colab.research.google.com/notebooks/data_table.ipynb>data table notebook</a>'\n",
              "            + ' to learn more about interactive tables.';\n",
              "          element.innerHTML = '';\n",
              "          dataTable['output_type'] = 'display_data';\n",
              "          await google.colab.output.renderOutput(dataTable, element);\n",
              "          const docLink = document.createElement('div');\n",
              "          docLink.innerHTML = docLinkHtml;\n",
              "          element.appendChild(docLink);\n",
              "        }\n",
              "      </script>\n",
              "    </div>\n",
              "  </div>\n",
              "  "
            ]
          },
          "metadata": {},
          "execution_count": 6
        }
      ]
    },
    {
      "cell_type": "markdown",
      "source": [
        "Data duplikat tidak ditemukan pada baris manapun dari dataset yang tersedia, maka tidak dibutuhkan proses untuk menangani data duplikat di tahap *data preprocessing*."
      ],
      "metadata": {
        "id": "3BbSSBu9b_F_"
      }
    },
    {
      "cell_type": "markdown",
      "source": [
        "#### Identifying Outliers"
      ],
      "metadata": {
        "id": "_rdMoOcBqimz"
      }
    },
    {
      "cell_type": "code",
      "source": [
        "# Menggunakan boxplot untuk mengecek data outliers dari variabel Sales dan Profit\n",
        "fig,(ax1,ax2) = plt.subplots(ncols=2, figsize=(15,10))\n",
        "sns.boxplot(data=superstore[['Sales']],ax=ax1)\n",
        "ax1.set_title(\"Boxplot of Sales\", fontsize= 20)\n",
        "sns.boxplot(data=superstore[['Profit']],ax=ax2)\n",
        "ax2.set_title(\"Boxplot of Profit\", fontsize= 20)\n",
        "fig.show()"
      ],
      "metadata": {
        "colab": {
          "base_uri": "https://localhost:8080/",
          "height": 612
        },
        "id": "BHONUlSdhbRj",
        "outputId": "340af9ea-928f-4f8a-f858-ffbae1156be8"
      },
      "execution_count": 52,
      "outputs": [
        {
          "output_type": "display_data",
          "data": {
            "text/plain": [
              "<Figure size 1080x720 with 2 Axes>"
            ],
            "image/png": "[encoded data removed]"
          },
          "metadata": {
            "needs_background": "light"
          }
        }
      ]
    },
    {
      "cell_type": "code",
      "source": [
        "# Menggunakan boxplot untuk mengecek data outliers dari variabel Quantity dan Discount\n",
        "fig,(ax1,ax2) = plt.subplots(ncols=2, figsize=(15,10))\n",
        "sns.boxplot(data=superstore[['Quantity']],ax=ax1)\n",
        "ax1.set_title(\"Boxplot of Quantity\", fontsize= 20)\n",
        "sns.boxplot(data=superstore[['Discount']],ax=ax2)\n",
        "ax2.set_title(\"Boxplot of Discount\", fontsize= 20)\n",
        "fig.show()"
      ],
      "metadata": {
        "colab": {
          "base_uri": "https://localhost:8080/",
          "height": 612
        },
        "id": "MpQEHgZwdsH_",
        "outputId": "680cdae8-581e-46c8-9592-970be04155ed"
      },
      "execution_count": 53,
      "outputs": [
        {
          "output_type": "display_data",
          "data": {
            "text/plain": [
              "<Figure size 1080x720 with 2 Axes>"
            ],
            "image/png": "[encoded data removed]"
          },
          "metadata": {
            "needs_background": "light"
          }
        }
      ]
    },
    {
      "cell_type": "markdown",
      "source": [
        "Penentuan suatu nilai *outlier* dapat dilakukan dengan menganalisis nilai batas bawah dan batas atas dari suatu data. Kedua nilai tersebut bergantung pada nilai Rentang Interkuartil (IQR), dimana IQR didapat dengan mengurangi nilai kuartil ketiga (Q3) dengan kuartil pertama (Q1). Nilai batas atas didapat dengan rumus Q3 + 1,5xIQR, sementara batas bawah didapat dengan rumus Q1 - 1,5xIQR. Apabila nilai suatu sampel berada di bawah batas bawah dan di atas batas atas maka termasuk *outlier*."
      ],
      "metadata": {
        "id": "gdrgEqSBpajr"
      }
    },
    {
      "cell_type": "code",
      "source": [
        "# Membuat fungsi untuk menghitung jumlah data outliers yang ada dari setiap variabel numerik\n",
        "def find_outlier(data):\n",
        "    Q1 = np.quantile(data, 0.25)\n",
        "    Q3 = np.quantile(data, 0.75)\n",
        "\n",
        "    IQR = Q3 - Q1\n",
        "    batas_bawah = Q1 - 1.5 * IQR\n",
        "    batas_atas = Q3 + 1.5 * IQR\n",
        "    \n",
        "    outlier = []\n",
        "    for i in range(len(data)):\n",
        "        if data[i] > batas_atas:\n",
        "            outlier.append(data[i])\n",
        "        if data[i] < batas_bawah:\n",
        "            outlier.append(data[i])\n",
        "    return len(outlier)"
      ],
      "metadata": {
        "id": "4jyGQtsUf6Kj"
      },
      "execution_count": 9,
      "outputs": []
    },
    {
      "cell_type": "code",
      "source": [
        "# Menunjukkan jumlah outlier dari setiap variabel numerik \n",
        "var = ['Sales', 'Quantity', 'Discount', 'Profit']\n",
        "\n",
        "for i in var :\n",
        "    list_data = superstore[i].tolist()\n",
        "    print('Jumlah outlier pada variabel {}:'.format(i),find_outlier(list_data),'\\n')"
      ],
      "metadata": {
        "colab": {
          "base_uri": "https://localhost:8080/"
        },
        "id": "QqHd27jQgn1m",
        "outputId": "25436d39-36ca-4ec6-8086-ea11bf95817f"
      },
      "execution_count": 10,
      "outputs": [
        {
          "output_type": "stream",
          "name": "stdout",
          "text": [
            "Jumlah outlier pada variabel Sales: 1167 \n",
            "\n",
            "Jumlah outlier pada variabel Quantity: 170 \n",
            "\n",
            "Jumlah outlier pada variabel Discount: 856 \n",
            "\n",
            "Jumlah outlier pada variabel Profit: 1881 \n",
            "\n"
          ]
        }
      ]
    },
    {
      "cell_type": "markdown",
      "source": [
        "Dari hasil pemeriksaan di atas dapat diketahui bahwa terdapat nilai *outlier* pada variabel **Sales**, **Quantity**, **Discount** dan **Profit**. Dikarenakan nilai *outlier* banyak ditemukan pada dataset dan bukan mengindikasikan nilai yang memang salah atau semua nilai numerik pada kolom tersebut masuk akal dan dalam kisaran yang diharapkan dalam kaitannya dengan studi kasus superstore sehingga *outlier* tidak perlu dihapus."
      ],
      "metadata": {
        "id": "fbSTGiVnezaL"
      }
    },
    {
      "cell_type": "markdown",
      "source": [
        "#### Identifying Data Anomaly"
      ],
      "metadata": {
        "id": "vyMGlAizqsQL"
      }
    },
    {
      "cell_type": "code",
      "source": [
        "# Mengecek nilai anomali pada variabel Sales\n",
        "superstore[superstore['Sales'] <= 0]"
      ],
      "metadata": {
        "colab": {
          "base_uri": "https://localhost:8080/",
          "height": 140
        },
        "id": "-zaO_aQodtai",
        "outputId": "d4287498-75ee-406d-f5a6-c7756b91c0a8"
      },
      "execution_count": 11,
      "outputs": [
        {
          "output_type": "execute_result",
          "data": {
            "text/plain": [
              "Empty DataFrame\n",
              "Columns: [Row ID, Order ID, Order Date, Ship Date, Ship Mode, Customer ID, Customer Name, Segment, Country, City, State, Postal Code, Region, Product ID, Category, Sub-Category, Product Name, Sales, Quantity, Discount, Profit]\n",
              "Index: []\n",
              "\n",
              "[0 rows x 21 columns]"
            ],
            "text/html": [
              "\n",
              "  <div id=\"df-d1bc9145-45b6-49a0-8468-678198942fe8\">\n",
              "    <div class=\"colab-df-container\">\n",
              "      <div>\n",
              "<style scoped>\n",
              "    .dataframe tbody tr th:only-of-type {\n",
              "        vertical-align: middle;\n",
              "    }\n",
              "\n",
              "    .dataframe tbody tr th {\n",
              "        vertical-align: top;\n",
              "    }\n",
              "\n",
              "    .dataframe thead th {\n",
              "        text-align: right;\n",
              "    }\n",
              "</style>\n",
              "<table border=\"1\" class=\"dataframe\">\n",
              "  <thead>\n",
              "    <tr style=\"text-align: right;\">\n",
              "      <th></th>\n",
              "      <th>Row ID</th>\n",
              "      <th>Order ID</th>\n",
              "      <th>Order Date</th>\n",
              "      <th>Ship Date</th>\n",
              "      <th>Ship Mode</th>\n",
              "      <th>Customer ID</th>\n",
              "      <th>Customer Name</th>\n",
              "      <th>Segment</th>\n",
              "      <th>Country</th>\n",
              "      <th>City</th>\n",
              "      <th>...</th>\n",
              "      <th>Postal Code</th>\n",
              "      <th>Region</th>\n",
              "      <th>Product ID</th>\n",
              "      <th>Category</th>\n",
              "      <th>Sub-Category</th>\n",
              "      <th>Product Name</th>\n",
              "      <th>Sales</th>\n",
              "      <th>Quantity</th>\n",
              "      <th>Discount</th>\n",
              "      <th>Profit</th>\n",
              "    </tr>\n",
              "  </thead>\n",
              "  <tbody>\n",
              "  </tbody>\n",
              "</table>\n",
              "<p>0 rows × 21 columns</p>\n",
              "</div>\n",
              "      <button class=\"colab-df-convert\" onclick=\"convertToInteractive('df-d1bc9145-45b6-49a0-8468-678198942fe8')\"\n",
              "              title=\"Convert this dataframe to an interactive table.\"\n",
              "              style=\"display:none;\">\n",
              "        \n",
              "  <svg xmlns=\"http://www.w3.org/2000/svg\" height=\"24px\"viewBox=\"0 0 24 24\"\n",
              "       width=\"24px\">\n",
              "    <path d=\"M0 0h24v24H0V0z\" fill=\"none\"/>\n",
              "    <path d=\"M18.56 5.44l.94 2.06.94-2.06 2.06-.94-2.06-.94-.94-2.06-.94 2.06-2.06.94zm-11 1L8.5 8.5l.94-2.06 2.06-.94-2.06-.94L8.5 2.5l-.94 2.06-2.06.94zm10 10l.94 2.06.94-2.06 2.06-.94-2.06-.94-.94-2.06-.94 2.06-2.06.94z\"/><path d=\"M17.41 7.96l-1.37-1.37c-.4-.4-.92-.59-1.43-.59-.52 0-1.04.2-1.43.59L10.3 9.45l-7.72 7.72c-.78.78-.78 2.05 0 2.83L4 21.41c.39.39.9.59 1.41.59.51 0 1.02-.2 1.41-.59l7.78-7.78 2.81-2.81c.8-.78.8-2.07 0-2.86zM5.41 20L4 18.59l7.72-7.72 1.47 1.35L5.41 20z\"/>\n",
              "  </svg>\n",
              "      </button>\n",
              "      \n",
              "  <style>\n",
              "    .colab-df-container {\n",
              "      display:flex;\n",
              "      flex-wrap:wrap;\n",
              "      gap: 12px;\n",
              "    }\n",
              "\n",
              "    .colab-df-convert {\n",
              "      background-color: #E8F0FE;\n",
              "      border: none;\n",
              "      border-radius: 50%;\n",
              "      cursor: pointer;\n",
              "      display: none;\n",
              "      fill: #1967D2;\n",
              "      height: 32px;\n",
              "      padding: 0 0 0 0;\n",
              "      width: 32px;\n",
              "    }\n",
              "\n",
              "    .colab-df-convert:hover {\n",
              "      background-color: #E2EBFA;\n",
              "      box-shadow: 0px 1px 2px rgba(60, 64, 67, 0.3), 0px 1px 3px 1px rgba(60, 64, 67, 0.15);\n",
              "      fill: #174EA6;\n",
              "    }\n",
              "\n",
              "    [theme=dark] .colab-df-convert {\n",
              "      background-color: #3B4455;\n",
              "      fill: #D2E3FC;\n",
              "    }\n",
              "\n",
              "    [theme=dark] .colab-df-convert:hover {\n",
              "      background-color: #434B5C;\n",
              "      box-shadow: 0px 1px 3px 1px rgba(0, 0, 0, 0.15);\n",
              "      filter: drop-shadow(0px 1px 2px rgba(0, 0, 0, 0.3));\n",
              "      fill: #FFFFFF;\n",
              "    }\n",
              "  </style>\n",
              "\n",
              "      <script>\n",
              "        const buttonEl =\n",
              "          document.querySelector('#df-d1bc9145-45b6-49a0-8468-678198942fe8 button.colab-df-convert');\n",
              "        buttonEl.style.display =\n",
              "          google.colab.kernel.accessAllowed ? 'block' : 'none';\n",
              "\n",
              "        async function convertToInteractive(key) {\n",
              "          const element = document.querySelector('#df-d1bc9145-45b6-49a0-8468-678198942fe8');\n",
              "          const dataTable =\n",
              "            await google.colab.kernel.invokeFunction('convertToInteractive',\n",
              "                                                     [key], {});\n",
              "          if (!dataTable) return;\n",
              "\n",
              "          const docLinkHtml = 'Like what you see? Visit the ' +\n",
              "            '<a target=\"_blank\" href=https://colab.research.google.com/notebooks/data_table.ipynb>data table notebook</a>'\n",
              "            + ' to learn more about interactive tables.';\n",
              "          element.innerHTML = '';\n",
              "          dataTable['output_type'] = 'display_data';\n",
              "          await google.colab.output.renderOutput(dataTable, element);\n",
              "          const docLink = document.createElement('div');\n",
              "          docLink.innerHTML = docLinkHtml;\n",
              "          element.appendChild(docLink);\n",
              "        }\n",
              "      </script>\n",
              "    </div>\n",
              "  </div>\n",
              "  "
            ]
          },
          "metadata": {},
          "execution_count": 11
        }
      ]
    },
    {
      "cell_type": "code",
      "source": [
        "# Mengecek nilai anomali pada variabel Quantity\n",
        "superstore[superstore['Quantity'] <= 0]"
      ],
      "metadata": {
        "colab": {
          "base_uri": "https://localhost:8080/",
          "height": 140
        },
        "id": "RXY_-DTlZkWt",
        "outputId": "94efcea1-7c24-4bf8-ebf8-657658ffb7fb"
      },
      "execution_count": 12,
      "outputs": [
        {
          "output_type": "execute_result",
          "data": {
            "text/plain": [
              "Empty DataFrame\n",
              "Columns: [Row ID, Order ID, Order Date, Ship Date, Ship Mode, Customer ID, Customer Name, Segment, Country, City, State, Postal Code, Region, Product ID, Category, Sub-Category, Product Name, Sales, Quantity, Discount, Profit]\n",
              "Index: []\n",
              "\n",
              "[0 rows x 21 columns]"
            ],
            "text/html": [
              "\n",
              "  <div id=\"df-e9bc441c-0704-4b15-8f65-d98cd690420b\">\n",
              "    <div class=\"colab-df-container\">\n",
              "      <div>\n",
              "<style scoped>\n",
              "    .dataframe tbody tr th:only-of-type {\n",
              "        vertical-align: middle;\n",
              "    }\n",
              "\n",
              "    .dataframe tbody tr th {\n",
              "        vertical-align: top;\n",
              "    }\n",
              "\n",
              "    .dataframe thead th {\n",
              "        text-align: right;\n",
              "    }\n",
              "</style>\n",
              "<table border=\"1\" class=\"dataframe\">\n",
              "  <thead>\n",
              "    <tr style=\"text-align: right;\">\n",
              "      <th></th>\n",
              "      <th>Row ID</th>\n",
              "      <th>Order ID</th>\n",
              "      <th>Order Date</th>\n",
              "      <th>Ship Date</th>\n",
              "      <th>Ship Mode</th>\n",
              "      <th>Customer ID</th>\n",
              "      <th>Customer Name</th>\n",
              "      <th>Segment</th>\n",
              "      <th>Country</th>\n",
              "      <th>City</th>\n",
              "      <th>...</th>\n",
              "      <th>Postal Code</th>\n",
              "      <th>Region</th>\n",
              "      <th>Product ID</th>\n",
              "      <th>Category</th>\n",
              "      <th>Sub-Category</th>\n",
              "      <th>Product Name</th>\n",
              "      <th>Sales</th>\n",
              "      <th>Quantity</th>\n",
              "      <th>Discount</th>\n",
              "      <th>Profit</th>\n",
              "    </tr>\n",
              "  </thead>\n",
              "  <tbody>\n",
              "  </tbody>\n",
              "</table>\n",
              "<p>0 rows × 21 columns</p>\n",
              "</div>\n",
              "      <button class=\"colab-df-convert\" onclick=\"convertToInteractive('df-e9bc441c-0704-4b15-8f65-d98cd690420b')\"\n",
              "              title=\"Convert this dataframe to an interactive table.\"\n",
              "              style=\"display:none;\">\n",
              "        \n",
              "  <svg xmlns=\"http://www.w3.org/2000/svg\" height=\"24px\"viewBox=\"0 0 24 24\"\n",
              "       width=\"24px\">\n",
              "    <path d=\"M0 0h24v24H0V0z\" fill=\"none\"/>\n",
              "    <path d=\"M18.56 5.44l.94 2.06.94-2.06 2.06-.94-2.06-.94-.94-2.06-.94 2.06-2.06.94zm-11 1L8.5 8.5l.94-2.06 2.06-.94-2.06-.94L8.5 2.5l-.94 2.06-2.06.94zm10 10l.94 2.06.94-2.06 2.06-.94-2.06-.94-.94-2.06-.94 2.06-2.06.94z\"/><path d=\"M17.41 7.96l-1.37-1.37c-.4-.4-.92-.59-1.43-.59-.52 0-1.04.2-1.43.59L10.3 9.45l-7.72 7.72c-.78.78-.78 2.05 0 2.83L4 21.41c.39.39.9.59 1.41.59.51 0 1.02-.2 1.41-.59l7.78-7.78 2.81-2.81c.8-.78.8-2.07 0-2.86zM5.41 20L4 18.59l7.72-7.72 1.47 1.35L5.41 20z\"/>\n",
              "  </svg>\n",
              "      </button>\n",
              "      \n",
              "  <style>\n",
              "    .colab-df-container {\n",
              "      display:flex;\n",
              "      flex-wrap:wrap;\n",
              "      gap: 12px;\n",
              "    }\n",
              "\n",
              "    .colab-df-convert {\n",
              "      background-color: #E8F0FE;\n",
              "      border: none;\n",
              "      border-radius: 50%;\n",
              "      cursor: pointer;\n",
              "      display: none;\n",
              "      fill: #1967D2;\n",
              "      height: 32px;\n",
              "      padding: 0 0 0 0;\n",
              "      width: 32px;\n",
              "    }\n",
              "\n",
              "    .colab-df-convert:hover {\n",
              "      background-color: #E2EBFA;\n",
              "      box-shadow: 0px 1px 2px rgba(60, 64, 67, 0.3), 0px 1px 3px 1px rgba(60, 64, 67, 0.15);\n",
              "      fill: #174EA6;\n",
              "    }\n",
              "\n",
              "    [theme=dark] .colab-df-convert {\n",
              "      background-color: #3B4455;\n",
              "      fill: #D2E3FC;\n",
              "    }\n",
              "\n",
              "    [theme=dark] .colab-df-convert:hover {\n",
              "      background-color: #434B5C;\n",
              "      box-shadow: 0px 1px 3px 1px rgba(0, 0, 0, 0.15);\n",
              "      filter: drop-shadow(0px 1px 2px rgba(0, 0, 0, 0.3));\n",
              "      fill: #FFFFFF;\n",
              "    }\n",
              "  </style>\n",
              "\n",
              "      <script>\n",
              "        const buttonEl =\n",
              "          document.querySelector('#df-e9bc441c-0704-4b15-8f65-d98cd690420b button.colab-df-convert');\n",
              "        buttonEl.style.display =\n",
              "          google.colab.kernel.accessAllowed ? 'block' : 'none';\n",
              "\n",
              "        async function convertToInteractive(key) {\n",
              "          const element = document.querySelector('#df-e9bc441c-0704-4b15-8f65-d98cd690420b');\n",
              "          const dataTable =\n",
              "            await google.colab.kernel.invokeFunction('convertToInteractive',\n",
              "                                                     [key], {});\n",
              "          if (!dataTable) return;\n",
              "\n",
              "          const docLinkHtml = 'Like what you see? Visit the ' +\n",
              "            '<a target=\"_blank\" href=https://colab.research.google.com/notebooks/data_table.ipynb>data table notebook</a>'\n",
              "            + ' to learn more about interactive tables.';\n",
              "          element.innerHTML = '';\n",
              "          dataTable['output_type'] = 'display_data';\n",
              "          await google.colab.output.renderOutput(dataTable, element);\n",
              "          const docLink = document.createElement('div');\n",
              "          docLink.innerHTML = docLinkHtml;\n",
              "          element.appendChild(docLink);\n",
              "        }\n",
              "      </script>\n",
              "    </div>\n",
              "  </div>\n",
              "  "
            ]
          },
          "metadata": {},
          "execution_count": 12
        }
      ]
    },
    {
      "cell_type": "markdown",
      "source": [
        "Pengecekan nilai anomali pada variabel **Sales** dan **Quantity** dilakukan dengan mencari nilai yang kurang atau sama dengan nol. Apabila variabel **Sales** dan **Quantity** ada yang bernilai nol atau minus maka dipastikan ada kesalahan pada data. Hasil pengecekan pada variabel **Sales** dan **Quantity** ternyata tidak ditemukan nilai anomali."
      ],
      "metadata": {
        "id": "9lkuSiocawoy"
      }
    },
    {
      "cell_type": "markdown",
      "source": [
        "### Fixing Dataset\n",
        "Memperbaiki dataset dengan cara menghapus kolom yang tidak dibutuhkan dan mengubah tipe data dengan yang sesuai."
      ],
      "metadata": {
        "id": "D01Lpcx3iBEK"
      }
    },
    {
      "cell_type": "code",
      "source": [
        "# Menghapus kolom yang tidak diperlukan karena mengandung informasi yang tidak dibutuhkan\n",
        "df_superstore = superstore.drop(columns=['Row ID','Country'], axis=1)\n",
        "\n",
        "# Menampilkan kolom terbaru setelah diubah\n",
        "df_superstore.head()"
      ],
      "metadata": {
        "colab": {
          "base_uri": "https://localhost:8080/",
          "height": 563
        },
        "id": "uwsPMZtAhNOe",
        "outputId": "1fcd63ee-8034-4ae2-ddf3-58537790f788"
      },
      "execution_count": 13,
      "outputs": [
        {
          "output_type": "execute_result",
          "data": {
            "text/plain": [
              "         Order ID  Order Date   Ship Date       Ship Mode Customer ID  \\\n",
              "0  CA-2016-152156   11/8/2016  11/11/2016    Second Class    CG-12520   \n",
              "1  CA-2016-152156   11/8/2016  11/11/2016    Second Class    CG-12520   \n",
              "2  CA-2016-138688   6/12/2016   6/16/2016    Second Class    DV-13045   \n",
              "3  US-2015-108966  10/11/2015  10/18/2015  Standard Class    SO-20335   \n",
              "4  US-2015-108966  10/11/2015  10/18/2015  Standard Class    SO-20335   \n",
              "\n",
              "     Customer Name    Segment             City       State  Postal Code  \\\n",
              "0      Claire Gute   Consumer        Henderson    Kentucky        42420   \n",
              "1      Claire Gute   Consumer        Henderson    Kentucky        42420   \n",
              "2  Darrin Van Huff  Corporate      Los Angeles  California        90036   \n",
              "3   Sean O'Donnell   Consumer  Fort Lauderdale     Florida        33311   \n",
              "4   Sean O'Donnell   Consumer  Fort Lauderdale     Florida        33311   \n",
              "\n",
              "  Region       Product ID         Category Sub-Category  \\\n",
              "0  South  FUR-BO-10001798        Furniture    Bookcases   \n",
              "1  South  FUR-CH-10000454        Furniture       Chairs   \n",
              "2   West  OFF-LA-10000240  Office Supplies       Labels   \n",
              "3  South  FUR-TA-10000577        Furniture       Tables   \n",
              "4  South  OFF-ST-10000760  Office Supplies      Storage   \n",
              "\n",
              "                                        Product Name     Sales  Quantity  \\\n",
              "0                  Bush Somerset Collection Bookcase  261.9600         2   \n",
              "1  Hon Deluxe Fabric Upholstered Stacking Chairs,...  731.9400         3   \n",
              "2  Self-Adhesive Address Labels for Typewriters b...   14.6200         2   \n",
              "3      Bretford CR4500 Series Slim Rectangular Table  957.5775         5   \n",
              "4                     Eldon Fold 'N Roll Cart System   22.3680         2   \n",
              "\n",
              "   Discount    Profit  \n",
              "0      0.00   41.9136  \n",
              "1      0.00  219.5820  \n",
              "2      0.00    6.8714  \n",
              "3      0.45 -383.0310  \n",
              "4      0.20    2.5164  "
            ],
            "text/html": [
              "\n",
              "  <div id=\"df-4ea3fd5f-861e-430b-9a2c-fa0908de3bdd\">\n",
              "    <div class=\"colab-df-container\">\n",
              "      <div>\n",
              "<style scoped>\n",
              "    .dataframe tbody tr th:only-of-type {\n",
              "        vertical-align: middle;\n",
              "    }\n",
              "\n",
              "    .dataframe tbody tr th {\n",
              "        vertical-align: top;\n",
              "    }\n",
              "\n",
              "    .dataframe thead th {\n",
              "        text-align: right;\n",
              "    }\n",
              "</style>\n",
              "<table border=\"1\" class=\"dataframe\">\n",
              "  <thead>\n",
              "    <tr style=\"text-align: right;\">\n",
              "      <th></th>\n",
              "      <th>Order ID</th>\n",
              "      <th>Order Date</th>\n",
              "      <th>Ship Date</th>\n",
              "      <th>Ship Mode</th>\n",
              "      <th>Customer ID</th>\n",
              "      <th>Customer Name</th>\n",
              "      <th>Segment</th>\n",
              "      <th>City</th>\n",
              "      <th>State</th>\n",
              "      <th>Postal Code</th>\n",
              "      <th>Region</th>\n",
              "      <th>Product ID</th>\n",
              "      <th>Category</th>\n",
              "      <th>Sub-Category</th>\n",
              "      <th>Product Name</th>\n",
              "      <th>Sales</th>\n",
              "      <th>Quantity</th>\n",
              "      <th>Discount</th>\n",
              "      <th>Profit</th>\n",
              "    </tr>\n",
              "  </thead>\n",
              "  <tbody>\n",
              "    <tr>\n",
              "      <th>0</th>\n",
              "      <td>CA-2016-152156</td>\n",
              "      <td>11/8/2016</td>\n",
              "      <td>11/11/2016</td>\n",
              "      <td>Second Class</td>\n",
              "      <td>CG-12520</td>\n",
              "      <td>Claire Gute</td>\n",
              "      <td>Consumer</td>\n",
              "      <td>Henderson</td>\n",
              "      <td>Kentucky</td>\n",
              "      <td>42420</td>\n",
              "      <td>South</td>\n",
              "      <td>FUR-BO-10001798</td>\n",
              "      <td>Furniture</td>\n",
              "      <td>Bookcases</td>\n",
              "      <td>Bush Somerset Collection Bookcase</td>\n",
              "      <td>261.9600</td>\n",
              "      <td>2</td>\n",
              "      <td>0.00</td>\n",
              "      <td>41.9136</td>\n",
              "    </tr>\n",
              "    <tr>\n",
              "      <th>1</th>\n",
              "      <td>CA-2016-152156</td>\n",
              "      <td>11/8/2016</td>\n",
              "      <td>11/11/2016</td>\n",
              "      <td>Second Class</td>\n",
              "      <td>CG-12520</td>\n",
              "      <td>Claire Gute</td>\n",
              "      <td>Consumer</td>\n",
              "      <td>Henderson</td>\n",
              "      <td>Kentucky</td>\n",
              "      <td>42420</td>\n",
              "      <td>South</td>\n",
              "      <td>FUR-CH-10000454</td>\n",
              "      <td>Furniture</td>\n",
              "      <td>Chairs</td>\n",
              "      <td>Hon Deluxe Fabric Upholstered Stacking Chairs,...</td>\n",
              "      <td>731.9400</td>\n",
              "      <td>3</td>\n",
              "      <td>0.00</td>\n",
              "      <td>219.5820</td>\n",
              "    </tr>\n",
              "    <tr>\n",
              "      <th>2</th>\n",
              "      <td>CA-2016-138688</td>\n",
              "      <td>6/12/2016</td>\n",
              "      <td>6/16/2016</td>\n",
              "      <td>Second Class</td>\n",
              "      <td>DV-13045</td>\n",
              "      <td>Darrin Van Huff</td>\n",
              "      <td>Corporate</td>\n",
              "      <td>Los Angeles</td>\n",
              "      <td>California</td>\n",
              "      <td>90036</td>\n",
              "      <td>West</td>\n",
              "      <td>OFF-LA-10000240</td>\n",
              "      <td>Office Supplies</td>\n",
              "      <td>Labels</td>\n",
              "      <td>Self-Adhesive Address Labels for Typewriters b...</td>\n",
              "      <td>14.6200</td>\n",
              "      <td>2</td>\n",
              "      <td>0.00</td>\n",
              "      <td>6.8714</td>\n",
              "    </tr>\n",
              "    <tr>\n",
              "      <th>3</th>\n",
              "      <td>US-2015-108966</td>\n",
              "      <td>10/11/2015</td>\n",
              "      <td>10/18/2015</td>\n",
              "      <td>Standard Class</td>\n",
              "      <td>SO-20335</td>\n",
              "      <td>Sean O'Donnell</td>\n",
              "      <td>Consumer</td>\n",
              "      <td>Fort Lauderdale</td>\n",
              "      <td>Florida</td>\n",
              "      <td>33311</td>\n",
              "      <td>South</td>\n",
              "      <td>FUR-TA-10000577</td>\n",
              "      <td>Furniture</td>\n",
              "      <td>Tables</td>\n",
              "      <td>Bretford CR4500 Series Slim Rectangular Table</td>\n",
              "      <td>957.5775</td>\n",
              "      <td>5</td>\n",
              "      <td>0.45</td>\n",
              "      <td>-383.0310</td>\n",
              "    </tr>\n",
              "    <tr>\n",
              "      <th>4</th>\n",
              "      <td>US-2015-108966</td>\n",
              "      <td>10/11/2015</td>\n",
              "      <td>10/18/2015</td>\n",
              "      <td>Standard Class</td>\n",
              "      <td>SO-20335</td>\n",
              "      <td>Sean O'Donnell</td>\n",
              "      <td>Consumer</td>\n",
              "      <td>Fort Lauderdale</td>\n",
              "      <td>Florida</td>\n",
              "      <td>33311</td>\n",
              "      <td>South</td>\n",
              "      <td>OFF-ST-10000760</td>\n",
              "      <td>Office Supplies</td>\n",
              "      <td>Storage</td>\n",
              "      <td>Eldon Fold 'N Roll Cart System</td>\n",
              "      <td>22.3680</td>\n",
              "      <td>2</td>\n",
              "      <td>0.20</td>\n",
              "      <td>2.5164</td>\n",
              "    </tr>\n",
              "  </tbody>\n",
              "</table>\n",
              "</div>\n",
              "      <button class=\"colab-df-convert\" onclick=\"convertToInteractive('df-4ea3fd5f-861e-430b-9a2c-fa0908de3bdd')\"\n",
              "              title=\"Convert this dataframe to an interactive table.\"\n",
              "              style=\"display:none;\">\n",
              "        \n",
              "  <svg xmlns=\"http://www.w3.org/2000/svg\" height=\"24px\"viewBox=\"0 0 24 24\"\n",
              "       width=\"24px\">\n",
              "    <path d=\"M0 0h24v24H0V0z\" fill=\"none\"/>\n",
              "    <path d=\"M18.56 5.44l.94 2.06.94-2.06 2.06-.94-2.06-.94-.94-2.06-.94 2.06-2.06.94zm-11 1L8.5 8.5l.94-2.06 2.06-.94-2.06-.94L8.5 2.5l-.94 2.06-2.06.94zm10 10l.94 2.06.94-2.06 2.06-.94-2.06-.94-.94-2.06-.94 2.06-2.06.94z\"/><path d=\"M17.41 7.96l-1.37-1.37c-.4-.4-.92-.59-1.43-.59-.52 0-1.04.2-1.43.59L10.3 9.45l-7.72 7.72c-.78.78-.78 2.05 0 2.83L4 21.41c.39.39.9.59 1.41.59.51 0 1.02-.2 1.41-.59l7.78-7.78 2.81-2.81c.8-.78.8-2.07 0-2.86zM5.41 20L4 18.59l7.72-7.72 1.47 1.35L5.41 20z\"/>\n",
              "  </svg>\n",
              "      </button>\n",
              "      \n",
              "  <style>\n",
              "    .colab-df-container {\n",
              "      display:flex;\n",
              "      flex-wrap:wrap;\n",
              "      gap: 12px;\n",
              "    }\n",
              "\n",
              "    .colab-df-convert {\n",
              "      background-color: #E8F0FE;\n",
              "      border: none;\n",
              "      border-radius: 50%;\n",
              "      cursor: pointer;\n",
              "      display: none;\n",
              "      fill: #1967D2;\n",
              "      height: 32px;\n",
              "      padding: 0 0 0 0;\n",
              "      width: 32px;\n",
              "    }\n",
              "\n",
              "    .colab-df-convert:hover {\n",
              "      background-color: #E2EBFA;\n",
              "      box-shadow: 0px 1px 2px rgba(60, 64, 67, 0.3), 0px 1px 3px 1px rgba(60, 64, 67, 0.15);\n",
              "      fill: #174EA6;\n",
              "    }\n",
              "\n",
              "    [theme=dark] .colab-df-convert {\n",
              "      background-color: #3B4455;\n",
              "      fill: #D2E3FC;\n",
              "    }\n",
              "\n",
              "    [theme=dark] .colab-df-convert:hover {\n",
              "      background-color: #434B5C;\n",
              "      box-shadow: 0px 1px 3px 1px rgba(0, 0, 0, 0.15);\n",
              "      filter: drop-shadow(0px 1px 2px rgba(0, 0, 0, 0.3));\n",
              "      fill: #FFFFFF;\n",
              "    }\n",
              "  </style>\n",
              "\n",
              "      <script>\n",
              "        const buttonEl =\n",
              "          document.querySelector('#df-4ea3fd5f-861e-430b-9a2c-fa0908de3bdd button.colab-df-convert');\n",
              "        buttonEl.style.display =\n",
              "          google.colab.kernel.accessAllowed ? 'block' : 'none';\n",
              "\n",
              "        async function convertToInteractive(key) {\n",
              "          const element = document.querySelector('#df-4ea3fd5f-861e-430b-9a2c-fa0908de3bdd');\n",
              "          const dataTable =\n",
              "            await google.colab.kernel.invokeFunction('convertToInteractive',\n",
              "                                                     [key], {});\n",
              "          if (!dataTable) return;\n",
              "\n",
              "          const docLinkHtml = 'Like what you see? Visit the ' +\n",
              "            '<a target=\"_blank\" href=https://colab.research.google.com/notebooks/data_table.ipynb>data table notebook</a>'\n",
              "            + ' to learn more about interactive tables.';\n",
              "          element.innerHTML = '';\n",
              "          dataTable['output_type'] = 'display_data';\n",
              "          await google.colab.output.renderOutput(dataTable, element);\n",
              "          const docLink = document.createElement('div');\n",
              "          docLink.innerHTML = docLinkHtml;\n",
              "          element.appendChild(docLink);\n",
              "        }\n",
              "      </script>\n",
              "    </div>\n",
              "  </div>\n",
              "  "
            ]
          },
          "metadata": {},
          "execution_count": 13
        }
      ]
    },
    {
      "cell_type": "markdown",
      "source": [
        "Dari dataset di atas ada dua kolom yang dihapus yaitu **Row ID** dan **Country**. Kolom **Row ID** dihapus karena hanya berisi nomor baris yang tidak diperlukan. Sedangkan kolom **Country** dihapus karena semua catatan transaksi menunjukkan negara yang sama yaitu *United States* sehingga kolom ini dirasa tidak diperlukan."
      ],
      "metadata": {
        "id": "dfakl9BVVgiW"
      }
    },
    {
      "cell_type": "code",
      "source": [
        "# Mengganti tipe data dari variabel Order Date dan Ship Date\n",
        "df_superstore['Order Date'] = pd.to_datetime(df_superstore['Order Date'])\n",
        "df_superstore['Ship Date'] = pd.to_datetime(df_superstore['Ship Date'])\n",
        "\n",
        "# Menampilkan informasi terbaru dari tipe data di dalam dataset\n",
        "df_superstore.info()"
      ],
      "metadata": {
        "colab": {
          "base_uri": "https://localhost:8080/"
        },
        "id": "y1ycvzKdkKW4",
        "outputId": "8b87ea4d-6190-46a1-b95b-ba3cdb59ac4d"
      },
      "execution_count": 14,
      "outputs": [
        {
          "output_type": "stream",
          "name": "stdout",
          "text": [
            "<class 'pandas.core.frame.DataFrame'>\n",
            "RangeIndex: 9994 entries, 0 to 9993\n",
            "Data columns (total 19 columns):\n",
            " #   Column         Non-Null Count  Dtype         \n",
            "---  ------         --------------  -----         \n",
            " 0   Order ID       9994 non-null   object        \n",
            " 1   Order Date     9994 non-null   datetime64[ns]\n",
            " 2   Ship Date      9994 non-null   datetime64[ns]\n",
            " 3   Ship Mode      9994 non-null   object        \n",
            " 4   Customer ID    9994 non-null   object        \n",
            " 5   Customer Name  9994 non-null   object        \n",
            " 6   Segment        9994 non-null   object        \n",
            " 7   City           9994 non-null   object        \n",
            " 8   State          9994 non-null   object        \n",
            " 9   Postal Code    9994 non-null   int64         \n",
            " 10  Region         9994 non-null   object        \n",
            " 11  Product ID     9994 non-null   object        \n",
            " 12  Category       9994 non-null   object        \n",
            " 13  Sub-Category   9994 non-null   object        \n",
            " 14  Product Name   9994 non-null   object        \n",
            " 15  Sales          9994 non-null   float64       \n",
            " 16  Quantity       9994 non-null   int64         \n",
            " 17  Discount       9994 non-null   float64       \n",
            " 18  Profit         9994 non-null   float64       \n",
            "dtypes: datetime64[ns](2), float64(3), int64(2), object(12)\n",
            "memory usage: 1.4+ MB\n"
          ]
        }
      ]
    },
    {
      "cell_type": "markdown",
      "source": [
        "Pada dataset superstore, variabel **Order Date** dan **Ship Date** kita ubah tipe datanya menjadi tipe datetime supaya mudah digunakan dalam analisis data berikutnya."
      ],
      "metadata": {
        "id": "zxRLCKn4lvzN"
      }
    },
    {
      "cell_type": "markdown",
      "source": [
        "## Exploratory Data Analysis"
      ],
      "metadata": {
        "id": "W6Fc6OVeuuH0"
      }
    },
    {
      "cell_type": "markdown",
      "source": [
        "### Data Distribution\n",
        "Memvisualisasikan dan mengamati distribusi data pada variabel numerik dengan menggunakan histogram."
      ],
      "metadata": {
        "id": "vEr_rvmvu2wv"
      }
    },
    {
      "cell_type": "code",
      "source": [
        "# Memvisualisasikan distribusi variabel dengan membuat histogram untuk Sales\n",
        "plt.figure(figsize = (20,10))\n",
        "sns.histplot(data=df_superstore, x='Sales', bins=100, color='darkgreen', kde=True).set_title('Sales Distribution', fontsize=20)\n",
        "plt.xlabel('Sales (in USD)')\n",
        "plt.ylabel('Frequency')\n",
        "plt.show()"
      ],
      "metadata": {
        "id": "l08lxzcOkvQq",
        "colab": {
          "base_uri": "https://localhost:8080/",
          "height": 627
        },
        "outputId": "0872a4b0-137d-4fac-fd0d-c4b5819f8e07"
      },
      "execution_count": 15,
      "outputs": [
        {
          "output_type": "display_data",
          "data": {
            "text/plain": [
              "<Figure size 1440x720 with 1 Axes>"
            ],
            "image/png": "[encoded data removed]"
          },
          "metadata": {
            "needs_background": "light"
          }
        }
      ]
    },
    {
      "cell_type": "code",
      "source": [
        "# Memvisualisasikan distribusi variabel dengan membuat histogram untuk Profit\n",
        "plt.figure(figsize = (20,10))\n",
        "sns.histplot(data=df_superstore, x='Profit', bins=100, color='yellow', kde=True).set_title('Profit Distribution', fontsize=20)\n",
        "plt.xlabel('Profit (in USD)')\n",
        "plt.ylabel('Frequency')\n",
        "plt.show()"
      ],
      "metadata": {
        "colab": {
          "base_uri": "https://localhost:8080/",
          "height": 627
        },
        "id": "5iPDIN6qyhN8",
        "outputId": "3cc7bf10-7589-467b-ce79-c28dfdd5b91d"
      },
      "execution_count": 16,
      "outputs": [
        {
          "output_type": "display_data",
          "data": {
            "text/plain": [
              "<Figure size 1440x720 with 1 Axes>"
            ],
            "image/png": "[encoded data removed]"
          },
          "metadata": {
            "needs_background": "light"
          }
        }
      ]
    },
    {
      "cell_type": "code",
      "source": [
        "# Memvisualisasikan distribusi variabel dengan membuat histogram untuk Quantity\n",
        "plt.figure(figsize = (20,10))\n",
        "sns.histplot(data=df_superstore, x='Quantity', bins=10, color='navy', kde=True).set_title('Quantity Distribution', fontsize=20)\n",
        "plt.xlabel('Quantity')\n",
        "plt.ylabel('Frequency')\n",
        "plt.show()"
      ],
      "metadata": {
        "colab": {
          "base_uri": "https://localhost:8080/",
          "height": 627
        },
        "id": "IMK-FsklygxA",
        "outputId": "3e9b0c7b-acb1-459c-ab48-2a220ac1652b"
      },
      "execution_count": 17,
      "outputs": [
        {
          "output_type": "display_data",
          "data": {
            "text/plain": [
              "<Figure size 1440x720 with 1 Axes>"
            ],
            "image/png": "[encoded data removed]"
          },
          "metadata": {
            "needs_background": "light"
          }
        }
      ]
    },
    {
      "cell_type": "code",
      "source": [
        "# Memvisualisasikan distribusi variabel dengan membuat histogram untuk jumlah pengguna total\n",
        "plt.figure(figsize = (20,10))\n",
        "sns.histplot(data=df_superstore, x='Discount', bins=10, color='red', kde=True).set_title('Discount Distribution', fontsize=20)\n",
        "plt.xlabel('Discount')\n",
        "plt.ylabel('Frequency')\n",
        "plt.show()"
      ],
      "metadata": {
        "colab": {
          "base_uri": "https://localhost:8080/",
          "height": 627
        },
        "id": "p83dLN5mygc9",
        "outputId": "095bfb68-fedc-4e48-d484-1478da9bc786"
      },
      "execution_count": 18,
      "outputs": [
        {
          "output_type": "display_data",
          "data": {
            "text/plain": [
              "<Figure size 1440x720 with 1 Axes>"
            ],
            "image/png": "[encoded data removed]"
          },
          "metadata": {
            "needs_background": "light"
          }
        }
      ]
    },
    {
      "cell_type": "code",
      "source": [
        "# Menggunakan uji Shapiro Wilk untuk menentukan distribusi data apakah terdistribusi normal atau tidak\n",
        "for i in ['Sales','Profit','Quantity','Discount']:\n",
        "  sw_statistic, sw_pvalue = shapiro(df_superstore[i])\n",
        "  print('Hasil uji variabel {}:'.format(i))\n",
        "  if sw_pvalue > 0.05 :\n",
        "    print(f'P-Value : {sw_pvalue}. Kita berasumsi data terdistribusi normal.\\n')\n",
        "  else :\n",
        "    print(f'P-Value : {sw_pvalue}. Kita berasumsi data tidak terdistribusi normal.\\n')"
      ],
      "metadata": {
        "colab": {
          "base_uri": "https://localhost:8080/"
        },
        "id": "7BCHUIWz5IYB",
        "outputId": "c4d27526-ce4e-4aba-e949-2a4663a8bf47"
      },
      "execution_count": 19,
      "outputs": [
        {
          "output_type": "stream",
          "name": "stdout",
          "text": [
            "Hasil uji variabel Sales:\n",
            "P-Value : 0.0. Kita berasumsi data tidak terdistribusi normal.\n",
            "\n",
            "Hasil uji variabel Profit:\n",
            "P-Value : 0.0. Kita berasumsi data tidak terdistribusi normal.\n",
            "\n",
            "Hasil uji variabel Quantity:\n",
            "P-Value : 0.0. Kita berasumsi data tidak terdistribusi normal.\n",
            "\n",
            "Hasil uji variabel Discount:\n",
            "P-Value : 0.0. Kita berasumsi data tidak terdistribusi normal.\n",
            "\n"
          ]
        }
      ]
    },
    {
      "cell_type": "markdown",
      "source": [
        "Berdasarkan analisis histogram, bentuk grafik data **Sales**, **Profit**, **Quantity** dan **Discount** tidak menunjukkan *bell shape* dan memiliki beberapa puncak, dapat dikatakan data untuk keempat variabel tersebut **tidak terdistribusi normal**. Hal ini diperkuat dengan hasil uji statistik berupa uji Shapiro Wilk dimana keempat variabel tersebut memmiliki nilai p-value yang lebih kecil dari 0.05."
      ],
      "metadata": {
        "id": "uxorel3gBVdo"
      }
    },
    {
      "cell_type": "markdown",
      "source": [
        "### Data Cardinalities\n",
        "Mengecek apakah ada kardinalitas yang tinggi dari variabel kategorik di dalam dataset yang tersedia. Kardinalitas merupakan jumlah dari kategori unik di dalam suatu variabel kategorik."
      ],
      "metadata": {
        "id": "RcDKd7hNu8i9"
      }
    },
    {
      "cell_type": "code",
      "source": [
        "# Mengecek jumlah kategori yang unik dari setiap variabel kategorik\n",
        "cat_var = ['Order ID', 'Ship Mode', 'Customer ID', 'Customer Name', 'Segment', 'City', 'State', 'Postal Code', 'Region', 'Product ID', 'Category','Sub-Category', 'Product Name']\n",
        "for i in cat_var :\n",
        "    print('Variabel {} memiliki data unik sebanyak {}'.format(i, df_superstore[i].nunique()),'\\n')"
      ],
      "metadata": {
        "id": "TltxHeawvCkb",
        "colab": {
          "base_uri": "https://localhost:8080/"
        },
        "outputId": "d875eb84-ae7d-41ff-a37b-8e271352ee56"
      },
      "execution_count": 20,
      "outputs": [
        {
          "output_type": "stream",
          "name": "stdout",
          "text": [
            "Variabel Order ID memiliki data unik sebanyak 5009 \n",
            "\n",
            "Variabel Ship Mode memiliki data unik sebanyak 4 \n",
            "\n",
            "Variabel Customer ID memiliki data unik sebanyak 793 \n",
            "\n",
            "Variabel Customer Name memiliki data unik sebanyak 793 \n",
            "\n",
            "Variabel Segment memiliki data unik sebanyak 3 \n",
            "\n",
            "Variabel City memiliki data unik sebanyak 531 \n",
            "\n",
            "Variabel State memiliki data unik sebanyak 49 \n",
            "\n",
            "Variabel Postal Code memiliki data unik sebanyak 631 \n",
            "\n",
            "Variabel Region memiliki data unik sebanyak 4 \n",
            "\n",
            "Variabel Product ID memiliki data unik sebanyak 1862 \n",
            "\n",
            "Variabel Category memiliki data unik sebanyak 3 \n",
            "\n",
            "Variabel Sub-Category memiliki data unik sebanyak 17 \n",
            "\n",
            "Variabel Product Name memiliki data unik sebanyak 1850 \n",
            "\n"
          ]
        }
      ]
    },
    {
      "cell_type": "markdown",
      "source": [
        "Berdasarkan hasil di atas variabel **Order ID**, **Customer ID**, **Customer Name**, **City**, **State**, **Postal Code**, **Product ID**, dan **Product Name** memiliki kardinalitas yang tinggi karena memiliki nilai unik yang banyak. Sementara variabel **Ship Mode**, **Segment**, **Region**, **Category** dan **Sub-Category** tidak memiliki kardinalitas yang tinggi karena memiliki nilai unik sedikit."
      ],
      "metadata": {
        "id": "MEtMcPVG-weY"
      }
    },
    {
      "cell_type": "code",
      "source": [
        "# Memvisualisasi frekuensi dari data unik di setiap variabel kategorik dengan kardinalitas rendah\n",
        "fig, ax = plt.subplots(nrows=1, ncols=3, figsize=(35,10))\n",
        "sns.countplot(data=df_superstore, x='Ship Mode', ax=ax[0], palette='Set1').set_title('Ship Mode', fontsize= 20)\n",
        "sns.countplot(data=df_superstore, x='Segment', ax=ax[1], palette='Set1').set_title('Segment', fontsize= 20)\n",
        "sns.countplot(data=df_superstore, x='Region', ax=ax[2], palette='Set1').set_title('Region', fontsize= 20)\n",
        "fig.show()"
      ],
      "metadata": {
        "colab": {
          "base_uri": "https://localhost:8080/",
          "height": 471
        },
        "id": "pKlWqoUacQQG",
        "outputId": "ca5319aa-98a8-4280-ac21-dd87fccdf2c4"
      },
      "execution_count": 21,
      "outputs": [
        {
          "output_type": "display_data",
          "data": {
            "text/plain": [
              "<Figure size 2520x720 with 3 Axes>"
            ],
            "image/png": "[encoded data removed]"
          },
          "metadata": {
            "needs_background": "light"
          }
        }
      ]
    },
    {
      "cell_type": "code",
      "source": [
        "# Memvisualisasi frekuensi dari data unik di setiap variabel kategorik dengan kardinalitas rendah\n",
        "fig, ax = plt.subplots(nrows=1, ncols=2, figsize=(35,10))\n",
        "sns.countplot(data=df_superstore, x='Category', ax=ax[0], palette='Set1').set_title('Category', fontsize= 20)\n",
        "sns.countplot(data=df_superstore, x='Sub-Category', ax=ax[1], palette='Set1').set_title('Sub-Category', fontsize= 20)\n",
        "fig.show()"
      ],
      "metadata": {
        "colab": {
          "base_uri": "https://localhost:8080/",
          "height": 471
        },
        "id": "hKHb-CIcdiTA",
        "outputId": "73f2ef8e-afc5-48f8-ca2c-a30570728547"
      },
      "execution_count": 22,
      "outputs": [
        {
          "output_type": "display_data",
          "data": {
            "text/plain": [
              "<Figure size 2520x720 with 2 Axes>"
            ],
            "image/png": "[encoded data removed]"
          },
          "metadata": {
            "needs_background": "light"
          }
        }
      ]
    },
    {
      "cell_type": "markdown",
      "source": [
        "### Data Correlation\n",
        "Memvisualisasikan dan mengamati korelasi antara variabel numerik dalam dataset menggunakan *heatmap*."
      ],
      "metadata": {
        "id": "3NXAQNBQvIPz"
      }
    },
    {
      "cell_type": "code",
      "source": [
        "# Memvisualisasi korelasi antara semua variabel numerik menggunakan heatmap\n",
        "num_var = ['Sales','Quantity','Discount','Profit']\n",
        "plt.figure(figsize=(20,10))\n",
        "mask = np.zeros_like(df_superstore[num_var].corr(method='spearman'), dtype=np.bool) #Penggunaan metode spearman karena data pada variabel tersebut tidak terdistribusi normal\n",
        "mask[np.triu_indices_from(mask)] = True\n",
        "sns.heatmap(df_superstore[num_var].corr(),cmap='RdBu_r',mask=mask, annot=True)\n",
        "plt.title('Correlation between Numeric Variables', fontdict = {'fontsize' : 20})\n",
        "plt.show()"
      ],
      "metadata": {
        "id": "6fkalQ2VvLkX",
        "colab": {
          "base_uri": "https://localhost:8080/",
          "height": 612
        },
        "outputId": "6e424a03-e279-4250-fb3f-a8fb5a5973c6"
      },
      "execution_count": 23,
      "outputs": [
        {
          "output_type": "display_data",
          "data": {
            "text/plain": [
              "<Figure size 1440x720 with 2 Axes>"
            ],
            "image/png": "[encoded data removed]"
          },
          "metadata": {
            "needs_background": "light"
          }
        }
      ]
    },
    {
      "cell_type": "markdown",
      "source": [
        "Nilai yang kita dapatkan dari heatmap ini menunjukkan nilai korelasi antara variabel. Nilai ini dapat berupa korelasi positif dan juga negatif. Semakin mendekati 1 maka korelasi positif semakin kuat dan semakin mendekati -1 maka korelasi negatif semakin kuat.\n",
        "\n",
        "Dari *heatmap* di atas kita dapat menyimpulkan bahwa ada beberapa korelasi antara variabel yang ada, seperti:\n",
        "- Variabel Sales dan Profit memiliki korelasi positif sedang dengan nilai 0.48. Hal ini menunjukkan ketika Sales mengalami peningkatan, Profit juga akan meningkat.\n",
        "- Variabel Sales dan Discount memiliki korelasi negatif yang sangat lemah dengan nilai -0.028 atau dapat dikatakan hampir tidak berkorelasi.\n",
        "- Variabel Sales dan Quantity memiliki korelasi positif yang lemah dengan nilai 0.2.\n",
        "- Variabel Profit dan Discount memiliki korelasi negatif yang lemah dengan nilai -0.22.\n",
        "- Variabel Profit dan Quantity memiliki korelasi positif yang sangat lemah dengan nilai 0.066 atau dapat dikatakan hampir tidak berkorelasi.\n",
        "- Variabel Quantity dan Discount memiliki korelasi positif yang sangat lemah dengan nilai 0.0086 atau dapat dikatakan hampir tidak berkorelasi.\n",
        "\n",
        "Dari analisis di atas dapat disimpulkan bahwa keempat variabel tersebut tidak memiliki korelasi kuat atau bernilai tinggi sehingga dapat digunakan untuk membuat model regresi linear karena tidak menimbulkan masalah multikolinearitas."
      ],
      "metadata": {
        "id": "KXnDvg8dK4m4"
      }
    },
    {
      "cell_type": "markdown",
      "source": [
        "### Statistic Descriptive"
      ],
      "metadata": {
        "id": "qEhJ82wjwlR9"
      }
    },
    {
      "cell_type": "code",
      "source": [
        "# Menunjukkan data statistik deskriptif dari variabel numerik\n",
        "df_superstore[['Sales', 'Quantity', 'Discount', 'Profit']].describe()"
      ],
      "metadata": {
        "id": "5pFgNhrkwqFm",
        "colab": {
          "base_uri": "https://localhost:8080/",
          "height": 300
        },
        "outputId": "e55cfbba-31fe-4920-8f81-ca02bf826e57"
      },
      "execution_count": 24,
      "outputs": [
        {
          "output_type": "execute_result",
          "data": {
            "text/plain": [
              "              Sales     Quantity     Discount       Profit\n",
              "count   9994.000000  9994.000000  9994.000000  9994.000000\n",
              "mean     229.858001     3.789574     0.156203    28.656896\n",
              "std      623.245101     2.225110     0.206452   234.260108\n",
              "min        0.444000     1.000000     0.000000 -6599.978000\n",
              "25%       17.280000     2.000000     0.000000     1.728750\n",
              "50%       54.490000     3.000000     0.200000     8.666500\n",
              "75%      209.940000     5.000000     0.200000    29.364000\n",
              "max    22638.480000    14.000000     0.800000  8399.976000"
            ],
            "text/html": [
              "\n",
              "  <div id=\"df-24156481-8ace-45b3-b91c-55f5f55275fc\">\n",
              "    <div class=\"colab-df-container\">\n",
              "      <div>\n",
              "<style scoped>\n",
              "    .dataframe tbody tr th:only-of-type {\n",
              "        vertical-align: middle;\n",
              "    }\n",
              "\n",
              "    .dataframe tbody tr th {\n",
              "        vertical-align: top;\n",
              "    }\n",
              "\n",
              "    .dataframe thead th {\n",
              "        text-align: right;\n",
              "    }\n",
              "</style>\n",
              "<table border=\"1\" class=\"dataframe\">\n",
              "  <thead>\n",
              "    <tr style=\"text-align: right;\">\n",
              "      <th></th>\n",
              "      <th>Sales</th>\n",
              "      <th>Quantity</th>\n",
              "      <th>Discount</th>\n",
              "      <th>Profit</th>\n",
              "    </tr>\n",
              "  </thead>\n",
              "  <tbody>\n",
              "    <tr>\n",
              "      <th>count</th>\n",
              "      <td>9994.000000</td>\n",
              "      <td>9994.000000</td>\n",
              "      <td>9994.000000</td>\n",
              "      <td>9994.000000</td>\n",
              "    </tr>\n",
              "    <tr>\n",
              "      <th>mean</th>\n",
              "      <td>229.858001</td>\n",
              "      <td>3.789574</td>\n",
              "      <td>0.156203</td>\n",
              "      <td>28.656896</td>\n",
              "    </tr>\n",
              "    <tr>\n",
              "      <th>std</th>\n",
              "      <td>623.245101</td>\n",
              "      <td>2.225110</td>\n",
              "      <td>0.206452</td>\n",
              "      <td>234.260108</td>\n",
              "    </tr>\n",
              "    <tr>\n",
              "      <th>min</th>\n",
              "      <td>0.444000</td>\n",
              "      <td>1.000000</td>\n",
              "      <td>0.000000</td>\n",
              "      <td>-6599.978000</td>\n",
              "    </tr>\n",
              "    <tr>\n",
              "      <th>25%</th>\n",
              "      <td>17.280000</td>\n",
              "      <td>2.000000</td>\n",
              "      <td>0.000000</td>\n",
              "      <td>1.728750</td>\n",
              "    </tr>\n",
              "    <tr>\n",
              "      <th>50%</th>\n",
              "      <td>54.490000</td>\n",
              "      <td>3.000000</td>\n",
              "      <td>0.200000</td>\n",
              "      <td>8.666500</td>\n",
              "    </tr>\n",
              "    <tr>\n",
              "      <th>75%</th>\n",
              "      <td>209.940000</td>\n",
              "      <td>5.000000</td>\n",
              "      <td>0.200000</td>\n",
              "      <td>29.364000</td>\n",
              "    </tr>\n",
              "    <tr>\n",
              "      <th>max</th>\n",
              "      <td>22638.480000</td>\n",
              "      <td>14.000000</td>\n",
              "      <td>0.800000</td>\n",
              "      <td>8399.976000</td>\n",
              "    </tr>\n",
              "  </tbody>\n",
              "</table>\n",
              "</div>\n",
              "      <button class=\"colab-df-convert\" onclick=\"convertToInteractive('df-24156481-8ace-45b3-b91c-55f5f55275fc')\"\n",
              "              title=\"Convert this dataframe to an interactive table.\"\n",
              "              style=\"display:none;\">\n",
              "        \n",
              "  <svg xmlns=\"http://www.w3.org/2000/svg\" height=\"24px\"viewBox=\"0 0 24 24\"\n",
              "       width=\"24px\">\n",
              "    <path d=\"M0 0h24v24H0V0z\" fill=\"none\"/>\n",
              "    <path d=\"M18.56 5.44l.94 2.06.94-2.06 2.06-.94-2.06-.94-.94-2.06-.94 2.06-2.06.94zm-11 1L8.5 8.5l.94-2.06 2.06-.94-2.06-.94L8.5 2.5l-.94 2.06-2.06.94zm10 10l.94 2.06.94-2.06 2.06-.94-2.06-.94-.94-2.06-.94 2.06-2.06.94z\"/><path d=\"M17.41 7.96l-1.37-1.37c-.4-.4-.92-.59-1.43-.59-.52 0-1.04.2-1.43.59L10.3 9.45l-7.72 7.72c-.78.78-.78 2.05 0 2.83L4 21.41c.39.39.9.59 1.41.59.51 0 1.02-.2 1.41-.59l7.78-7.78 2.81-2.81c.8-.78.8-2.07 0-2.86zM5.41 20L4 18.59l7.72-7.72 1.47 1.35L5.41 20z\"/>\n",
              "  </svg>\n",
              "      </button>\n",
              "      \n",
              "  <style>\n",
              "    .colab-df-container {\n",
              "      display:flex;\n",
              "      flex-wrap:wrap;\n",
              "      gap: 12px;\n",
              "    }\n",
              "\n",
              "    .colab-df-convert {\n",
              "      background-color: #E8F0FE;\n",
              "      border: none;\n",
              "      border-radius: 50%;\n",
              "      cursor: pointer;\n",
              "      display: none;\n",
              "      fill: #1967D2;\n",
              "      height: 32px;\n",
              "      padding: 0 0 0 0;\n",
              "      width: 32px;\n",
              "    }\n",
              "\n",
              "    .colab-df-convert:hover {\n",
              "      background-color: #E2EBFA;\n",
              "      box-shadow: 0px 1px 2px rgba(60, 64, 67, 0.3), 0px 1px 3px 1px rgba(60, 64, 67, 0.15);\n",
              "      fill: #174EA6;\n",
              "    }\n",
              "\n",
              "    [theme=dark] .colab-df-convert {\n",
              "      background-color: #3B4455;\n",
              "      fill: #D2E3FC;\n",
              "    }\n",
              "\n",
              "    [theme=dark] .colab-df-convert:hover {\n",
              "      background-color: #434B5C;\n",
              "      box-shadow: 0px 1px 3px 1px rgba(0, 0, 0, 0.15);\n",
              "      filter: drop-shadow(0px 1px 2px rgba(0, 0, 0, 0.3));\n",
              "      fill: #FFFFFF;\n",
              "    }\n",
              "  </style>\n",
              "\n",
              "      <script>\n",
              "        const buttonEl =\n",
              "          document.querySelector('#df-24156481-8ace-45b3-b91c-55f5f55275fc button.colab-df-convert');\n",
              "        buttonEl.style.display =\n",
              "          google.colab.kernel.accessAllowed ? 'block' : 'none';\n",
              "\n",
              "        async function convertToInteractive(key) {\n",
              "          const element = document.querySelector('#df-24156481-8ace-45b3-b91c-55f5f55275fc');\n",
              "          const dataTable =\n",
              "            await google.colab.kernel.invokeFunction('convertToInteractive',\n",
              "                                                     [key], {});\n",
              "          if (!dataTable) return;\n",
              "\n",
              "          const docLinkHtml = 'Like what you see? Visit the ' +\n",
              "            '<a target=\"_blank\" href=https://colab.research.google.com/notebooks/data_table.ipynb>data table notebook</a>'\n",
              "            + ' to learn more about interactive tables.';\n",
              "          element.innerHTML = '';\n",
              "          dataTable['output_type'] = 'display_data';\n",
              "          await google.colab.output.renderOutput(dataTable, element);\n",
              "          const docLink = document.createElement('div');\n",
              "          docLink.innerHTML = docLinkHtml;\n",
              "          element.appendChild(docLink);\n",
              "        }\n",
              "      </script>\n",
              "    </div>\n",
              "  </div>\n",
              "  "
            ]
          },
          "metadata": {},
          "execution_count": 24
        }
      ]
    },
    {
      "cell_type": "code",
      "source": [
        "# Menunjukkan data statistik deskriptif berupa jumlah total beberapa variabel numerik\n",
        "df_superstore[['Sales', 'Quantity', 'Discount', 'Profit']].sum()"
      ],
      "metadata": {
        "colab": {
          "base_uri": "https://localhost:8080/"
        },
        "id": "TngWLHhD5_As",
        "outputId": "c26aa397-e39e-4981-928b-fdc3f6189af4"
      },
      "execution_count": 25,
      "outputs": [
        {
          "output_type": "execute_result",
          "data": {
            "text/plain": [
              "Sales       2.297201e+06\n",
              "Quantity    3.787300e+04\n",
              "Discount    1.561090e+03\n",
              "Profit      2.863970e+05\n",
              "dtype: float64"
            ]
          },
          "metadata": {},
          "execution_count": 25
        }
      ]
    },
    {
      "cell_type": "markdown",
      "source": [
        "Dari analisis data numerik transaksi penjualan di Superstore dari tahun 2014-2017 di atas, kita dapat mengamati beberapa hal yaitu:\n",
        "- Total penjualan selama empat tahun yaitu sebesar 2297201 USD dengan rata-rata penjualan sebesar 229.85 USD per transaksi. Nilai penjualan tertinggi sebesar 22638.48 USD dan nilai penjualan terendah sebesar 0.444 USD.\n",
        "- Jumlah total produk yang terjual adalah 37873 dan rata-rata produk yang terjual sebesar 4 per transaksi. Jumlah produk tertinggi dalam penjualan yaitu 14 dan terendah sebesar 1.\n",
        "- Diskon rata-rata adalah 15.6% untuk setiap transaksi. Nilai diskon berkisar dari 0% (tidak ada diskon) hingga 80%.\n",
        "- Total keuntungan yang sudah dihasilkan superstore adalah 286397 USD dan rata-rata keuntungan sebesar 28.65 USD per transaksi. Nilai keuntungan tertinggi yang pernah diperoleh mencapai 8399.976 USD. Namun superstore juga pernah mengalami kerugian sebesar -6599.978 USD pada suatu transaksi. Dari hal ini dapat diketahui bahwa superstore tidak hanya mendapatkan keuntungan saja namun juga pernah mengalami kerugian dalam menjual produknya."
      ],
      "metadata": {
        "id": "49ifPGhZ2bBX"
      }
    },
    {
      "cell_type": "code",
      "source": [
        "# Mengecek jumlah transaksi yang untung, rugi atau tidak untung datau rugi dari keseluruhan transaksi\n",
        "# Mengecek jumlah transaksi yang untung\n",
        "profit = df_superstore[df_superstore['Profit'] > 0]\n",
        "profit_percentage = len(profit)/len(df_superstore)*100\n",
        "print('Transaksi untung : {} transaksi atau {:.2f}%'.format(len(profit), profit_percentage))\n",
        "\n",
        "# Mengecek jumlah transaksi yang rugi\n",
        "loss = df_superstore[df_superstore['Profit'] < 0]\n",
        "loss_percentage = len(loss)/len(df_superstore)*100\n",
        "print('Transaksi rugi   : {} transaksi atau {:.2f}%'.format(len(loss), loss_percentage))\n",
        "\n",
        "# Mengecek jumlah transaksi yang tidak untung atau rugi\n",
        "zero = df_superstore[df_superstore['Profit'] == 0]\n",
        "zero_percentage = len(zero)/len(df_superstore)*100\n",
        "print('Transaksi yang tidak untung atau rugi : {} transaksi atau {:.2f}%'.format(len(zero), zero_percentage))"
      ],
      "metadata": {
        "colab": {
          "base_uri": "https://localhost:8080/"
        },
        "id": "CVJWT6kIKZa1",
        "outputId": "f9195319-6be2-43d3-cb17-736cea4fd47d"
      },
      "execution_count": 26,
      "outputs": [
        {
          "output_type": "stream",
          "name": "stdout",
          "text": [
            "Transaksi untung : 8058 transaksi atau 80.63%\n",
            "Transaksi rugi   : 1871 transaksi atau 18.72%\n",
            "Transaksi yang tidak untung atau rugi : 65 transaksi atau 0.65%\n"
          ]
        }
      ]
    },
    {
      "cell_type": "markdown",
      "source": [
        "Setelah dicek secara lebih mendalam terhadap transaksi yang dilakukan, ternyata terdapat 8058 transaksi yang menguntungkan atau sebesar 80.63% dari keseluruhan transaksi. Untuk transaksi yang merugikan sebanyak 1871 transaksi atau 18.72% dari keseluruhan transaksi. Sementara itu, terdapat transaksi yang tidak untung maupun rugi sebanyak 65 transaksi atau 0.65% dari keseluruhan transaksi."
      ],
      "metadata": {
        "id": "J2xcyDCAQJet"
      }
    },
    {
      "cell_type": "code",
      "source": [
        "# Menunjukkan data statistik deskriptif dari variabel kategorik\n",
        "df_superstore.describe(include='object')"
      ],
      "metadata": {
        "colab": {
          "base_uri": "https://localhost:8080/",
          "height": 175
        },
        "id": "A4y5suhLvxSI",
        "outputId": "62c342e5-3adc-4384-b995-0bcf0cd2c748"
      },
      "execution_count": 27,
      "outputs": [
        {
          "output_type": "execute_result",
          "data": {
            "text/plain": [
              "              Order ID       Ship Mode Customer ID  Customer Name   Segment  \\\n",
              "count             9994            9994        9994           9994      9994   \n",
              "unique            5009               4         793            793         3   \n",
              "top     CA-2017-100111  Standard Class    WB-21850  William Brown  Consumer   \n",
              "freq                14            5968          37             37      5191   \n",
              "\n",
              "                 City       State Region       Product ID         Category  \\\n",
              "count            9994        9994   9994             9994             9994   \n",
              "unique            531          49      4             1862                3   \n",
              "top     New York City  California   West  OFF-PA-10001970  Office Supplies   \n",
              "freq              915        2001   3203               19             6026   \n",
              "\n",
              "       Sub-Category     Product Name  \n",
              "count          9994             9994  \n",
              "unique           17             1850  \n",
              "top         Binders  Staple envelope  \n",
              "freq           1523               48  "
            ],
            "text/html": [
              "\n",
              "  <div id=\"df-5e52850c-8e7f-4928-9cac-6a44e12f2d41\">\n",
              "    <div class=\"colab-df-container\">\n",
              "      <div>\n",
              "<style scoped>\n",
              "    .dataframe tbody tr th:only-of-type {\n",
              "        vertical-align: middle;\n",
              "    }\n",
              "\n",
              "    .dataframe tbody tr th {\n",
              "        vertical-align: top;\n",
              "    }\n",
              "\n",
              "    .dataframe thead th {\n",
              "        text-align: right;\n",
              "    }\n",
              "</style>\n",
              "<table border=\"1\" class=\"dataframe\">\n",
              "  <thead>\n",
              "    <tr style=\"text-align: right;\">\n",
              "      <th></th>\n",
              "      <th>Order ID</th>\n",
              "      <th>Ship Mode</th>\n",
              "      <th>Customer ID</th>\n",
              "      <th>Customer Name</th>\n",
              "      <th>Segment</th>\n",
              "      <th>City</th>\n",
              "      <th>State</th>\n",
              "      <th>Region</th>\n",
              "      <th>Product ID</th>\n",
              "      <th>Category</th>\n",
              "      <th>Sub-Category</th>\n",
              "      <th>Product Name</th>\n",
              "    </tr>\n",
              "  </thead>\n",
              "  <tbody>\n",
              "    <tr>\n",
              "      <th>count</th>\n",
              "      <td>9994</td>\n",
              "      <td>9994</td>\n",
              "      <td>9994</td>\n",
              "      <td>9994</td>\n",
              "      <td>9994</td>\n",
              "      <td>9994</td>\n",
              "      <td>9994</td>\n",
              "      <td>9994</td>\n",
              "      <td>9994</td>\n",
              "      <td>9994</td>\n",
              "      <td>9994</td>\n",
              "      <td>9994</td>\n",
              "    </tr>\n",
              "    <tr>\n",
              "      <th>unique</th>\n",
              "      <td>5009</td>\n",
              "      <td>4</td>\n",
              "      <td>793</td>\n",
              "      <td>793</td>\n",
              "      <td>3</td>\n",
              "      <td>531</td>\n",
              "      <td>49</td>\n",
              "      <td>4</td>\n",
              "      <td>1862</td>\n",
              "      <td>3</td>\n",
              "      <td>17</td>\n",
              "      <td>1850</td>\n",
              "    </tr>\n",
              "    <tr>\n",
              "      <th>top</th>\n",
              "      <td>CA-2017-100111</td>\n",
              "      <td>Standard Class</td>\n",
              "      <td>WB-21850</td>\n",
              "      <td>William Brown</td>\n",
              "      <td>Consumer</td>\n",
              "      <td>New York City</td>\n",
              "      <td>California</td>\n",
              "      <td>West</td>\n",
              "      <td>OFF-PA-10001970</td>\n",
              "      <td>Office Supplies</td>\n",
              "      <td>Binders</td>\n",
              "      <td>Staple envelope</td>\n",
              "    </tr>\n",
              "    <tr>\n",
              "      <th>freq</th>\n",
              "      <td>14</td>\n",
              "      <td>5968</td>\n",
              "      <td>37</td>\n",
              "      <td>37</td>\n",
              "      <td>5191</td>\n",
              "      <td>915</td>\n",
              "      <td>2001</td>\n",
              "      <td>3203</td>\n",
              "      <td>19</td>\n",
              "      <td>6026</td>\n",
              "      <td>1523</td>\n",
              "      <td>48</td>\n",
              "    </tr>\n",
              "  </tbody>\n",
              "</table>\n",
              "</div>\n",
              "      <button class=\"colab-df-convert\" onclick=\"convertToInteractive('df-5e52850c-8e7f-4928-9cac-6a44e12f2d41')\"\n",
              "              title=\"Convert this dataframe to an interactive table.\"\n",
              "              style=\"display:none;\">\n",
              "        \n",
              "  <svg xmlns=\"http://www.w3.org/2000/svg\" height=\"24px\"viewBox=\"0 0 24 24\"\n",
              "       width=\"24px\">\n",
              "    <path d=\"M0 0h24v24H0V0z\" fill=\"none\"/>\n",
              "    <path d=\"M18.56 5.44l.94 2.06.94-2.06 2.06-.94-2.06-.94-.94-2.06-.94 2.06-2.06.94zm-11 1L8.5 8.5l.94-2.06 2.06-.94-2.06-.94L8.5 2.5l-.94 2.06-2.06.94zm10 10l.94 2.06.94-2.06 2.06-.94-2.06-.94-.94-2.06-.94 2.06-2.06.94z\"/><path d=\"M17.41 7.96l-1.37-1.37c-.4-.4-.92-.59-1.43-.59-.52 0-1.04.2-1.43.59L10.3 9.45l-7.72 7.72c-.78.78-.78 2.05 0 2.83L4 21.41c.39.39.9.59 1.41.59.51 0 1.02-.2 1.41-.59l7.78-7.78 2.81-2.81c.8-.78.8-2.07 0-2.86zM5.41 20L4 18.59l7.72-7.72 1.47 1.35L5.41 20z\"/>\n",
              "  </svg>\n",
              "      </button>\n",
              "      \n",
              "  <style>\n",
              "    .colab-df-container {\n",
              "      display:flex;\n",
              "      flex-wrap:wrap;\n",
              "      gap: 12px;\n",
              "    }\n",
              "\n",
              "    .colab-df-convert {\n",
              "      background-color: #E8F0FE;\n",
              "      border: none;\n",
              "      border-radius: 50%;\n",
              "      cursor: pointer;\n",
              "      display: none;\n",
              "      fill: #1967D2;\n",
              "      height: 32px;\n",
              "      padding: 0 0 0 0;\n",
              "      width: 32px;\n",
              "    }\n",
              "\n",
              "    .colab-df-convert:hover {\n",
              "      background-color: #E2EBFA;\n",
              "      box-shadow: 0px 1px 2px rgba(60, 64, 67, 0.3), 0px 1px 3px 1px rgba(60, 64, 67, 0.15);\n",
              "      fill: #174EA6;\n",
              "    }\n",
              "\n",
              "    [theme=dark] .colab-df-convert {\n",
              "      background-color: #3B4455;\n",
              "      fill: #D2E3FC;\n",
              "    }\n",
              "\n",
              "    [theme=dark] .colab-df-convert:hover {\n",
              "      background-color: #434B5C;\n",
              "      box-shadow: 0px 1px 3px 1px rgba(0, 0, 0, 0.15);\n",
              "      filter: drop-shadow(0px 1px 2px rgba(0, 0, 0, 0.3));\n",
              "      fill: #FFFFFF;\n",
              "    }\n",
              "  </style>\n",
              "\n",
              "      <script>\n",
              "        const buttonEl =\n",
              "          document.querySelector('#df-5e52850c-8e7f-4928-9cac-6a44e12f2d41 button.colab-df-convert');\n",
              "        buttonEl.style.display =\n",
              "          google.colab.kernel.accessAllowed ? 'block' : 'none';\n",
              "\n",
              "        async function convertToInteractive(key) {\n",
              "          const element = document.querySelector('#df-5e52850c-8e7f-4928-9cac-6a44e12f2d41');\n",
              "          const dataTable =\n",
              "            await google.colab.kernel.invokeFunction('convertToInteractive',\n",
              "                                                     [key], {});\n",
              "          if (!dataTable) return;\n",
              "\n",
              "          const docLinkHtml = 'Like what you see? Visit the ' +\n",
              "            '<a target=\"_blank\" href=https://colab.research.google.com/notebooks/data_table.ipynb>data table notebook</a>'\n",
              "            + ' to learn more about interactive tables.';\n",
              "          element.innerHTML = '';\n",
              "          dataTable['output_type'] = 'display_data';\n",
              "          await google.colab.output.renderOutput(dataTable, element);\n",
              "          const docLink = document.createElement('div');\n",
              "          docLink.innerHTML = docLinkHtml;\n",
              "          element.appendChild(docLink);\n",
              "        }\n",
              "      </script>\n",
              "    </div>\n",
              "  </div>\n",
              "  "
            ]
          },
          "metadata": {},
          "execution_count": 27
        }
      ]
    },
    {
      "cell_type": "markdown",
      "source": [
        "Dari analisis variabel kategorik dalam transaksi penjualan di Superstore dari tahun 2014-2017 di atas, kita dapat mengamati beberapa hal yaitu:\n",
        "- Terdapat 4 jenis metode pengiriman dengan jenis Standard Class paling banyak dipilih sebesar 5968 atau 59.72% dari keseluruhan transaksi.\n",
        "- Untuk segmen pelanggan terdapat 3 kategori, dimana kategori *Consumer* menjadi yang paling banyak yaitu sebesar 5191 atau 51.94% dari keseluruhan transaksi.\n",
        "- Kota New York City (915 transaksi), Negara Bagian California (2001 transaksi) dan wilayah bagian barat (3203 transaksi) menjadi daerah tertinggi dalam transaksi penjualan.\n",
        "- Terdapat 3 kategori dan 17 sub-kategori dari produk. Kategori *office suplies* (6026 transaksi) dan sub-kategori *binders* (1523 transaksi) menjadi yang paling banyak dibeli."
      ],
      "metadata": {
        "id": "YthTPcvfeSmc"
      }
    },
    {
      "cell_type": "markdown",
      "source": [
        "## Machine Learning\n",
        "Dalam transaksi penjualan yang dilakukan oleh superstore, ada yang menghasilkan keuntungan dan kerugian. Keuntungan dan kerugian ini dapat dipengaruhi oleh faktor seperti produk, kategori, wilayah dan segmen pelanggan. Oleh karena itu, perlu dibuat model yang bisa memprediksi profit berdasarkan faktor-faktor tersebut sehingga dapat dijadikan salah satu acuan dalam mempersiapkan strategi bisnis yang tepat untuk meningkatkan profit dan mengurangi kerugian.\n",
        "\n",
        "\n",
        "Model *multiple linear regression* digunakan untuk memprediksi atau\n",
        "menganalisis variabel dependen berdasarkan lebih dari satu variabel\n",
        "independen menggunakan regresi linear. Dalam hal ini, model tersebut akan digunakan untuk memprediksi profit berdasarkan beberapa *feature*/variabel independen pada data transaksi penjualan. Variabel independen yang digunakan untuk membangun model yaitu *Ship Mode*, *Segment*, *Region*, *Category*, *Sales*, *Quantity*, dan *Discount*."
      ],
      "metadata": {
        "id": "NDuuFV2TCrB7"
      }
    },
    {
      "cell_type": "markdown",
      "source": [
        "### Preprocessing\n",
        "Pada tahap ini akan dilakukan proses ***encoding*** untuk variabel kategorik (*Ship Mode*, *Segment*, *Region*, *Category*) dan proses ***scaling*** untuk variabel numerik (*Sales*, *Quantity*, dan *Discount*). ***Encoding*** merupakan suatu metode yang dapat diterapkan untuk merepresentasikan variabel kategorik dalam machine learning. Variabel kategorik akan di-*encoding* menggunakan metode ***One Hot Encoding***. Dalam *One Hot Encoding*, kita memecah suatu variabel kategorik menjadi beberapa variabel yang nilainya satu atau nol atau disebut juga *dummy variable*. Penggunaan ***drop = 'first'*** perlu dilakukan karena kita menggunakan model regresi linear. Khusus linear model, maksimal banyaknya *dummy variable* yang perlu dibuat adalah banyaknya kategori dikurangi satu. Hal ini dilakukan untuk menghindari masalah multikolinearitas. Sementara, ***Scaling*** adalah metode untuk melakukan transformasi terhadap data numerik agar antar variabel memiliki skala yang sama. Variabel numerik akan di-*scaling* dengan metode ***Robust Scaler***. ***Robust Scaler*** digunakan karena tidak sensitif terhadap *outlier*."
      ],
      "metadata": {
        "id": "2nPPsDGTNsH1"
      }
    },
    {
      "cell_type": "code",
      "source": [
        "# Melakukan proses encoding variabel kategorik dengan menggunakan One Hot Encoding dan scaling variabel numerik dengan menggunakan Robust Scaler\n",
        "cat_features = ['Ship Mode','Segment','Region', 'Category']\n",
        "num_features = ['Sales', 'Quantity', 'Discount']\n",
        "# Menggabungkan proses preprocessing One Hot Encoding dan Robust Scaler dengan menggunakan ColumnTransformer()\n",
        "transformer = ColumnTransformer([\n",
        "                                 ('one hot encoder', OneHotEncoder(drop = 'first'), cat_features),\n",
        "                                 ('robust scaler', RobustScaler(), num_features)\n",
        "                                ], remainder = 'passthrough')"
      ],
      "metadata": {
        "id": "F9IjyUjp8NQg"
      },
      "execution_count": 28,
      "outputs": []
    },
    {
      "cell_type": "markdown",
      "source": [
        "#### Data splitting"
      ],
      "metadata": {
        "id": "FztS5moSApe0"
      }
    },
    {
      "cell_type": "code",
      "source": [
        "# Membuat duplikat dataset yang akan digunakan untuk model\n",
        "df = df_superstore.copy()\n",
        "\n",
        "# Membuat dataset untuk variabel independen (X) dan variabel dependen/target(y)\n",
        "X = df[cat_features + num_features]\n",
        "y = df['Profit']\n",
        "\n",
        "# Membagi dataset menjadi 4 bagian yaitu X_train, X_test, y_train dan y_test\n",
        "X_train, X_test, y_train, y_test = train_test_split(X, y, test_size = 0.2, random_state = 10)"
      ],
      "metadata": {
        "id": "ksziq1s7Az6V"
      },
      "execution_count": 29,
      "outputs": []
    },
    {
      "cell_type": "markdown",
      "source": [
        "#### Data transform"
      ],
      "metadata": {
        "id": "yNacvuS7A3jE"
      }
    },
    {
      "cell_type": "code",
      "source": [
        "# Melakukan proses transformasi data (menerapkan proses encoding dan scaling pada data) \n",
        "X_train_preprocessed = transformer.fit_transform(X_train) # Proses fitting dan transform untuk X_train. Proses .fit hanya diterapkan untuk training set saja\n",
        "X_test_preprocessed = transformer.transform(X_test) # Proses .transform pada X_test"
      ],
      "metadata": {
        "id": "lLL6ctBnE7uv"
      },
      "execution_count": 30,
      "outputs": []
    },
    {
      "cell_type": "code",
      "source": [
        "# Mengubah data hasil preprocessing ke bentuk dataframe\n",
        "X_train_preprocessed = pd.DataFrame(X_train_preprocessed)\n",
        "X_test_preprocessed = pd.DataFrame(X_test_preprocessed)"
      ],
      "metadata": {
        "id": "V2KlIVDZF9Vx"
      },
      "execution_count": 31,
      "outputs": []
    },
    {
      "cell_type": "code",
      "source": [
        "# Memberi nama kolom pada dataset hasil preprocessing\n",
        "features = list(transformer.transformers_[0][1].get_feature_names()) + num_features\n",
        "X_train_preprocessed.columns = features\n",
        "X_test_preprocessed.columns = features\n",
        "\n",
        "# Menampilkan dataset hasil preprocessing\n",
        "X_train_preprocessed"
      ],
      "metadata": {
        "colab": {
          "base_uri": "https://localhost:8080/",
          "height": 424
        },
        "id": "q5CQUZ66G_NI",
        "outputId": "2d0df027-d8c5-4120-d2a1-a191d4821b31"
      },
      "execution_count": 32,
      "outputs": [
        {
          "output_type": "execute_result",
          "data": {
            "text/plain": [
              "      x0_Same Day  x0_Second Class  x0_Standard Class  x1_Corporate  \\\n",
              "0             1.0              0.0                0.0           0.0   \n",
              "1             0.0              0.0                1.0           0.0   \n",
              "2             0.0              0.0                1.0           0.0   \n",
              "3             0.0              0.0                1.0           0.0   \n",
              "4             0.0              0.0                1.0           0.0   \n",
              "...           ...              ...                ...           ...   \n",
              "7990          0.0              0.0                0.0           1.0   \n",
              "7991          0.0              0.0                0.0           0.0   \n",
              "7992          0.0              0.0                1.0           0.0   \n",
              "7993          0.0              0.0                1.0           0.0   \n",
              "7994          0.0              0.0                1.0           1.0   \n",
              "\n",
              "      x1_Home Office  x2_East  x2_South  x2_West  x3_Office Supplies  \\\n",
              "0                0.0      1.0       0.0      0.0                 0.0   \n",
              "1                0.0      0.0       0.0      0.0                 1.0   \n",
              "2                1.0      0.0       0.0      1.0                 1.0   \n",
              "3                0.0      0.0       1.0      0.0                 1.0   \n",
              "4                1.0      0.0       0.0      0.0                 1.0   \n",
              "...              ...      ...       ...      ...                 ...   \n",
              "7990             0.0      1.0       0.0      0.0                 1.0   \n",
              "7991             0.0      0.0       0.0      1.0                 1.0   \n",
              "7992             0.0      1.0       0.0      0.0                 1.0   \n",
              "7993             0.0      0.0       0.0      1.0                 0.0   \n",
              "7994             0.0      1.0       0.0      0.0                 1.0   \n",
              "\n",
              "      x3_Technology     Sales  Quantity  Discount  \n",
              "0               1.0  0.341896  1.000000      -1.0  \n",
              "1               0.0  0.372672  1.000000      -1.0  \n",
              "2               0.0 -0.205424  1.000000       0.0  \n",
              "3               0.0 -0.111665  0.666667      -1.0  \n",
              "4               0.0  0.124348  0.000000       0.0  \n",
              "...             ...       ...       ...       ...  \n",
              "7990            0.0 -0.237879  0.666667       0.0  \n",
              "7991            0.0 -0.144773  2.000000      -1.0  \n",
              "7992            0.0 -0.211921  0.666667      -1.0  \n",
              "7993            0.0  0.031284  1.333333      -1.0  \n",
              "7994            0.0 -0.171663  0.000000      -1.0  \n",
              "\n",
              "[7995 rows x 13 columns]"
            ],
            "text/html": [
              "\n",
              "  <div id=\"df-7a91006e-0d6e-4884-9f47-e888fce37d2a\">\n",
              "    <div class=\"colab-df-container\">\n",
              "      <div>\n",
              "<style scoped>\n",
              "    .dataframe tbody tr th:only-of-type {\n",
              "        vertical-align: middle;\n",
              "    }\n",
              "\n",
              "    .dataframe tbody tr th {\n",
              "        vertical-align: top;\n",
              "    }\n",
              "\n",
              "    .dataframe thead th {\n",
              "        text-align: right;\n",
              "    }\n",
              "</style>\n",
              "<table border=\"1\" class=\"dataframe\">\n",
              "  <thead>\n",
              "    <tr style=\"text-align: right;\">\n",
              "      <th></th>\n",
              "      <th>x0_Same Day</th>\n",
              "      <th>x0_Second Class</th>\n",
              "      <th>x0_Standard Class</th>\n",
              "      <th>x1_Corporate</th>\n",
              "      <th>x1_Home Office</th>\n",
              "      <th>x2_East</th>\n",
              "      <th>x2_South</th>\n",
              "      <th>x2_West</th>\n",
              "      <th>x3_Office Supplies</th>\n",
              "      <th>x3_Technology</th>\n",
              "      <th>Sales</th>\n",
              "      <th>Quantity</th>\n",
              "      <th>Discount</th>\n",
              "    </tr>\n",
              "  </thead>\n",
              "  <tbody>\n",
              "    <tr>\n",
              "      <th>0</th>\n",
              "      <td>1.0</td>\n",
              "      <td>0.0</td>\n",
              "      <td>0.0</td>\n",
              "      <td>0.0</td>\n",
              "      <td>0.0</td>\n",
              "      <td>1.0</td>\n",
              "      <td>0.0</td>\n",
              "      <td>0.0</td>\n",
              "      <td>0.0</td>\n",
              "      <td>1.0</td>\n",
              "      <td>0.341896</td>\n",
              "      <td>1.000000</td>\n",
              "      <td>-1.0</td>\n",
              "    </tr>\n",
              "    <tr>\n",
              "      <th>1</th>\n",
              "      <td>0.0</td>\n",
              "      <td>0.0</td>\n",
              "      <td>1.0</td>\n",
              "      <td>0.0</td>\n",
              "      <td>0.0</td>\n",
              "      <td>0.0</td>\n",
              "      <td>0.0</td>\n",
              "      <td>0.0</td>\n",
              "      <td>1.0</td>\n",
              "      <td>0.0</td>\n",
              "      <td>0.372672</td>\n",
              "      <td>1.000000</td>\n",
              "      <td>-1.0</td>\n",
              "    </tr>\n",
              "    <tr>\n",
              "      <th>2</th>\n",
              "      <td>0.0</td>\n",
              "      <td>0.0</td>\n",
              "      <td>1.0</td>\n",
              "      <td>0.0</td>\n",
              "      <td>1.0</td>\n",
              "      <td>0.0</td>\n",
              "      <td>0.0</td>\n",
              "      <td>1.0</td>\n",
              "      <td>1.0</td>\n",
              "      <td>0.0</td>\n",
              "      <td>-0.205424</td>\n",
              "      <td>1.000000</td>\n",
              "      <td>0.0</td>\n",
              "    </tr>\n",
              "    <tr>\n",
              "      <th>3</th>\n",
              "      <td>0.0</td>\n",
              "      <td>0.0</td>\n",
              "      <td>1.0</td>\n",
              "      <td>0.0</td>\n",
              "      <td>0.0</td>\n",
              "      <td>0.0</td>\n",
              "      <td>1.0</td>\n",
              "      <td>0.0</td>\n",
              "      <td>1.0</td>\n",
              "      <td>0.0</td>\n",
              "      <td>-0.111665</td>\n",
              "      <td>0.666667</td>\n",
              "      <td>-1.0</td>\n",
              "    </tr>\n",
              "    <tr>\n",
              "      <th>4</th>\n",
              "      <td>0.0</td>\n",
              "      <td>0.0</td>\n",
              "      <td>1.0</td>\n",
              "      <td>0.0</td>\n",
              "      <td>1.0</td>\n",
              "      <td>0.0</td>\n",
              "      <td>0.0</td>\n",
              "      <td>0.0</td>\n",
              "      <td>1.0</td>\n",
              "      <td>0.0</td>\n",
              "      <td>0.124348</td>\n",
              "      <td>0.000000</td>\n",
              "      <td>0.0</td>\n",
              "    </tr>\n",
              "    <tr>\n",
              "      <th>...</th>\n",
              "      <td>...</td>\n",
              "      <td>...</td>\n",
              "      <td>...</td>\n",
              "      <td>...</td>\n",
              "      <td>...</td>\n",
              "      <td>...</td>\n",
              "      <td>...</td>\n",
              "      <td>...</td>\n",
              "      <td>...</td>\n",
              "      <td>...</td>\n",
              "      <td>...</td>\n",
              "      <td>...</td>\n",
              "      <td>...</td>\n",
              "    </tr>\n",
              "    <tr>\n",
              "      <th>7990</th>\n",
              "      <td>0.0</td>\n",
              "      <td>0.0</td>\n",
              "      <td>0.0</td>\n",
              "      <td>1.0</td>\n",
              "      <td>0.0</td>\n",
              "      <td>1.0</td>\n",
              "      <td>0.0</td>\n",
              "      <td>0.0</td>\n",
              "      <td>1.0</td>\n",
              "      <td>0.0</td>\n",
              "      <td>-0.237879</td>\n",
              "      <td>0.666667</td>\n",
              "      <td>0.0</td>\n",
              "    </tr>\n",
              "    <tr>\n",
              "      <th>7991</th>\n",
              "      <td>0.0</td>\n",
              "      <td>0.0</td>\n",
              "      <td>0.0</td>\n",
              "      <td>0.0</td>\n",
              "      <td>0.0</td>\n",
              "      <td>0.0</td>\n",
              "      <td>0.0</td>\n",
              "      <td>1.0</td>\n",
              "      <td>1.0</td>\n",
              "      <td>0.0</td>\n",
              "      <td>-0.144773</td>\n",
              "      <td>2.000000</td>\n",
              "      <td>-1.0</td>\n",
              "    </tr>\n",
              "    <tr>\n",
              "      <th>7992</th>\n",
              "      <td>0.0</td>\n",
              "      <td>0.0</td>\n",
              "      <td>1.0</td>\n",
              "      <td>0.0</td>\n",
              "      <td>0.0</td>\n",
              "      <td>1.0</td>\n",
              "      <td>0.0</td>\n",
              "      <td>0.0</td>\n",
              "      <td>1.0</td>\n",
              "      <td>0.0</td>\n",
              "      <td>-0.211921</td>\n",
              "      <td>0.666667</td>\n",
              "      <td>-1.0</td>\n",
              "    </tr>\n",
              "    <tr>\n",
              "      <th>7993</th>\n",
              "      <td>0.0</td>\n",
              "      <td>0.0</td>\n",
              "      <td>1.0</td>\n",
              "      <td>0.0</td>\n",
              "      <td>0.0</td>\n",
              "      <td>0.0</td>\n",
              "      <td>0.0</td>\n",
              "      <td>1.0</td>\n",
              "      <td>0.0</td>\n",
              "      <td>0.0</td>\n",
              "      <td>0.031284</td>\n",
              "      <td>1.333333</td>\n",
              "      <td>-1.0</td>\n",
              "    </tr>\n",
              "    <tr>\n",
              "      <th>7994</th>\n",
              "      <td>0.0</td>\n",
              "      <td>0.0</td>\n",
              "      <td>1.0</td>\n",
              "      <td>1.0</td>\n",
              "      <td>0.0</td>\n",
              "      <td>1.0</td>\n",
              "      <td>0.0</td>\n",
              "      <td>0.0</td>\n",
              "      <td>1.0</td>\n",
              "      <td>0.0</td>\n",
              "      <td>-0.171663</td>\n",
              "      <td>0.000000</td>\n",
              "      <td>-1.0</td>\n",
              "    </tr>\n",
              "  </tbody>\n",
              "</table>\n",
              "<p>7995 rows × 13 columns</p>\n",
              "</div>\n",
              "      <button class=\"colab-df-convert\" onclick=\"convertToInteractive('df-7a91006e-0d6e-4884-9f47-e888fce37d2a')\"\n",
              "              title=\"Convert this dataframe to an interactive table.\"\n",
              "              style=\"display:none;\">\n",
              "        \n",
              "  <svg xmlns=\"http://www.w3.org/2000/svg\" height=\"24px\"viewBox=\"0 0 24 24\"\n",
              "       width=\"24px\">\n",
              "    <path d=\"M0 0h24v24H0V0z\" fill=\"none\"/>\n",
              "    <path d=\"M18.56 5.44l.94 2.06.94-2.06 2.06-.94-2.06-.94-.94-2.06-.94 2.06-2.06.94zm-11 1L8.5 8.5l.94-2.06 2.06-.94-2.06-.94L8.5 2.5l-.94 2.06-2.06.94zm10 10l.94 2.06.94-2.06 2.06-.94-2.06-.94-.94-2.06-.94 2.06-2.06.94z\"/><path d=\"M17.41 7.96l-1.37-1.37c-.4-.4-.92-.59-1.43-.59-.52 0-1.04.2-1.43.59L10.3 9.45l-7.72 7.72c-.78.78-.78 2.05 0 2.83L4 21.41c.39.39.9.59 1.41.59.51 0 1.02-.2 1.41-.59l7.78-7.78 2.81-2.81c.8-.78.8-2.07 0-2.86zM5.41 20L4 18.59l7.72-7.72 1.47 1.35L5.41 20z\"/>\n",
              "  </svg>\n",
              "      </button>\n",
              "      \n",
              "  <style>\n",
              "    .colab-df-container {\n",
              "      display:flex;\n",
              "      flex-wrap:wrap;\n",
              "      gap: 12px;\n",
              "    }\n",
              "\n",
              "    .colab-df-convert {\n",
              "      background-color: #E8F0FE;\n",
              "      border: none;\n",
              "      border-radius: 50%;\n",
              "      cursor: pointer;\n",
              "      display: none;\n",
              "      fill: #1967D2;\n",
              "      height: 32px;\n",
              "      padding: 0 0 0 0;\n",
              "      width: 32px;\n",
              "    }\n",
              "\n",
              "    .colab-df-convert:hover {\n",
              "      background-color: #E2EBFA;\n",
              "      box-shadow: 0px 1px 2px rgba(60, 64, 67, 0.3), 0px 1px 3px 1px rgba(60, 64, 67, 0.15);\n",
              "      fill: #174EA6;\n",
              "    }\n",
              "\n",
              "    [theme=dark] .colab-df-convert {\n",
              "      background-color: #3B4455;\n",
              "      fill: #D2E3FC;\n",
              "    }\n",
              "\n",
              "    [theme=dark] .colab-df-convert:hover {\n",
              "      background-color: #434B5C;\n",
              "      box-shadow: 0px 1px 3px 1px rgba(0, 0, 0, 0.15);\n",
              "      filter: drop-shadow(0px 1px 2px rgba(0, 0, 0, 0.3));\n",
              "      fill: #FFFFFF;\n",
              "    }\n",
              "  </style>\n",
              "\n",
              "      <script>\n",
              "        const buttonEl =\n",
              "          document.querySelector('#df-7a91006e-0d6e-4884-9f47-e888fce37d2a button.colab-df-convert');\n",
              "        buttonEl.style.display =\n",
              "          google.colab.kernel.accessAllowed ? 'block' : 'none';\n",
              "\n",
              "        async function convertToInteractive(key) {\n",
              "          const element = document.querySelector('#df-7a91006e-0d6e-4884-9f47-e888fce37d2a');\n",
              "          const dataTable =\n",
              "            await google.colab.kernel.invokeFunction('convertToInteractive',\n",
              "                                                     [key], {});\n",
              "          if (!dataTable) return;\n",
              "\n",
              "          const docLinkHtml = 'Like what you see? Visit the ' +\n",
              "            '<a target=\"_blank\" href=https://colab.research.google.com/notebooks/data_table.ipynb>data table notebook</a>'\n",
              "            + ' to learn more about interactive tables.';\n",
              "          element.innerHTML = '';\n",
              "          dataTable['output_type'] = 'display_data';\n",
              "          await google.colab.output.renderOutput(dataTable, element);\n",
              "          const docLink = document.createElement('div');\n",
              "          docLink.innerHTML = docLinkHtml;\n",
              "          element.appendChild(docLink);\n",
              "        }\n",
              "      </script>\n",
              "    </div>\n",
              "  </div>\n",
              "  "
            ]
          },
          "metadata": {},
          "execution_count": 32
        }
      ]
    },
    {
      "cell_type": "markdown",
      "source": [
        "### Model\n",
        "Membangun arsitektural model multiple linear regression dengan Deep Neural Network (DNN)."
      ],
      "metadata": {
        "id": "1-cFd9ztNyj9"
      }
    },
    {
      "cell_type": "code",
      "source": [
        "# Membuat Model Multiple Linear Regression dengan Deep Neural Network (DNN)\n",
        "model = Sequential()\n",
        "model.add(Dense(256, kernel_regularizer=regularizers.l2(0.0001), activation='relu', input_shape=(X_train_preprocessed.shape[1],)))\n",
        "model.add(Dropout(0.3))\n",
        "model.add(Dense(128, kernel_regularizer=regularizers.l2(0.0001), activation='relu'))\n",
        "model.add(Dropout(0.3))\n",
        "model.add(Dense(64, kernel_regularizer=regularizers.l2(0.0001), activation='relu'))\n",
        "model.add(Dropout(0.3))\n",
        "model.add(Dense(32, kernel_regularizer=regularizers.l2(0.0001), activation='relu'))\n",
        "model.add(Dropout(0.3))\n",
        "model.add(Dense(16, kernel_regularizer=regularizers.l2(0.0001), activation='relu'))\n",
        "model.add(Dropout(0.3))\n",
        "model.add(Dense(1, activation='linear'))"
      ],
      "metadata": {
        "id": "D9OwtafpBKLJ"
      },
      "execution_count": 33,
      "outputs": []
    },
    {
      "cell_type": "code",
      "source": [
        "# Mendapat rangkuman dari proses learning model\n",
        "model.summary()"
      ],
      "metadata": {
        "colab": {
          "base_uri": "https://localhost:8080/"
        },
        "id": "jDzjp_s9MEy0",
        "outputId": "de6c2a70-d3a3-4222-e91d-830f0683327c"
      },
      "execution_count": 34,
      "outputs": [
        {
          "output_type": "stream",
          "name": "stdout",
          "text": [
            "Model: \"sequential\"\n",
            "_________________________________________________________________\n",
            " Layer (type)                Output Shape              Param #   \n",
            "=================================================================\n",
            " dense (Dense)               (None, 256)               3584      \n",
            "                                                                 \n",
            " dropout (Dropout)           (None, 256)               0         \n",
            "                                                                 \n",
            " dense_1 (Dense)             (None, 128)               32896     \n",
            "                                                                 \n",
            " dropout_1 (Dropout)         (None, 128)               0         \n",
            "                                                                 \n",
            " dense_2 (Dense)             (None, 64)                8256      \n",
            "                                                                 \n",
            " dropout_2 (Dropout)         (None, 64)                0         \n",
            "                                                                 \n",
            " dense_3 (Dense)             (None, 32)                2080      \n",
            "                                                                 \n",
            " dropout_3 (Dropout)         (None, 32)                0         \n",
            "                                                                 \n",
            " dense_4 (Dense)             (None, 16)                528       \n",
            "                                                                 \n",
            " dropout_4 (Dropout)         (None, 16)                0         \n",
            "                                                                 \n",
            " dense_5 (Dense)             (None, 1)                 17        \n",
            "                                                                 \n",
            "=================================================================\n",
            "Total params: 47,361\n",
            "Trainable params: 47,361\n",
            "Non-trainable params: 0\n",
            "_________________________________________________________________\n"
          ]
        }
      ]
    },
    {
      "cell_type": "code",
      "source": [
        "adam = tf.keras.optimizers.Adam(learning_rate=0.0005)\n",
        "\n",
        "# Melakukan compile model\n",
        "model.compile(optimizer = adam, loss = 'mse', metrics = ['mae'])"
      ],
      "metadata": {
        "id": "cJ4TQ3UMLIz5"
      },
      "execution_count": 35,
      "outputs": []
    },
    {
      "cell_type": "code",
      "source": [
        "# # Membuat callback EarlyStoping\n",
        "# early_stop = EarlyStopping(monitor='val_loss', mode='min', verbose=1, patience=10)"
      ],
      "metadata": {
        "id": "djatXWuSQtsf"
      },
      "execution_count": 36,
      "outputs": []
    },
    {
      "cell_type": "code",
      "source": [
        "# Melakukan proses fitting model\n",
        "history = model.fit(\n",
        "    X_train_preprocessed,\n",
        "    y_train,\n",
        "    validation_split = 0.25, \n",
        "    batch_size = 50,\n",
        "    epochs = 300,\n",
        "    verbose = 1\n",
        "    # callbacks = [early_stop]\n",
        ")"
      ],
      "metadata": {
        "colab": {
          "base_uri": "https://localhost:8080/"
        },
        "id": "lVKkFatrOe1E",
        "outputId": "aa7a165d-131f-4613-d289-4047a8716294"
      },
      "execution_count": 37,
      "outputs": [
        {
          "output_type": "stream",
          "name": "stdout",
          "text": [
            "Epoch 1/300\n",
            "120/120 [==============================] - 4s 18ms/step - loss: 39405.3984 - mae: 56.2296 - val_loss: 62074.3828 - val_mae: 57.3660\n",
            "Epoch 2/300\n",
            "120/120 [==============================] - 1s 9ms/step - loss: 33657.0312 - mae: 49.5064 - val_loss: 47585.9453 - val_mae: 45.3349\n",
            "Epoch 3/300\n",
            "120/120 [==============================] - 1s 9ms/step - loss: 27982.0449 - mae: 44.9652 - val_loss: 41788.2188 - val_mae: 47.0217\n",
            "Epoch 4/300\n",
            "120/120 [==============================] - 1s 8ms/step - loss: 24653.2676 - mae: 44.0426 - val_loss: 35175.3984 - val_mae: 42.9283\n",
            "Epoch 5/300\n",
            "120/120 [==============================] - 1s 9ms/step - loss: 24632.9883 - mae: 45.0465 - val_loss: 33761.3008 - val_mae: 43.3823\n",
            "Epoch 6/300\n",
            "120/120 [==============================] - 1s 12ms/step - loss: 22569.6152 - mae: 42.3339 - val_loss: 33661.2500 - val_mae: 42.6308\n",
            "Epoch 7/300\n",
            "120/120 [==============================] - 1s 8ms/step - loss: 23650.0234 - mae: 43.0072 - val_loss: 33262.9844 - val_mae: 41.4364\n",
            "Epoch 8/300\n",
            "120/120 [==============================] - 1s 7ms/step - loss: 22040.2949 - mae: 42.1194 - val_loss: 31720.5898 - val_mae: 41.7940\n",
            "Epoch 9/300\n",
            "120/120 [==============================] - 1s 8ms/step - loss: 22463.8418 - mae: 42.4015 - val_loss: 31007.9180 - val_mae: 40.6855\n",
            "Epoch 10/300\n",
            "120/120 [==============================] - 1s 8ms/step - loss: 19196.5801 - mae: 42.4165 - val_loss: 30594.6289 - val_mae: 43.1288\n",
            "Epoch 11/300\n",
            "120/120 [==============================] - 1s 7ms/step - loss: 22011.4473 - mae: 43.8436 - val_loss: 32890.9141 - val_mae: 44.2584\n",
            "Epoch 12/300\n",
            "120/120 [==============================] - 1s 9ms/step - loss: 18060.7305 - mae: 42.9422 - val_loss: 29521.5820 - val_mae: 40.6644\n",
            "Epoch 13/300\n",
            "120/120 [==============================] - 1s 9ms/step - loss: 21732.7891 - mae: 43.7859 - val_loss: 28406.1758 - val_mae: 40.6597\n",
            "Epoch 14/300\n",
            "120/120 [==============================] - 1s 8ms/step - loss: 20632.8027 - mae: 42.5460 - val_loss: 27907.0820 - val_mae: 40.2186\n",
            "Epoch 15/300\n",
            "120/120 [==============================] - 1s 7ms/step - loss: 19554.1875 - mae: 42.0781 - val_loss: 27398.7988 - val_mae: 37.4662\n",
            "Epoch 16/300\n",
            "120/120 [==============================] - 1s 8ms/step - loss: 14764.7949 - mae: 39.2186 - val_loss: 24836.2891 - val_mae: 36.4526\n",
            "Epoch 17/300\n",
            "120/120 [==============================] - 1s 6ms/step - loss: 19113.1621 - mae: 39.3290 - val_loss: 27452.1211 - val_mae: 35.9367\n",
            "Epoch 18/300\n",
            "120/120 [==============================] - 1s 7ms/step - loss: 16611.4590 - mae: 38.1474 - val_loss: 25950.6777 - val_mae: 35.7406\n",
            "Epoch 19/300\n",
            "120/120 [==============================] - 1s 8ms/step - loss: 17589.1738 - mae: 38.5721 - val_loss: 22265.6230 - val_mae: 34.8792\n",
            "Epoch 20/300\n",
            "120/120 [==============================] - 0s 4ms/step - loss: 17918.3516 - mae: 39.2813 - val_loss: 27034.2324 - val_mae: 37.2933\n",
            "Epoch 21/300\n",
            "120/120 [==============================] - 0s 4ms/step - loss: 18206.0293 - mae: 38.6931 - val_loss: 26282.9766 - val_mae: 36.6879\n",
            "Epoch 22/300\n",
            "120/120 [==============================] - 0s 4ms/step - loss: 14181.0830 - mae: 36.3770 - val_loss: 22917.7266 - val_mae: 34.1746\n",
            "Epoch 23/300\n",
            "120/120 [==============================] - 0s 4ms/step - loss: 15114.0225 - mae: 37.1392 - val_loss: 23786.8262 - val_mae: 36.4211\n",
            "Epoch 24/300\n",
            "120/120 [==============================] - 0s 4ms/step - loss: 11808.3174 - mae: 36.9150 - val_loss: 19834.4863 - val_mae: 34.0782\n",
            "Epoch 25/300\n",
            "120/120 [==============================] - 0s 4ms/step - loss: 15153.4512 - mae: 36.9614 - val_loss: 22417.3164 - val_mae: 37.2252\n",
            "Epoch 26/300\n",
            "120/120 [==============================] - 0s 4ms/step - loss: 13030.1494 - mae: 37.3148 - val_loss: 21435.6875 - val_mae: 34.9049\n",
            "Epoch 27/300\n",
            "120/120 [==============================] - 0s 4ms/step - loss: 14302.1777 - mae: 36.5401 - val_loss: 23716.1484 - val_mae: 35.7911\n",
            "Epoch 28/300\n",
            "120/120 [==============================] - 0s 4ms/step - loss: 16781.4512 - mae: 37.5731 - val_loss: 23769.7695 - val_mae: 38.0697\n",
            "Epoch 29/300\n",
            "120/120 [==============================] - 0s 4ms/step - loss: 15576.1016 - mae: 36.4128 - val_loss: 20809.2090 - val_mae: 34.9624\n",
            "Epoch 30/300\n",
            "120/120 [==============================] - 0s 4ms/step - loss: 13061.7422 - mae: 36.2450 - val_loss: 18856.9238 - val_mae: 36.1704\n",
            "Epoch 31/300\n",
            "120/120 [==============================] - 0s 4ms/step - loss: 12904.3271 - mae: 36.6161 - val_loss: 20121.8398 - val_mae: 36.4384\n",
            "Epoch 32/300\n",
            "120/120 [==============================] - 0s 4ms/step - loss: 15355.6514 - mae: 37.2491 - val_loss: 16363.6504 - val_mae: 33.7375\n",
            "Epoch 33/300\n",
            "120/120 [==============================] - 0s 4ms/step - loss: 13868.0000 - mae: 35.8484 - val_loss: 18052.4570 - val_mae: 33.6277\n",
            "Epoch 34/300\n",
            "120/120 [==============================] - 0s 4ms/step - loss: 15585.5273 - mae: 36.3942 - val_loss: 17599.9297 - val_mae: 34.7262\n",
            "Epoch 35/300\n",
            "120/120 [==============================] - 0s 4ms/step - loss: 10189.5654 - mae: 35.1580 - val_loss: 18576.6621 - val_mae: 34.2492\n",
            "Epoch 36/300\n",
            "120/120 [==============================] - 0s 4ms/step - loss: 14640.5537 - mae: 36.3685 - val_loss: 25730.3574 - val_mae: 35.5923\n",
            "Epoch 37/300\n",
            "120/120 [==============================] - 0s 4ms/step - loss: 15515.5732 - mae: 36.4449 - val_loss: 22900.6484 - val_mae: 34.0380\n",
            "Epoch 38/300\n",
            "120/120 [==============================] - 0s 4ms/step - loss: 14289.2490 - mae: 35.9801 - val_loss: 20902.7598 - val_mae: 34.0732\n",
            "Epoch 39/300\n",
            "120/120 [==============================] - 1s 4ms/step - loss: 10783.7891 - mae: 34.9321 - val_loss: 16446.6855 - val_mae: 33.1503\n",
            "Epoch 40/300\n",
            "120/120 [==============================] - 1s 4ms/step - loss: 12621.3066 - mae: 35.9717 - val_loss: 16368.4717 - val_mae: 35.3977\n",
            "Epoch 41/300\n",
            "120/120 [==============================] - 0s 4ms/step - loss: 12187.1064 - mae: 34.9144 - val_loss: 16537.0000 - val_mae: 34.3903\n",
            "Epoch 42/300\n",
            "120/120 [==============================] - 0s 4ms/step - loss: 12681.3184 - mae: 35.5369 - val_loss: 17983.1035 - val_mae: 33.7007\n",
            "Epoch 43/300\n",
            "120/120 [==============================] - 0s 4ms/step - loss: 11131.2412 - mae: 34.6850 - val_loss: 18038.0469 - val_mae: 33.6773\n",
            "Epoch 44/300\n",
            "120/120 [==============================] - 0s 4ms/step - loss: 10425.8643 - mae: 34.5477 - val_loss: 17885.9434 - val_mae: 32.7632\n",
            "Epoch 45/300\n",
            "120/120 [==============================] - 0s 4ms/step - loss: 12408.9365 - mae: 35.4821 - val_loss: 17071.5469 - val_mae: 33.0946\n",
            "Epoch 46/300\n",
            "120/120 [==============================] - 0s 4ms/step - loss: 12152.0303 - mae: 34.8366 - val_loss: 21897.2383 - val_mae: 34.0278\n",
            "Epoch 47/300\n",
            "120/120 [==============================] - 0s 4ms/step - loss: 13595.4678 - mae: 35.8424 - val_loss: 14194.6885 - val_mae: 32.0974\n",
            "Epoch 48/300\n",
            "120/120 [==============================] - 0s 4ms/step - loss: 11733.0312 - mae: 34.7952 - val_loss: 16422.0957 - val_mae: 34.5771\n",
            "Epoch 49/300\n",
            "120/120 [==============================] - 0s 4ms/step - loss: 13506.0645 - mae: 35.7012 - val_loss: 13426.7451 - val_mae: 32.8936\n",
            "Epoch 50/300\n",
            "120/120 [==============================] - 0s 4ms/step - loss: 9340.8447 - mae: 33.3902 - val_loss: 15069.8779 - val_mae: 32.8937\n",
            "Epoch 51/300\n",
            "120/120 [==============================] - 0s 4ms/step - loss: 11990.5615 - mae: 34.6572 - val_loss: 15769.3252 - val_mae: 32.9706\n",
            "Epoch 52/300\n",
            "120/120 [==============================] - 0s 4ms/step - loss: 11961.1445 - mae: 34.9018 - val_loss: 18399.3965 - val_mae: 33.4625\n",
            "Epoch 53/300\n",
            "120/120 [==============================] - 0s 4ms/step - loss: 14488.3887 - mae: 35.0907 - val_loss: 15819.9551 - val_mae: 32.8881\n",
            "Epoch 54/300\n",
            "120/120 [==============================] - 0s 4ms/step - loss: 12436.4346 - mae: 34.4832 - val_loss: 18987.8750 - val_mae: 34.7782\n",
            "Epoch 55/300\n",
            "120/120 [==============================] - 1s 4ms/step - loss: 11118.3418 - mae: 33.5545 - val_loss: 14874.6143 - val_mae: 33.2072\n",
            "Epoch 56/300\n",
            "120/120 [==============================] - 1s 4ms/step - loss: 13176.4736 - mae: 35.4092 - val_loss: 15181.7842 - val_mae: 34.1985\n",
            "Epoch 57/300\n",
            "120/120 [==============================] - 1s 4ms/step - loss: 15531.3662 - mae: 36.0764 - val_loss: 21820.8984 - val_mae: 33.9603\n",
            "Epoch 58/300\n",
            "120/120 [==============================] - 0s 4ms/step - loss: 9971.7871 - mae: 33.7769 - val_loss: 17281.5547 - val_mae: 31.9606\n",
            "Epoch 59/300\n",
            "120/120 [==============================] - 1s 4ms/step - loss: 10126.1602 - mae: 33.9291 - val_loss: 15088.2598 - val_mae: 32.7258\n",
            "Epoch 60/300\n",
            "120/120 [==============================] - 0s 4ms/step - loss: 10873.2812 - mae: 34.5387 - val_loss: 15952.4502 - val_mae: 32.6025\n",
            "Epoch 61/300\n",
            "120/120 [==============================] - 0s 4ms/step - loss: 10094.3486 - mae: 33.8396 - val_loss: 21405.4082 - val_mae: 35.2621\n",
            "Epoch 62/300\n",
            "120/120 [==============================] - 0s 4ms/step - loss: 10646.4873 - mae: 33.5301 - val_loss: 20069.5957 - val_mae: 34.3878\n",
            "Epoch 63/300\n",
            "120/120 [==============================] - 1s 4ms/step - loss: 14188.2432 - mae: 34.7692 - val_loss: 17847.3105 - val_mae: 34.6197\n",
            "Epoch 64/300\n",
            "120/120 [==============================] - 0s 4ms/step - loss: 11492.5635 - mae: 33.7830 - val_loss: 12836.1377 - val_mae: 31.4443\n",
            "Epoch 65/300\n",
            "120/120 [==============================] - 0s 4ms/step - loss: 10707.5312 - mae: 32.8435 - val_loss: 16045.4160 - val_mae: 32.6248\n",
            "Epoch 66/300\n",
            "120/120 [==============================] - 0s 4ms/step - loss: 11251.2939 - mae: 33.5790 - val_loss: 13354.2256 - val_mae: 32.3014\n",
            "Epoch 67/300\n",
            "120/120 [==============================] - 0s 4ms/step - loss: 11055.9453 - mae: 33.4969 - val_loss: 14852.6270 - val_mae: 32.5234\n",
            "Epoch 68/300\n",
            "120/120 [==============================] - 0s 4ms/step - loss: 9953.0713 - mae: 32.9084 - val_loss: 13528.1162 - val_mae: 31.2204\n",
            "Epoch 69/300\n",
            "120/120 [==============================] - 0s 4ms/step - loss: 9734.4014 - mae: 33.0840 - val_loss: 15986.8682 - val_mae: 32.7672\n",
            "Epoch 70/300\n",
            "120/120 [==============================] - 0s 4ms/step - loss: 10661.7803 - mae: 33.3637 - val_loss: 13818.0137 - val_mae: 32.9719\n",
            "Epoch 71/300\n",
            "120/120 [==============================] - 0s 4ms/step - loss: 11794.5586 - mae: 33.9101 - val_loss: 14462.2793 - val_mae: 33.4182\n",
            "Epoch 72/300\n",
            "120/120 [==============================] - 0s 4ms/step - loss: 9850.3398 - mae: 33.6970 - val_loss: 17304.1055 - val_mae: 31.6457\n",
            "Epoch 73/300\n",
            "120/120 [==============================] - 0s 4ms/step - loss: 10836.3330 - mae: 34.0116 - val_loss: 12711.4463 - val_mae: 30.9878\n",
            "Epoch 74/300\n",
            "120/120 [==============================] - 0s 4ms/step - loss: 13352.0303 - mae: 33.4844 - val_loss: 15538.4336 - val_mae: 32.3875\n",
            "Epoch 75/300\n",
            "120/120 [==============================] - 0s 4ms/step - loss: 8980.0830 - mae: 32.1883 - val_loss: 15995.0713 - val_mae: 32.9964\n",
            "Epoch 76/300\n",
            "120/120 [==============================] - 0s 4ms/step - loss: 22070.2969 - mae: 35.5425 - val_loss: 18032.8340 - val_mae: 33.1778\n",
            "Epoch 77/300\n",
            "120/120 [==============================] - 0s 4ms/step - loss: 8646.8018 - mae: 32.7041 - val_loss: 15613.1396 - val_mae: 32.5929\n",
            "Epoch 78/300\n",
            "120/120 [==============================] - 0s 4ms/step - loss: 9405.2344 - mae: 32.3412 - val_loss: 16105.9141 - val_mae: 33.8926\n",
            "Epoch 79/300\n",
            "120/120 [==============================] - 0s 4ms/step - loss: 10717.5000 - mae: 32.4683 - val_loss: 14572.8643 - val_mae: 33.1575\n",
            "Epoch 80/300\n",
            "120/120 [==============================] - 1s 4ms/step - loss: 9785.3574 - mae: 32.5199 - val_loss: 14853.4443 - val_mae: 32.3703\n",
            "Epoch 81/300\n",
            "120/120 [==============================] - 0s 4ms/step - loss: 10345.3623 - mae: 32.7207 - val_loss: 11716.2373 - val_mae: 30.5647\n",
            "Epoch 82/300\n",
            "120/120 [==============================] - 0s 4ms/step - loss: 12713.2139 - mae: 33.8030 - val_loss: 12813.7793 - val_mae: 31.2358\n",
            "Epoch 83/300\n",
            "120/120 [==============================] - 0s 4ms/step - loss: 10295.1660 - mae: 33.3021 - val_loss: 14545.4199 - val_mae: 32.3183\n",
            "Epoch 84/300\n",
            "120/120 [==============================] - 0s 4ms/step - loss: 10575.9521 - mae: 33.4290 - val_loss: 13006.5215 - val_mae: 31.5061\n",
            "Epoch 85/300\n",
            "120/120 [==============================] - 0s 4ms/step - loss: 10060.4287 - mae: 32.7950 - val_loss: 13939.0859 - val_mae: 32.4047\n",
            "Epoch 86/300\n",
            "120/120 [==============================] - 0s 4ms/step - loss: 10277.4160 - mae: 33.1941 - val_loss: 13881.8262 - val_mae: 31.6123\n",
            "Epoch 87/300\n",
            "120/120 [==============================] - 0s 4ms/step - loss: 9923.9941 - mae: 33.0329 - val_loss: 19763.6074 - val_mae: 34.5884\n",
            "Epoch 88/300\n",
            "120/120 [==============================] - 0s 4ms/step - loss: 11188.9775 - mae: 32.9731 - val_loss: 13710.9463 - val_mae: 32.2221\n",
            "Epoch 89/300\n",
            "120/120 [==============================] - 0s 4ms/step - loss: 10349.0352 - mae: 33.7783 - val_loss: 13201.3467 - val_mae: 32.2239\n",
            "Epoch 90/300\n",
            "120/120 [==============================] - 0s 4ms/step - loss: 7735.0869 - mae: 31.3868 - val_loss: 11659.5938 - val_mae: 30.6751\n",
            "Epoch 91/300\n",
            "120/120 [==============================] - 0s 4ms/step - loss: 9925.4834 - mae: 32.9769 - val_loss: 14953.3613 - val_mae: 30.8968\n",
            "Epoch 92/300\n",
            "120/120 [==============================] - 0s 4ms/step - loss: 12388.4238 - mae: 33.9106 - val_loss: 14242.7842 - val_mae: 31.5335\n",
            "Epoch 93/300\n",
            "120/120 [==============================] - 0s 4ms/step - loss: 10568.9473 - mae: 33.2491 - val_loss: 14744.3721 - val_mae: 32.4663\n",
            "Epoch 94/300\n",
            "120/120 [==============================] - 0s 4ms/step - loss: 11339.1250 - mae: 32.9173 - val_loss: 11510.3301 - val_mae: 31.4062\n",
            "Epoch 95/300\n",
            "120/120 [==============================] - 0s 4ms/step - loss: 10271.0576 - mae: 32.7053 - val_loss: 11911.0566 - val_mae: 31.0524\n",
            "Epoch 96/300\n",
            "120/120 [==============================] - 0s 4ms/step - loss: 10994.5352 - mae: 33.3992 - val_loss: 12738.6455 - val_mae: 30.8013\n",
            "Epoch 97/300\n",
            "120/120 [==============================] - 0s 4ms/step - loss: 8678.8086 - mae: 31.5860 - val_loss: 12218.0215 - val_mae: 30.5483\n",
            "Epoch 98/300\n",
            "120/120 [==============================] - 0s 4ms/step - loss: 10923.8076 - mae: 32.1889 - val_loss: 22283.1309 - val_mae: 33.6502\n",
            "Epoch 99/300\n",
            "120/120 [==============================] - 0s 4ms/step - loss: 13191.4971 - mae: 33.6608 - val_loss: 15211.9492 - val_mae: 31.6221\n",
            "Epoch 100/300\n",
            "120/120 [==============================] - 0s 4ms/step - loss: 11311.5732 - mae: 33.2468 - val_loss: 18672.7676 - val_mae: 32.8772\n",
            "Epoch 101/300\n",
            "120/120 [==============================] - 1s 4ms/step - loss: 11034.5605 - mae: 32.2631 - val_loss: 14445.1201 - val_mae: 30.2951\n",
            "Epoch 102/300\n",
            "120/120 [==============================] - 0s 4ms/step - loss: 8079.4775 - mae: 32.0693 - val_loss: 12419.9688 - val_mae: 30.5636\n",
            "Epoch 103/300\n",
            "120/120 [==============================] - 0s 4ms/step - loss: 10689.4072 - mae: 33.0462 - val_loss: 15847.4336 - val_mae: 32.1976\n",
            "Epoch 104/300\n",
            "120/120 [==============================] - 0s 4ms/step - loss: 11238.4346 - mae: 32.9794 - val_loss: 12559.9590 - val_mae: 32.2146\n",
            "Epoch 105/300\n",
            "120/120 [==============================] - 0s 4ms/step - loss: 8624.7334 - mae: 32.3089 - val_loss: 16813.1582 - val_mae: 31.4654\n",
            "Epoch 106/300\n",
            "120/120 [==============================] - 0s 4ms/step - loss: 9127.6562 - mae: 31.8747 - val_loss: 17538.4688 - val_mae: 33.2175\n",
            "Epoch 107/300\n",
            "120/120 [==============================] - 0s 4ms/step - loss: 11437.0488 - mae: 32.8029 - val_loss: 13732.9014 - val_mae: 31.3323\n",
            "Epoch 108/300\n",
            "120/120 [==============================] - 0s 4ms/step - loss: 11103.7295 - mae: 33.4623 - val_loss: 16145.9453 - val_mae: 33.0628\n",
            "Epoch 109/300\n",
            "120/120 [==============================] - 0s 4ms/step - loss: 11229.2051 - mae: 32.0803 - val_loss: 14101.6152 - val_mae: 31.8002\n",
            "Epoch 110/300\n",
            "120/120 [==============================] - 0s 4ms/step - loss: 8098.6543 - mae: 31.5721 - val_loss: 14261.0645 - val_mae: 32.3966\n",
            "Epoch 111/300\n",
            "120/120 [==============================] - 1s 4ms/step - loss: 10130.8447 - mae: 32.6946 - val_loss: 13939.0654 - val_mae: 31.7386\n",
            "Epoch 112/300\n",
            "120/120 [==============================] - 0s 4ms/step - loss: 8229.4463 - mae: 31.8926 - val_loss: 16656.1113 - val_mae: 30.8336\n",
            "Epoch 113/300\n",
            "120/120 [==============================] - 0s 4ms/step - loss: 8727.0938 - mae: 31.7563 - val_loss: 16520.3613 - val_mae: 33.3646\n",
            "Epoch 114/300\n",
            "120/120 [==============================] - 1s 4ms/step - loss: 7947.0679 - mae: 32.1517 - val_loss: 15971.1475 - val_mae: 33.0700\n",
            "Epoch 115/300\n",
            "120/120 [==============================] - 1s 4ms/step - loss: 9643.0098 - mae: 32.2833 - val_loss: 12225.3574 - val_mae: 31.3569\n",
            "Epoch 116/300\n",
            "120/120 [==============================] - 0s 4ms/step - loss: 8982.0273 - mae: 31.5025 - val_loss: 16092.8027 - val_mae: 33.5543\n",
            "Epoch 117/300\n",
            "120/120 [==============================] - 0s 4ms/step - loss: 10429.9463 - mae: 32.7277 - val_loss: 12039.8398 - val_mae: 30.1720\n",
            "Epoch 118/300\n",
            "120/120 [==============================] - 1s 4ms/step - loss: 12341.2100 - mae: 32.6902 - val_loss: 14278.4463 - val_mae: 31.3158\n",
            "Epoch 119/300\n",
            "120/120 [==============================] - 0s 4ms/step - loss: 9041.3145 - mae: 31.4484 - val_loss: 12517.6689 - val_mae: 30.7984\n",
            "Epoch 120/300\n",
            "120/120 [==============================] - 0s 4ms/step - loss: 8812.6152 - mae: 31.6062 - val_loss: 11865.8037 - val_mae: 29.7801\n",
            "Epoch 121/300\n",
            "120/120 [==============================] - 0s 4ms/step - loss: 9776.6396 - mae: 32.2336 - val_loss: 19486.7324 - val_mae: 33.9105\n",
            "Epoch 122/300\n",
            "120/120 [==============================] - 0s 4ms/step - loss: 9905.7354 - mae: 32.6013 - val_loss: 14453.8926 - val_mae: 31.6607\n",
            "Epoch 123/300\n",
            "120/120 [==============================] - 0s 4ms/step - loss: 17131.0098 - mae: 33.1600 - val_loss: 28466.3320 - val_mae: 38.5829\n",
            "Epoch 124/300\n",
            "120/120 [==============================] - 0s 4ms/step - loss: 13247.1211 - mae: 34.2529 - val_loss: 16265.8818 - val_mae: 31.3191\n",
            "Epoch 125/300\n",
            "120/120 [==============================] - 0s 4ms/step - loss: 9239.2158 - mae: 30.9721 - val_loss: 12225.7393 - val_mae: 30.5013\n",
            "Epoch 126/300\n",
            "120/120 [==============================] - 0s 4ms/step - loss: 8901.4707 - mae: 32.1354 - val_loss: 13147.1816 - val_mae: 31.0064\n",
            "Epoch 127/300\n",
            "120/120 [==============================] - 0s 4ms/step - loss: 10710.4736 - mae: 32.0939 - val_loss: 15497.8945 - val_mae: 31.9239\n",
            "Epoch 128/300\n",
            "120/120 [==============================] - 0s 4ms/step - loss: 8792.4316 - mae: 32.1123 - val_loss: 12993.8252 - val_mae: 31.4433\n",
            "Epoch 129/300\n",
            "120/120 [==============================] - 0s 4ms/step - loss: 12173.9678 - mae: 32.2525 - val_loss: 13413.3057 - val_mae: 32.1383\n",
            "Epoch 130/300\n",
            "120/120 [==============================] - 0s 4ms/step - loss: 10296.2441 - mae: 32.3343 - val_loss: 14419.7852 - val_mae: 31.4119\n",
            "Epoch 131/300\n",
            "120/120 [==============================] - 0s 4ms/step - loss: 8190.9639 - mae: 31.4590 - val_loss: 15688.4824 - val_mae: 32.5816\n",
            "Epoch 132/300\n",
            "120/120 [==============================] - 0s 4ms/step - loss: 8310.8271 - mae: 31.5248 - val_loss: 15168.5010 - val_mae: 32.9653\n",
            "Epoch 133/300\n",
            "120/120 [==============================] - 0s 4ms/step - loss: 10782.5020 - mae: 31.8028 - val_loss: 12724.4268 - val_mae: 30.9785\n",
            "Epoch 134/300\n",
            "120/120 [==============================] - 0s 4ms/step - loss: 6946.8154 - mae: 30.7003 - val_loss: 14480.6064 - val_mae: 32.0206\n",
            "Epoch 135/300\n",
            "120/120 [==============================] - 0s 4ms/step - loss: 8176.7783 - mae: 31.0891 - val_loss: 15744.2080 - val_mae: 32.8402\n",
            "Epoch 136/300\n",
            "120/120 [==============================] - 0s 4ms/step - loss: 9362.9043 - mae: 31.7403 - val_loss: 17059.4492 - val_mae: 31.0724\n",
            "Epoch 137/300\n",
            "120/120 [==============================] - 0s 4ms/step - loss: 12247.1377 - mae: 32.7103 - val_loss: 16780.8125 - val_mae: 33.3887\n",
            "Epoch 138/300\n",
            "120/120 [==============================] - 0s 4ms/step - loss: 8960.3398 - mae: 31.7224 - val_loss: 11583.6348 - val_mae: 30.1938\n",
            "Epoch 139/300\n",
            "120/120 [==============================] - 0s 4ms/step - loss: 8285.2539 - mae: 31.9455 - val_loss: 12366.1992 - val_mae: 30.4081\n",
            "Epoch 140/300\n",
            "120/120 [==============================] - 0s 4ms/step - loss: 7821.3350 - mae: 31.3227 - val_loss: 14396.7529 - val_mae: 32.4577\n",
            "Epoch 141/300\n",
            "120/120 [==============================] - 0s 4ms/step - loss: 11891.5566 - mae: 32.3365 - val_loss: 26061.8984 - val_mae: 36.9001\n",
            "Epoch 142/300\n",
            "120/120 [==============================] - 0s 4ms/step - loss: 10894.2666 - mae: 32.5871 - val_loss: 15611.7432 - val_mae: 32.5655\n",
            "Epoch 143/300\n",
            "120/120 [==============================] - 0s 4ms/step - loss: 9021.3105 - mae: 31.2667 - val_loss: 14511.1475 - val_mae: 32.5199\n",
            "Epoch 144/300\n",
            "120/120 [==============================] - 1s 4ms/step - loss: 8825.3164 - mae: 32.1326 - val_loss: 13026.6826 - val_mae: 29.9100\n",
            "Epoch 145/300\n",
            "120/120 [==============================] - 0s 4ms/step - loss: 9755.6934 - mae: 31.8375 - val_loss: 14874.9062 - val_mae: 31.2977\n",
            "Epoch 146/300\n",
            "120/120 [==============================] - 0s 4ms/step - loss: 8037.1733 - mae: 31.0189 - val_loss: 13747.0918 - val_mae: 31.3114\n",
            "Epoch 147/300\n",
            "120/120 [==============================] - 0s 4ms/step - loss: 8453.8213 - mae: 31.0472 - val_loss: 11963.8125 - val_mae: 30.1233\n",
            "Epoch 148/300\n",
            "120/120 [==============================] - 0s 4ms/step - loss: 8643.9912 - mae: 32.0069 - val_loss: 12451.5420 - val_mae: 30.1865\n",
            "Epoch 149/300\n",
            "120/120 [==============================] - 0s 4ms/step - loss: 13042.6201 - mae: 33.2187 - val_loss: 18812.9883 - val_mae: 32.5128\n",
            "Epoch 150/300\n",
            "120/120 [==============================] - 0s 4ms/step - loss: 9113.0664 - mae: 32.1727 - val_loss: 13822.5850 - val_mae: 30.6454\n",
            "Epoch 151/300\n",
            "120/120 [==============================] - 1s 4ms/step - loss: 8066.9868 - mae: 31.2175 - val_loss: 13642.9297 - val_mae: 31.0340\n",
            "Epoch 152/300\n",
            "120/120 [==============================] - 0s 4ms/step - loss: 11003.9834 - mae: 32.8795 - val_loss: 14580.9521 - val_mae: 30.8894\n",
            "Epoch 153/300\n",
            "120/120 [==============================] - 0s 4ms/step - loss: 9222.2725 - mae: 31.5181 - val_loss: 13045.0078 - val_mae: 29.9739\n",
            "Epoch 154/300\n",
            "120/120 [==============================] - 0s 4ms/step - loss: 10710.7725 - mae: 32.8038 - val_loss: 15226.2910 - val_mae: 31.3589\n",
            "Epoch 155/300\n",
            "120/120 [==============================] - 1s 4ms/step - loss: 10751.9473 - mae: 30.6193 - val_loss: 14645.9863 - val_mae: 31.2668\n",
            "Epoch 156/300\n",
            "120/120 [==============================] - 0s 4ms/step - loss: 9487.5244 - mae: 31.1691 - val_loss: 12587.1201 - val_mae: 30.0405\n",
            "Epoch 157/300\n",
            "120/120 [==============================] - 1s 4ms/step - loss: 6578.1626 - mae: 30.2711 - val_loss: 14376.1553 - val_mae: 31.5626\n",
            "Epoch 158/300\n",
            "120/120 [==============================] - 0s 4ms/step - loss: 9586.0342 - mae: 31.3599 - val_loss: 14338.0430 - val_mae: 30.6680\n",
            "Epoch 159/300\n",
            "120/120 [==============================] - 1s 4ms/step - loss: 8032.7251 - mae: 30.0920 - val_loss: 12276.8359 - val_mae: 29.1080\n",
            "Epoch 160/300\n",
            "120/120 [==============================] - 0s 4ms/step - loss: 8762.2734 - mae: 30.6549 - val_loss: 15493.4844 - val_mae: 33.5901\n",
            "Epoch 161/300\n",
            "120/120 [==============================] - 0s 4ms/step - loss: 8146.0571 - mae: 30.4695 - val_loss: 13951.9268 - val_mae: 30.6553\n",
            "Epoch 162/300\n",
            "120/120 [==============================] - 0s 4ms/step - loss: 11435.1377 - mae: 31.3441 - val_loss: 22082.6406 - val_mae: 34.9910\n",
            "Epoch 163/300\n",
            "120/120 [==============================] - 0s 4ms/step - loss: 9154.3525 - mae: 31.8235 - val_loss: 14162.6250 - val_mae: 31.7025\n",
            "Epoch 164/300\n",
            "120/120 [==============================] - 0s 4ms/step - loss: 10407.3994 - mae: 31.2662 - val_loss: 15311.9668 - val_mae: 30.2352\n",
            "Epoch 165/300\n",
            "120/120 [==============================] - 0s 4ms/step - loss: 12425.0752 - mae: 32.7953 - val_loss: 26664.8594 - val_mae: 36.4303\n",
            "Epoch 166/300\n",
            "120/120 [==============================] - 0s 4ms/step - loss: 10219.2402 - mae: 31.2487 - val_loss: 16048.4131 - val_mae: 31.7310\n",
            "Epoch 167/300\n",
            "120/120 [==============================] - 0s 4ms/step - loss: 9119.0635 - mae: 30.9594 - val_loss: 18592.5879 - val_mae: 32.7673\n",
            "Epoch 168/300\n",
            "120/120 [==============================] - 0s 4ms/step - loss: 8258.5889 - mae: 31.0258 - val_loss: 14452.6748 - val_mae: 32.1467\n",
            "Epoch 169/300\n",
            "120/120 [==============================] - 0s 4ms/step - loss: 8049.4751 - mae: 30.7029 - val_loss: 15809.0254 - val_mae: 31.6460\n",
            "Epoch 170/300\n",
            "120/120 [==============================] - 0s 4ms/step - loss: 10317.4893 - mae: 31.8711 - val_loss: 16276.8857 - val_mae: 33.1485\n",
            "Epoch 171/300\n",
            "120/120 [==============================] - 0s 4ms/step - loss: 8218.7490 - mae: 30.5949 - val_loss: 12669.9990 - val_mae: 30.3235\n",
            "Epoch 172/300\n",
            "120/120 [==============================] - 0s 4ms/step - loss: 10375.0820 - mae: 31.7620 - val_loss: 17282.2422 - val_mae: 31.9663\n",
            "Epoch 173/300\n",
            "120/120 [==============================] - 0s 4ms/step - loss: 7763.1899 - mae: 30.2788 - val_loss: 12913.6680 - val_mae: 30.6838\n",
            "Epoch 174/300\n",
            "120/120 [==============================] - 0s 4ms/step - loss: 10053.2246 - mae: 31.8089 - val_loss: 17134.2012 - val_mae: 32.2884\n",
            "Epoch 175/300\n",
            "120/120 [==============================] - 0s 4ms/step - loss: 6999.6646 - mae: 30.5763 - val_loss: 13673.6416 - val_mae: 31.4803\n",
            "Epoch 176/300\n",
            "120/120 [==============================] - 0s 4ms/step - loss: 8292.2725 - mae: 31.0360 - val_loss: 16344.3213 - val_mae: 32.0726\n",
            "Epoch 177/300\n",
            "120/120 [==============================] - 0s 4ms/step - loss: 9667.9043 - mae: 31.4344 - val_loss: 25668.8613 - val_mae: 37.0014\n",
            "Epoch 178/300\n",
            "120/120 [==============================] - 0s 4ms/step - loss: 8083.0942 - mae: 30.8336 - val_loss: 14915.8613 - val_mae: 31.2485\n",
            "Epoch 179/300\n",
            "120/120 [==============================] - 0s 4ms/step - loss: 8004.2690 - mae: 30.6586 - val_loss: 16266.6211 - val_mae: 31.1366\n",
            "Epoch 180/300\n",
            "120/120 [==============================] - 0s 4ms/step - loss: 8641.2246 - mae: 31.0282 - val_loss: 13954.6572 - val_mae: 30.8502\n",
            "Epoch 181/300\n",
            "120/120 [==============================] - 0s 4ms/step - loss: 7481.9458 - mae: 29.7224 - val_loss: 15237.5879 - val_mae: 31.8751\n",
            "Epoch 182/300\n",
            "120/120 [==============================] - 0s 4ms/step - loss: 9058.7002 - mae: 31.4408 - val_loss: 13686.3320 - val_mae: 31.7688\n",
            "Epoch 183/300\n",
            "120/120 [==============================] - 0s 4ms/step - loss: 9088.2188 - mae: 31.2108 - val_loss: 13689.1289 - val_mae: 30.4295\n",
            "Epoch 184/300\n",
            "120/120 [==============================] - 1s 4ms/step - loss: 6607.3936 - mae: 29.7549 - val_loss: 12142.8486 - val_mae: 29.0680\n",
            "Epoch 185/300\n",
            "120/120 [==============================] - 1s 4ms/step - loss: 6522.0562 - mae: 29.1314 - val_loss: 12711.5918 - val_mae: 29.1370\n",
            "Epoch 186/300\n",
            "120/120 [==============================] - 1s 7ms/step - loss: 13776.3682 - mae: 31.7969 - val_loss: 14350.0977 - val_mae: 30.0183\n",
            "Epoch 187/300\n",
            "120/120 [==============================] - 1s 7ms/step - loss: 7740.7119 - mae: 30.7399 - val_loss: 14071.4248 - val_mae: 29.9109\n",
            "Epoch 188/300\n",
            "120/120 [==============================] - 1s 7ms/step - loss: 9088.0635 - mae: 30.7660 - val_loss: 16235.8301 - val_mae: 33.0231\n",
            "Epoch 189/300\n",
            "120/120 [==============================] - 1s 7ms/step - loss: 8760.5879 - mae: 31.0017 - val_loss: 15226.7031 - val_mae: 31.6596\n",
            "Epoch 190/300\n",
            "120/120 [==============================] - 1s 6ms/step - loss: 7555.7646 - mae: 30.1370 - val_loss: 13630.2324 - val_mae: 30.9217\n",
            "Epoch 191/300\n",
            "120/120 [==============================] - 0s 4ms/step - loss: 9132.9082 - mae: 30.8793 - val_loss: 12607.0781 - val_mae: 30.5822\n",
            "Epoch 192/300\n",
            "120/120 [==============================] - 0s 4ms/step - loss: 10086.0488 - mae: 31.6243 - val_loss: 20168.8672 - val_mae: 32.5858\n",
            "Epoch 193/300\n",
            "120/120 [==============================] - 0s 4ms/step - loss: 10285.3066 - mae: 31.5406 - val_loss: 13745.2646 - val_mae: 31.1020\n",
            "Epoch 194/300\n",
            "120/120 [==============================] - 0s 4ms/step - loss: 7529.7104 - mae: 30.4426 - val_loss: 13004.0371 - val_mae: 31.0328\n",
            "Epoch 195/300\n",
            "120/120 [==============================] - 0s 4ms/step - loss: 7699.3335 - mae: 30.3254 - val_loss: 12736.4521 - val_mae: 29.3496\n",
            "Epoch 196/300\n",
            "120/120 [==============================] - 0s 4ms/step - loss: 9087.9092 - mae: 30.6637 - val_loss: 14310.0020 - val_mae: 31.3202\n",
            "Epoch 197/300\n",
            "120/120 [==============================] - 0s 4ms/step - loss: 8093.5850 - mae: 30.4905 - val_loss: 15119.0811 - val_mae: 31.6231\n",
            "Epoch 198/300\n",
            "120/120 [==============================] - 1s 4ms/step - loss: 9240.4375 - mae: 30.9301 - val_loss: 13340.3252 - val_mae: 30.5889\n",
            "Epoch 199/300\n",
            "120/120 [==============================] - 0s 4ms/step - loss: 10298.5615 - mae: 31.0058 - val_loss: 15742.9756 - val_mae: 31.0594\n",
            "Epoch 200/300\n",
            "120/120 [==============================] - 1s 4ms/step - loss: 7475.2476 - mae: 30.0779 - val_loss: 15171.9668 - val_mae: 31.5449\n",
            "Epoch 201/300\n",
            "120/120 [==============================] - 1s 9ms/step - loss: 9473.8164 - mae: 30.6085 - val_loss: 14352.4238 - val_mae: 31.0968\n",
            "Epoch 202/300\n",
            "120/120 [==============================] - 1s 5ms/step - loss: 9121.1670 - mae: 30.5094 - val_loss: 24340.6426 - val_mae: 33.3685\n",
            "Epoch 203/300\n",
            "120/120 [==============================] - 0s 4ms/step - loss: 9496.2148 - mae: 30.8806 - val_loss: 17704.3828 - val_mae: 32.7618\n",
            "Epoch 204/300\n",
            "120/120 [==============================] - 0s 4ms/step - loss: 8068.6758 - mae: 29.9171 - val_loss: 15734.2334 - val_mae: 31.5478\n",
            "Epoch 205/300\n",
            "120/120 [==============================] - 0s 4ms/step - loss: 9065.7295 - mae: 31.0453 - val_loss: 15222.4512 - val_mae: 32.4527\n",
            "Epoch 206/300\n",
            "120/120 [==============================] - 0s 4ms/step - loss: 8156.5786 - mae: 30.7126 - val_loss: 15138.8457 - val_mae: 31.7647\n",
            "Epoch 207/300\n",
            "120/120 [==============================] - 1s 4ms/step - loss: 7006.4438 - mae: 29.8368 - val_loss: 15036.9961 - val_mae: 31.5430\n",
            "Epoch 208/300\n",
            "120/120 [==============================] - 0s 4ms/step - loss: 8167.9302 - mae: 30.2044 - val_loss: 12548.8652 - val_mae: 29.6228\n",
            "Epoch 209/300\n",
            "120/120 [==============================] - 0s 4ms/step - loss: 9154.8789 - mae: 31.5808 - val_loss: 24689.4082 - val_mae: 35.5775\n",
            "Epoch 210/300\n",
            "120/120 [==============================] - 0s 4ms/step - loss: 9860.1436 - mae: 30.8142 - val_loss: 12669.0205 - val_mae: 30.2618\n",
            "Epoch 211/300\n",
            "120/120 [==============================] - 1s 4ms/step - loss: 8509.2441 - mae: 30.1712 - val_loss: 12363.9727 - val_mae: 29.9926\n",
            "Epoch 212/300\n",
            "120/120 [==============================] - 0s 4ms/step - loss: 8479.6865 - mae: 30.7696 - val_loss: 12358.6426 - val_mae: 29.7218\n",
            "Epoch 213/300\n",
            "120/120 [==============================] - 1s 4ms/step - loss: 9201.6064 - mae: 30.7524 - val_loss: 13845.1143 - val_mae: 30.9951\n",
            "Epoch 214/300\n",
            "120/120 [==============================] - 0s 4ms/step - loss: 8053.2954 - mae: 30.6432 - val_loss: 13198.6104 - val_mae: 30.2371\n",
            "Epoch 215/300\n",
            "120/120 [==============================] - 1s 4ms/step - loss: 8222.0352 - mae: 30.1789 - val_loss: 14587.2822 - val_mae: 31.6519\n",
            "Epoch 216/300\n",
            "120/120 [==============================] - 1s 5ms/step - loss: 7052.2119 - mae: 29.6593 - val_loss: 12786.5557 - val_mae: 28.8486\n",
            "Epoch 217/300\n",
            "120/120 [==============================] - 0s 4ms/step - loss: 6988.1646 - mae: 29.8714 - val_loss: 13299.7520 - val_mae: 30.2379\n",
            "Epoch 218/300\n",
            "120/120 [==============================] - 0s 4ms/step - loss: 8858.6992 - mae: 31.1020 - val_loss: 13796.6621 - val_mae: 30.8900\n",
            "Epoch 219/300\n",
            "120/120 [==============================] - 0s 4ms/step - loss: 7596.9150 - mae: 30.0808 - val_loss: 13365.0078 - val_mae: 30.5845\n",
            "Epoch 220/300\n",
            "120/120 [==============================] - 0s 4ms/step - loss: 6913.0215 - mae: 29.5519 - val_loss: 14278.6250 - val_mae: 31.5810\n",
            "Epoch 221/300\n",
            "120/120 [==============================] - 0s 4ms/step - loss: 7857.7827 - mae: 30.3348 - val_loss: 13434.9756 - val_mae: 30.7915\n",
            "Epoch 222/300\n",
            "120/120 [==============================] - 0s 4ms/step - loss: 8524.1338 - mae: 30.8395 - val_loss: 15189.7246 - val_mae: 32.1371\n",
            "Epoch 223/300\n",
            "120/120 [==============================] - 0s 4ms/step - loss: 11199.7715 - mae: 31.5147 - val_loss: 14503.0195 - val_mae: 30.4653\n",
            "Epoch 224/300\n",
            "120/120 [==============================] - 0s 4ms/step - loss: 9668.7334 - mae: 30.9610 - val_loss: 13535.9688 - val_mae: 30.2919\n",
            "Epoch 225/300\n",
            "120/120 [==============================] - 0s 4ms/step - loss: 7794.3257 - mae: 30.1362 - val_loss: 13613.5889 - val_mae: 30.2121\n",
            "Epoch 226/300\n",
            "120/120 [==============================] - 1s 4ms/step - loss: 7070.4697 - mae: 29.7211 - val_loss: 14030.9746 - val_mae: 30.0633\n",
            "Epoch 227/300\n",
            "120/120 [==============================] - 1s 4ms/step - loss: 11432.7236 - mae: 30.9119 - val_loss: 14890.8887 - val_mae: 31.6161\n",
            "Epoch 228/300\n",
            "120/120 [==============================] - 0s 4ms/step - loss: 7653.0825 - mae: 30.4902 - val_loss: 13650.6367 - val_mae: 30.4099\n",
            "Epoch 229/300\n",
            "120/120 [==============================] - 1s 4ms/step - loss: 8021.0088 - mae: 30.1473 - val_loss: 13912.6455 - val_mae: 30.5981\n",
            "Epoch 230/300\n",
            "120/120 [==============================] - 1s 4ms/step - loss: 8311.9951 - mae: 30.1109 - val_loss: 13671.1309 - val_mae: 30.0190\n",
            "Epoch 231/300\n",
            "120/120 [==============================] - 1s 4ms/step - loss: 9706.7402 - mae: 31.3516 - val_loss: 14239.0996 - val_mae: 30.8931\n",
            "Epoch 232/300\n",
            "120/120 [==============================] - 1s 4ms/step - loss: 11257.0996 - mae: 31.4130 - val_loss: 14518.5938 - val_mae: 31.2306\n",
            "Epoch 233/300\n",
            "120/120 [==============================] - 1s 4ms/step - loss: 7190.9751 - mae: 30.1362 - val_loss: 13650.3184 - val_mae: 30.3486\n",
            "Epoch 234/300\n",
            "120/120 [==============================] - 1s 4ms/step - loss: 6521.4858 - mae: 29.4859 - val_loss: 12721.3369 - val_mae: 29.3022\n",
            "Epoch 235/300\n",
            "120/120 [==============================] - 0s 4ms/step - loss: 10071.5566 - mae: 30.6041 - val_loss: 13940.7568 - val_mae: 30.2803\n",
            "Epoch 236/300\n",
            "120/120 [==============================] - 0s 4ms/step - loss: 10554.4365 - mae: 31.2787 - val_loss: 24767.0781 - val_mae: 34.4420\n",
            "Epoch 237/300\n",
            "120/120 [==============================] - 0s 4ms/step - loss: 9545.4473 - mae: 31.0974 - val_loss: 15056.3428 - val_mae: 31.1276\n",
            "Epoch 238/300\n",
            "120/120 [==============================] - 0s 4ms/step - loss: 7382.1079 - mae: 30.0080 - val_loss: 12468.2471 - val_mae: 29.3467\n",
            "Epoch 239/300\n",
            "120/120 [==============================] - 0s 4ms/step - loss: 8109.7808 - mae: 30.1125 - val_loss: 15849.4248 - val_mae: 32.1455\n",
            "Epoch 240/300\n",
            "120/120 [==============================] - 0s 4ms/step - loss: 6508.6724 - mae: 29.1571 - val_loss: 14787.0547 - val_mae: 31.1916\n",
            "Epoch 241/300\n",
            "120/120 [==============================] - 0s 4ms/step - loss: 7075.5303 - mae: 30.1862 - val_loss: 15208.1699 - val_mae: 32.0515\n",
            "Epoch 242/300\n",
            "120/120 [==============================] - 1s 4ms/step - loss: 9335.5371 - mae: 31.1616 - val_loss: 13706.7617 - val_mae: 31.6100\n",
            "Epoch 243/300\n",
            "120/120 [==============================] - 1s 4ms/step - loss: 6747.6118 - mae: 29.7835 - val_loss: 16059.2119 - val_mae: 32.0093\n",
            "Epoch 244/300\n",
            "120/120 [==============================] - 1s 4ms/step - loss: 8239.2441 - mae: 29.4512 - val_loss: 13405.6924 - val_mae: 30.4183\n",
            "Epoch 245/300\n",
            "120/120 [==============================] - 1s 4ms/step - loss: 7048.2427 - mae: 29.4073 - val_loss: 14454.4268 - val_mae: 30.9155\n",
            "Epoch 246/300\n",
            "120/120 [==============================] - 1s 4ms/step - loss: 6437.1582 - mae: 28.9536 - val_loss: 15717.7666 - val_mae: 32.0396\n",
            "Epoch 247/300\n",
            "120/120 [==============================] - 1s 4ms/step - loss: 10718.5381 - mae: 30.3350 - val_loss: 22880.8281 - val_mae: 36.3383\n",
            "Epoch 248/300\n",
            "120/120 [==============================] - 0s 4ms/step - loss: 9563.7510 - mae: 31.8987 - val_loss: 12715.5195 - val_mae: 29.7000\n",
            "Epoch 249/300\n",
            "120/120 [==============================] - 1s 4ms/step - loss: 8425.4600 - mae: 30.2978 - val_loss: 13908.2266 - val_mae: 31.2740\n",
            "Epoch 250/300\n",
            "120/120 [==============================] - 1s 5ms/step - loss: 9769.8047 - mae: 31.6705 - val_loss: 19482.5781 - val_mae: 32.9983\n",
            "Epoch 251/300\n",
            "120/120 [==============================] - 1s 4ms/step - loss: 9691.8877 - mae: 30.4902 - val_loss: 14095.8291 - val_mae: 31.1899\n",
            "Epoch 252/300\n",
            "120/120 [==============================] - 0s 4ms/step - loss: 7975.4595 - mae: 30.0120 - val_loss: 13767.9004 - val_mae: 30.5990\n",
            "Epoch 253/300\n",
            "120/120 [==============================] - 0s 4ms/step - loss: 9436.9902 - mae: 30.4875 - val_loss: 13927.9502 - val_mae: 30.4405\n",
            "Epoch 254/300\n",
            "120/120 [==============================] - 0s 4ms/step - loss: 6596.3774 - mae: 29.5412 - val_loss: 13136.5732 - val_mae: 30.2330\n",
            "Epoch 255/300\n",
            "120/120 [==============================] - 0s 4ms/step - loss: 7198.9873 - mae: 30.2766 - val_loss: 14949.0342 - val_mae: 31.5693\n",
            "Epoch 256/300\n",
            "120/120 [==============================] - 0s 4ms/step - loss: 8859.6426 - mae: 30.3272 - val_loss: 13850.3252 - val_mae: 29.6515\n",
            "Epoch 257/300\n",
            "120/120 [==============================] - 0s 4ms/step - loss: 7698.5918 - mae: 30.0721 - val_loss: 13887.0996 - val_mae: 29.7901\n",
            "Epoch 258/300\n",
            "120/120 [==============================] - 1s 4ms/step - loss: 12566.3457 - mae: 31.5836 - val_loss: 15074.8193 - val_mae: 30.4064\n",
            "Epoch 259/300\n",
            "120/120 [==============================] - 1s 4ms/step - loss: 8008.5371 - mae: 30.7810 - val_loss: 14379.7100 - val_mae: 30.1326\n",
            "Epoch 260/300\n",
            "120/120 [==============================] - 1s 4ms/step - loss: 7801.5918 - mae: 29.8296 - val_loss: 21196.3223 - val_mae: 33.4667\n",
            "Epoch 261/300\n",
            "120/120 [==============================] - 1s 5ms/step - loss: 8436.4043 - mae: 30.2026 - val_loss: 14418.6465 - val_mae: 30.5398\n",
            "Epoch 262/300\n",
            "120/120 [==============================] - 0s 4ms/step - loss: 7418.4155 - mae: 29.5828 - val_loss: 14848.6094 - val_mae: 30.8164\n",
            "Epoch 263/300\n",
            "120/120 [==============================] - 1s 4ms/step - loss: 10002.4756 - mae: 30.8866 - val_loss: 14322.7236 - val_mae: 30.1054\n",
            "Epoch 264/300\n",
            "120/120 [==============================] - 0s 4ms/step - loss: 7774.7500 - mae: 29.9706 - val_loss: 13479.2754 - val_mae: 29.6122\n",
            "Epoch 265/300\n",
            "120/120 [==============================] - 0s 4ms/step - loss: 8624.4160 - mae: 31.1957 - val_loss: 15403.7676 - val_mae: 32.0552\n",
            "Epoch 266/300\n",
            "120/120 [==============================] - 0s 4ms/step - loss: 7004.5156 - mae: 29.4237 - val_loss: 13784.3193 - val_mae: 30.0766\n",
            "Epoch 267/300\n",
            "120/120 [==============================] - 1s 4ms/step - loss: 9008.2402 - mae: 30.7871 - val_loss: 15476.1660 - val_mae: 31.1107\n",
            "Epoch 268/300\n",
            "120/120 [==============================] - 1s 4ms/step - loss: 7124.6187 - mae: 29.2593 - val_loss: 17472.6543 - val_mae: 32.5701\n",
            "Epoch 269/300\n",
            "120/120 [==============================] - 1s 4ms/step - loss: 6996.7266 - mae: 29.4422 - val_loss: 13931.5674 - val_mae: 30.1813\n",
            "Epoch 270/300\n",
            "120/120 [==============================] - 1s 4ms/step - loss: 9164.6895 - mae: 30.1077 - val_loss: 14654.7393 - val_mae: 30.8609\n",
            "Epoch 271/300\n",
            "120/120 [==============================] - 1s 4ms/step - loss: 9825.2324 - mae: 30.0850 - val_loss: 16736.7188 - val_mae: 31.6902\n",
            "Epoch 272/300\n",
            "120/120 [==============================] - 0s 4ms/step - loss: 8409.5469 - mae: 29.9955 - val_loss: 13877.4707 - val_mae: 30.4049\n",
            "Epoch 273/300\n",
            "120/120 [==============================] - 0s 4ms/step - loss: 6693.1523 - mae: 29.8474 - val_loss: 13727.2715 - val_mae: 30.3803\n",
            "Epoch 274/300\n",
            "120/120 [==============================] - 1s 4ms/step - loss: 10707.3516 - mae: 31.6784 - val_loss: 14885.9805 - val_mae: 30.8892\n",
            "Epoch 275/300\n",
            "120/120 [==============================] - 0s 4ms/step - loss: 8339.6807 - mae: 30.3060 - val_loss: 13468.8027 - val_mae: 29.6191\n",
            "Epoch 276/300\n",
            "120/120 [==============================] - 1s 4ms/step - loss: 7980.4478 - mae: 30.4440 - val_loss: 15039.9277 - val_mae: 31.3438\n",
            "Epoch 277/300\n",
            "120/120 [==============================] - 1s 4ms/step - loss: 8741.8398 - mae: 30.2056 - val_loss: 20530.2539 - val_mae: 32.5310\n",
            "Epoch 278/300\n",
            "120/120 [==============================] - 1s 4ms/step - loss: 6324.1797 - mae: 29.2926 - val_loss: 14137.7617 - val_mae: 30.5643\n",
            "Epoch 279/300\n",
            "120/120 [==============================] - 0s 4ms/step - loss: 8509.8076 - mae: 30.4177 - val_loss: 14279.7764 - val_mae: 30.2149\n",
            "Epoch 280/300\n",
            "120/120 [==============================] - 1s 4ms/step - loss: 8841.7754 - mae: 29.7410 - val_loss: 16425.3691 - val_mae: 31.3138\n",
            "Epoch 281/300\n",
            "120/120 [==============================] - 1s 4ms/step - loss: 8531.7305 - mae: 30.2725 - val_loss: 13744.3555 - val_mae: 30.4518\n",
            "Epoch 282/300\n",
            "120/120 [==============================] - 1s 4ms/step - loss: 6594.7910 - mae: 29.4283 - val_loss: 14395.8193 - val_mae: 30.2997\n",
            "Epoch 283/300\n",
            "120/120 [==============================] - 1s 4ms/step - loss: 9174.9277 - mae: 30.2020 - val_loss: 14136.2002 - val_mae: 30.8706\n",
            "Epoch 284/300\n",
            "120/120 [==============================] - 1s 4ms/step - loss: 9294.2178 - mae: 30.6259 - val_loss: 22131.2383 - val_mae: 35.2022\n",
            "Epoch 285/300\n",
            "120/120 [==============================] - 1s 4ms/step - loss: 8686.9492 - mae: 30.6993 - val_loss: 13133.0664 - val_mae: 30.1381\n",
            "Epoch 286/300\n",
            "120/120 [==============================] - 1s 4ms/step - loss: 7666.9531 - mae: 30.1251 - val_loss: 13742.3018 - val_mae: 30.3474\n",
            "Epoch 287/300\n",
            "120/120 [==============================] - 1s 4ms/step - loss: 8278.8613 - mae: 29.9737 - val_loss: 16014.4141 - val_mae: 31.9055\n",
            "Epoch 288/300\n",
            "120/120 [==============================] - 1s 4ms/step - loss: 6886.0312 - mae: 29.4640 - val_loss: 13931.4727 - val_mae: 31.0615\n",
            "Epoch 289/300\n",
            "120/120 [==============================] - 1s 4ms/step - loss: 8373.9766 - mae: 30.2042 - val_loss: 15776.3838 - val_mae: 31.4222\n",
            "Epoch 290/300\n",
            "120/120 [==============================] - 0s 4ms/step - loss: 7597.0396 - mae: 29.7440 - val_loss: 14102.3857 - val_mae: 30.3395\n",
            "Epoch 291/300\n",
            "120/120 [==============================] - 1s 4ms/step - loss: 7486.9961 - mae: 29.7442 - val_loss: 16485.6582 - val_mae: 31.9949\n",
            "Epoch 292/300\n",
            "120/120 [==============================] - 0s 4ms/step - loss: 8498.2920 - mae: 29.7011 - val_loss: 14759.4355 - val_mae: 31.4019\n",
            "Epoch 293/300\n",
            "120/120 [==============================] - 1s 5ms/step - loss: 10849.0322 - mae: 30.4432 - val_loss: 15032.9062 - val_mae: 31.2220\n",
            "Epoch 294/300\n",
            "120/120 [==============================] - 1s 4ms/step - loss: 9086.1172 - mae: 30.4357 - val_loss: 22228.6406 - val_mae: 34.4142\n",
            "Epoch 295/300\n",
            "120/120 [==============================] - 1s 4ms/step - loss: 7350.2700 - mae: 29.7544 - val_loss: 14356.1807 - val_mae: 30.2411\n",
            "Epoch 296/300\n",
            "120/120 [==============================] - 0s 4ms/step - loss: 8117.2222 - mae: 29.7904 - val_loss: 14069.1387 - val_mae: 30.5045\n",
            "Epoch 297/300\n",
            "120/120 [==============================] - 1s 4ms/step - loss: 9421.6201 - mae: 30.6187 - val_loss: 23384.0078 - val_mae: 34.7131\n",
            "Epoch 298/300\n",
            "120/120 [==============================] - 0s 4ms/step - loss: 8281.2998 - mae: 30.2705 - val_loss: 13848.9521 - val_mae: 30.3129\n",
            "Epoch 299/300\n",
            "120/120 [==============================] - 1s 4ms/step - loss: 6980.0781 - mae: 29.3145 - val_loss: 15135.0205 - val_mae: 31.7487\n",
            "Epoch 300/300\n",
            "120/120 [==============================] - 1s 4ms/step - loss: 6196.5903 - mae: 28.6358 - val_loss: 13764.2686 - val_mae: 29.8632\n"
          ]
        }
      ]
    },
    {
      "cell_type": "markdown",
      "source": [
        "### Model Evaluation"
      ],
      "metadata": {
        "id": "CtYrM2dEN70m"
      }
    },
    {
      "cell_type": "code",
      "source": [
        "# Evaluasi model pada train dataset\n",
        "model.evaluate(X_train_preprocessed, y_train, verbose = 1)"
      ],
      "metadata": {
        "colab": {
          "base_uri": "https://localhost:8080/"
        },
        "id": "EvkFqrxifQVI",
        "outputId": "c2729210-e108-45d8-cc43-80486b62f8e5"
      },
      "execution_count": 38,
      "outputs": [
        {
          "output_type": "stream",
          "name": "stdout",
          "text": [
            "250/250 [==============================] - 0s 2ms/step - loss: 5737.6567 - mae: 24.0838\n"
          ]
        },
        {
          "output_type": "execute_result",
          "data": {
            "text/plain": [
              "[5737.65673828125, 24.083755493164062]"
            ]
          },
          "metadata": {},
          "execution_count": 38
        }
      ]
    },
    {
      "cell_type": "code",
      "source": [
        "# Membuat grafik nilai loss dari proses training dan validation\n",
        "plt.figure(figsize = (10,10))\n",
        "plt.plot(history.history['loss'], label='Training Loss')\n",
        "plt.plot(history.history['val_loss'], label='Validation Loss')\n",
        "plt.xlabel('Epoch')\n",
        "plt.ylabel('Loss')\n",
        "plt.title('Training and Validation Loss')\n",
        "plt.legend(loc = 'upper right')\n",
        "plt.show()"
      ],
      "metadata": {
        "id": "qh972eNYTVHc",
        "colab": {
          "base_uri": "https://localhost:8080/",
          "height": 621
        },
        "outputId": "026b7eff-5a7c-4e72-a15b-69fae1a90d9c"
      },
      "execution_count": 39,
      "outputs": [
        {
          "output_type": "display_data",
          "data": {
            "text/plain": [
              "<Figure size 720x720 with 1 Axes>"
            ],
            "image/png": "[encoded data removed]"
          },
          "metadata": {
            "needs_background": "light"
          }
        }
      ]
    },
    {
      "cell_type": "code",
      "source": [
        "# Membuat grafik nilai mean absolute error dari proses training dan validation\n",
        "plt.figure(figsize = (10,10))\n",
        "plt.plot(history.history['mae'], label='Training MAE')\n",
        "plt.plot(history.history['val_mae'], label='Validation MAE')\n",
        "plt.title('Accuracy Plot')\n",
        "plt.ylabel('MAE')\n",
        "plt.xlabel('Epoch')\n",
        "plt.title('Training and Validation MAE')\n",
        "plt.legend(loc=\"upper right\")\n",
        "plt.show()"
      ],
      "metadata": {
        "id": "wO61HT_kAaXS",
        "colab": {
          "base_uri": "https://localhost:8080/",
          "height": 621
        },
        "outputId": "bb1b24e6-e02c-4fc6-c835-2c700e1037e4"
      },
      "execution_count": 40,
      "outputs": [
        {
          "output_type": "display_data",
          "data": {
            "text/plain": [
              "<Figure size 720x720 with 1 Axes>"
            ],
            "image/png": "[encoded data removed]"
          },
          "metadata": {
            "needs_background": "light"
          }
        }
      ]
    },
    {
      "cell_type": "code",
      "source": [
        "# Evaluasi model pada test dataset\n",
        "model.evaluate(X_test_preprocessed, y_test, verbose = 1)"
      ],
      "metadata": {
        "colab": {
          "base_uri": "https://localhost:8080/"
        },
        "id": "lsUUw7ixeZqk",
        "outputId": "a0899061-b307-4be0-8e45-5e0ab9c77968"
      },
      "execution_count": 41,
      "outputs": [
        {
          "output_type": "stream",
          "name": "stdout",
          "text": [
            "63/63 [==============================] - 0s 1ms/step - loss: 13567.0596 - mae: 27.9768\n"
          ]
        },
        {
          "output_type": "execute_result",
          "data": {
            "text/plain": [
              "[13567.0595703125, 27.976787567138672]"
            ]
          },
          "metadata": {},
          "execution_count": 41
        }
      ]
    },
    {
      "cell_type": "code",
      "source": [
        "# Melakukan prediksi menggunakan dataset X_test_preprocessed\n",
        "y_pred = np.squeeze(model.predict(X_test_preprocessed))"
      ],
      "metadata": {
        "id": "C-ow-sBzA8Yi"
      },
      "execution_count": 42,
      "outputs": []
    },
    {
      "cell_type": "code",
      "source": [
        "# Membuat fungsi untuk menghitung Regression metrics yang digunakan dalam mengevaluasi model\n",
        "def regression_results(y_true, y_pred):\n",
        "    mae = mean_absolute_error(y_true, y_pred) \n",
        "    mse = mean_squared_error(y_true, y_pred) \n",
        "    mad = median_absolute_error(y_true, y_pred)\n",
        "    r2 = r2_score(y_true, y_pred)\n",
        "   \n",
        "    print('MSE: ', round(mse,4))\n",
        "    print('RMSE: ', round(np.sqrt(mse),4))\n",
        "    print('MAE: ', round(mae,4))\n",
        "    print('Median Absolute Error: ', round(mad,4))\n",
        "    print('R-squared: ', round(r2,4))\n",
        "    print('\\n')"
      ],
      "metadata": {
        "id": "IE3CHbaTEwIN"
      },
      "execution_count": 43,
      "outputs": []
    },
    {
      "cell_type": "code",
      "source": [
        "# Melakukan evaluasi model berdasarkan test set dengan metrics yang sudah ditentukan (mengecek performa akhir dari model)\n",
        "regression_results(y_test, y_pred)"
      ],
      "metadata": {
        "id": "9RflOT1rJHHZ",
        "colab": {
          "base_uri": "https://localhost:8080/"
        },
        "outputId": "71cfc43b-14cf-43f1-e5e3-27b65cfc7de9"
      },
      "execution_count": 44,
      "outputs": [
        {
          "output_type": "stream",
          "name": "stdout",
          "text": [
            "MSE:  13566.8157\n",
            "RMSE:  116.4767\n",
            "MAE:  27.9768\n",
            "Median Absolute Error:  6.5518\n",
            "R-squared:  0.8456\n",
            "\n",
            "\n"
          ]
        }
      ]
    },
    {
      "cell_type": "markdown",
      "source": [
        "Performa akhir model menunjukkan nilai R-squared 0.8456 yang menandakan bahwa variasi nilai y (response variable/dependent variable) yang dapat dijelaskan oleh model hanya 84.56%."
      ],
      "metadata": {
        "id": "nsENWUfjxcJM"
      }
    },
    {
      "cell_type": "markdown",
      "source": [
        "Error Analysis"
      ],
      "metadata": {
        "id": "qTKhl96Ol2oh"
      }
    },
    {
      "cell_type": "code",
      "source": [
        "# Tabel perbandingan nilai aktual dan prediksi beserta nilai error\n",
        "df_results = pd.DataFrame({\n",
        "    'Actual': y_test.tolist(),\n",
        "    'Prediction': y_pred.tolist()\n",
        "})\n",
        "\n",
        "df_results['Error'] = df_results['Prediction'] - df_results['Actual']\n",
        "df_results"
      ],
      "metadata": {
        "id": "PTu5UFMNSXNO",
        "colab": {
          "base_uri": "https://localhost:8080/",
          "height": 424
        },
        "outputId": "15437d61-094a-4f8b-fd83-d46edf0168a9"
      },
      "execution_count": 45,
      "outputs": [
        {
          "output_type": "execute_result",
          "data": {
            "text/plain": [
              "       Actual  Prediction      Error\n",
              "0     54.3966   42.907768 -11.488832\n",
              "1     75.6548   41.432003 -34.222797\n",
              "2     -2.0622  -12.556470 -10.494270\n",
              "3     46.9764   55.768806   8.792406\n",
              "4     -9.7050  -19.271318  -9.566318\n",
              "...       ...         ...        ...\n",
              "1994  21.8376   41.320515  19.482915\n",
              "1995  -5.6007  -12.417118  -6.816418\n",
              "1996  -1.8904  -16.257105 -14.366705\n",
              "1997  12.5990   35.668098  23.069098\n",
              "1998  -8.1312   -7.780549   0.350651\n",
              "\n",
              "[1999 rows x 3 columns]"
            ],
            "text/html": [
              "\n",
              "  <div id=\"df-f22b8a97-9eda-46f6-9793-45dd6536a772\">\n",
              "    <div class=\"colab-df-container\">\n",
              "      <div>\n",
              "<style scoped>\n",
              "    .dataframe tbody tr th:only-of-type {\n",
              "        vertical-align: middle;\n",
              "    }\n",
              "\n",
              "    .dataframe tbody tr th {\n",
              "        vertical-align: top;\n",
              "    }\n",
              "\n",
              "    .dataframe thead th {\n",
              "        text-align: right;\n",
              "    }\n",
              "</style>\n",
              "<table border=\"1\" class=\"dataframe\">\n",
              "  <thead>\n",
              "    <tr style=\"text-align: right;\">\n",
              "      <th></th>\n",
              "      <th>Actual</th>\n",
              "      <th>Prediction</th>\n",
              "      <th>Error</th>\n",
              "    </tr>\n",
              "  </thead>\n",
              "  <tbody>\n",
              "    <tr>\n",
              "      <th>0</th>\n",
              "      <td>54.3966</td>\n",
              "      <td>42.907768</td>\n",
              "      <td>-11.488832</td>\n",
              "    </tr>\n",
              "    <tr>\n",
              "      <th>1</th>\n",
              "      <td>75.6548</td>\n",
              "      <td>41.432003</td>\n",
              "      <td>-34.222797</td>\n",
              "    </tr>\n",
              "    <tr>\n",
              "      <th>2</th>\n",
              "      <td>-2.0622</td>\n",
              "      <td>-12.556470</td>\n",
              "      <td>-10.494270</td>\n",
              "    </tr>\n",
              "    <tr>\n",
              "      <th>3</th>\n",
              "      <td>46.9764</td>\n",
              "      <td>55.768806</td>\n",
              "      <td>8.792406</td>\n",
              "    </tr>\n",
              "    <tr>\n",
              "      <th>4</th>\n",
              "      <td>-9.7050</td>\n",
              "      <td>-19.271318</td>\n",
              "      <td>-9.566318</td>\n",
              "    </tr>\n",
              "    <tr>\n",
              "      <th>...</th>\n",
              "      <td>...</td>\n",
              "      <td>...</td>\n",
              "      <td>...</td>\n",
              "    </tr>\n",
              "    <tr>\n",
              "      <th>1994</th>\n",
              "      <td>21.8376</td>\n",
              "      <td>41.320515</td>\n",
              "      <td>19.482915</td>\n",
              "    </tr>\n",
              "    <tr>\n",
              "      <th>1995</th>\n",
              "      <td>-5.6007</td>\n",
              "      <td>-12.417118</td>\n",
              "      <td>-6.816418</td>\n",
              "    </tr>\n",
              "    <tr>\n",
              "      <th>1996</th>\n",
              "      <td>-1.8904</td>\n",
              "      <td>-16.257105</td>\n",
              "      <td>-14.366705</td>\n",
              "    </tr>\n",
              "    <tr>\n",
              "      <th>1997</th>\n",
              "      <td>12.5990</td>\n",
              "      <td>35.668098</td>\n",
              "      <td>23.069098</td>\n",
              "    </tr>\n",
              "    <tr>\n",
              "      <th>1998</th>\n",
              "      <td>-8.1312</td>\n",
              "      <td>-7.780549</td>\n",
              "      <td>0.350651</td>\n",
              "    </tr>\n",
              "  </tbody>\n",
              "</table>\n",
              "<p>1999 rows × 3 columns</p>\n",
              "</div>\n",
              "      <button class=\"colab-df-convert\" onclick=\"convertToInteractive('df-f22b8a97-9eda-46f6-9793-45dd6536a772')\"\n",
              "              title=\"Convert this dataframe to an interactive table.\"\n",
              "              style=\"display:none;\">\n",
              "        \n",
              "  <svg xmlns=\"http://www.w3.org/2000/svg\" height=\"24px\"viewBox=\"0 0 24 24\"\n",
              "       width=\"24px\">\n",
              "    <path d=\"M0 0h24v24H0V0z\" fill=\"none\"/>\n",
              "    <path d=\"M18.56 5.44l.94 2.06.94-2.06 2.06-.94-2.06-.94-.94-2.06-.94 2.06-2.06.94zm-11 1L8.5 8.5l.94-2.06 2.06-.94-2.06-.94L8.5 2.5l-.94 2.06-2.06.94zm10 10l.94 2.06.94-2.06 2.06-.94-2.06-.94-.94-2.06-.94 2.06-2.06.94z\"/><path d=\"M17.41 7.96l-1.37-1.37c-.4-.4-.92-.59-1.43-.59-.52 0-1.04.2-1.43.59L10.3 9.45l-7.72 7.72c-.78.78-.78 2.05 0 2.83L4 21.41c.39.39.9.59 1.41.59.51 0 1.02-.2 1.41-.59l7.78-7.78 2.81-2.81c.8-.78.8-2.07 0-2.86zM5.41 20L4 18.59l7.72-7.72 1.47 1.35L5.41 20z\"/>\n",
              "  </svg>\n",
              "      </button>\n",
              "      \n",
              "  <style>\n",
              "    .colab-df-container {\n",
              "      display:flex;\n",
              "      flex-wrap:wrap;\n",
              "      gap: 12px;\n",
              "    }\n",
              "\n",
              "    .colab-df-convert {\n",
              "      background-color: #E8F0FE;\n",
              "      border: none;\n",
              "      border-radius: 50%;\n",
              "      cursor: pointer;\n",
              "      display: none;\n",
              "      fill: #1967D2;\n",
              "      height: 32px;\n",
              "      padding: 0 0 0 0;\n",
              "      width: 32px;\n",
              "    }\n",
              "\n",
              "    .colab-df-convert:hover {\n",
              "      background-color: #E2EBFA;\n",
              "      box-shadow: 0px 1px 2px rgba(60, 64, 67, 0.3), 0px 1px 3px 1px rgba(60, 64, 67, 0.15);\n",
              "      fill: #174EA6;\n",
              "    }\n",
              "\n",
              "    [theme=dark] .colab-df-convert {\n",
              "      background-color: #3B4455;\n",
              "      fill: #D2E3FC;\n",
              "    }\n",
              "\n",
              "    [theme=dark] .colab-df-convert:hover {\n",
              "      background-color: #434B5C;\n",
              "      box-shadow: 0px 1px 3px 1px rgba(0, 0, 0, 0.15);\n",
              "      filter: drop-shadow(0px 1px 2px rgba(0, 0, 0, 0.3));\n",
              "      fill: #FFFFFF;\n",
              "    }\n",
              "  </style>\n",
              "\n",
              "      <script>\n",
              "        const buttonEl =\n",
              "          document.querySelector('#df-f22b8a97-9eda-46f6-9793-45dd6536a772 button.colab-df-convert');\n",
              "        buttonEl.style.display =\n",
              "          google.colab.kernel.accessAllowed ? 'block' : 'none';\n",
              "\n",
              "        async function convertToInteractive(key) {\n",
              "          const element = document.querySelector('#df-f22b8a97-9eda-46f6-9793-45dd6536a772');\n",
              "          const dataTable =\n",
              "            await google.colab.kernel.invokeFunction('convertToInteractive',\n",
              "                                                     [key], {});\n",
              "          if (!dataTable) return;\n",
              "\n",
              "          const docLinkHtml = 'Like what you see? Visit the ' +\n",
              "            '<a target=\"_blank\" href=https://colab.research.google.com/notebooks/data_table.ipynb>data table notebook</a>'\n",
              "            + ' to learn more about interactive tables.';\n",
              "          element.innerHTML = '';\n",
              "          dataTable['output_type'] = 'display_data';\n",
              "          await google.colab.output.renderOutput(dataTable, element);\n",
              "          const docLink = document.createElement('div');\n",
              "          docLink.innerHTML = docLinkHtml;\n",
              "          element.appendChild(docLink);\n",
              "        }\n",
              "      </script>\n",
              "    </div>\n",
              "  </div>\n",
              "  "
            ]
          },
          "metadata": {},
          "execution_count": 45
        }
      ]
    },
    {
      "cell_type": "code",
      "source": [
        "# Membuat scatterplot nilai prediksi dengan nilai error(selisih nilai prediksi dengan nilai aktual)\n",
        "plt.figure(figsize=(15,8))\n",
        "sns.scatterplot(y_pred,df_results['Error'])\n",
        "plt.xlabel('Prediction')\n",
        "plt.ylabel('Error')\n",
        "plt.title('Prediction - Error Plot')\n",
        "plt.show()"
      ],
      "metadata": {
        "colab": {
          "base_uri": "https://localhost:8080/",
          "height": 513
        },
        "id": "DtwiJtfavazC",
        "outputId": "f847d982-7beb-4efb-ef49-7641f71d6ef7"
      },
      "execution_count": 46,
      "outputs": [
        {
          "output_type": "display_data",
          "data": {
            "text/plain": [
              "<Figure size 1080x576 with 1 Axes>"
            ],
            "image/png": "[encoded data removed]"
          },
          "metadata": {
            "needs_background": "light"
          }
        }
      ]
    },
    {
      "cell_type": "markdown",
      "source": [
        "Grafik di atas menunjukkan persebaran nilai prediksi dengan nilai error (selisih nilai prediksi dengan nilai aktual) pada test model. Grafik menunjukkan nilai error sudah berkisar di nilai nol yang menunjukkan hasil prediksi sudah cukup baik, namun ada beberapa amatan dimana data point yang hasil prediksinya meleset jauh (ditunjukkan oleh data point yang nilai error-nya jauh dari nol)."
      ],
      "metadata": {
        "id": "7qy_N6vxvhYc"
      }
    },
    {
      "cell_type": "code",
      "source": [
        "# Menunjukkan statistik deskriptif dari variabel error\n",
        "df_results[['Error']].describe()"
      ],
      "metadata": {
        "colab": {
          "base_uri": "https://localhost:8080/",
          "height": 300
        },
        "id": "uoacFHV2wy11",
        "outputId": "89b4cf4f-7046-447f-9f7a-ded0b990da15"
      },
      "execution_count": 47,
      "outputs": [
        {
          "output_type": "execute_result",
          "data": {
            "text/plain": [
              "             Error\n",
              "count  1999.000000\n",
              "mean     -0.310875\n",
              "std     116.505404\n",
              "min   -2166.138109\n",
              "25%      -8.840421\n",
              "50%       0.473758\n",
              "75%       5.354902\n",
              "max    3275.188205"
            ],
            "text/html": [
              "\n",
              "  <div id=\"df-29bd966f-4f14-4929-a830-1ef5348e57d1\">\n",
              "    <div class=\"colab-df-container\">\n",
              "      <div>\n",
              "<style scoped>\n",
              "    .dataframe tbody tr th:only-of-type {\n",
              "        vertical-align: middle;\n",
              "    }\n",
              "\n",
              "    .dataframe tbody tr th {\n",
              "        vertical-align: top;\n",
              "    }\n",
              "\n",
              "    .dataframe thead th {\n",
              "        text-align: right;\n",
              "    }\n",
              "</style>\n",
              "<table border=\"1\" class=\"dataframe\">\n",
              "  <thead>\n",
              "    <tr style=\"text-align: right;\">\n",
              "      <th></th>\n",
              "      <th>Error</th>\n",
              "    </tr>\n",
              "  </thead>\n",
              "  <tbody>\n",
              "    <tr>\n",
              "      <th>count</th>\n",
              "      <td>1999.000000</td>\n",
              "    </tr>\n",
              "    <tr>\n",
              "      <th>mean</th>\n",
              "      <td>-0.310875</td>\n",
              "    </tr>\n",
              "    <tr>\n",
              "      <th>std</th>\n",
              "      <td>116.505404</td>\n",
              "    </tr>\n",
              "    <tr>\n",
              "      <th>min</th>\n",
              "      <td>-2166.138109</td>\n",
              "    </tr>\n",
              "    <tr>\n",
              "      <th>25%</th>\n",
              "      <td>-8.840421</td>\n",
              "    </tr>\n",
              "    <tr>\n",
              "      <th>50%</th>\n",
              "      <td>0.473758</td>\n",
              "    </tr>\n",
              "    <tr>\n",
              "      <th>75%</th>\n",
              "      <td>5.354902</td>\n",
              "    </tr>\n",
              "    <tr>\n",
              "      <th>max</th>\n",
              "      <td>3275.188205</td>\n",
              "    </tr>\n",
              "  </tbody>\n",
              "</table>\n",
              "</div>\n",
              "      <button class=\"colab-df-convert\" onclick=\"convertToInteractive('df-29bd966f-4f14-4929-a830-1ef5348e57d1')\"\n",
              "              title=\"Convert this dataframe to an interactive table.\"\n",
              "              style=\"display:none;\">\n",
              "        \n",
              "  <svg xmlns=\"http://www.w3.org/2000/svg\" height=\"24px\"viewBox=\"0 0 24 24\"\n",
              "       width=\"24px\">\n",
              "    <path d=\"M0 0h24v24H0V0z\" fill=\"none\"/>\n",
              "    <path d=\"M18.56 5.44l.94 2.06.94-2.06 2.06-.94-2.06-.94-.94-2.06-.94 2.06-2.06.94zm-11 1L8.5 8.5l.94-2.06 2.06-.94-2.06-.94L8.5 2.5l-.94 2.06-2.06.94zm10 10l.94 2.06.94-2.06 2.06-.94-2.06-.94-.94-2.06-.94 2.06-2.06.94z\"/><path d=\"M17.41 7.96l-1.37-1.37c-.4-.4-.92-.59-1.43-.59-.52 0-1.04.2-1.43.59L10.3 9.45l-7.72 7.72c-.78.78-.78 2.05 0 2.83L4 21.41c.39.39.9.59 1.41.59.51 0 1.02-.2 1.41-.59l7.78-7.78 2.81-2.81c.8-.78.8-2.07 0-2.86zM5.41 20L4 18.59l7.72-7.72 1.47 1.35L5.41 20z\"/>\n",
              "  </svg>\n",
              "      </button>\n",
              "      \n",
              "  <style>\n",
              "    .colab-df-container {\n",
              "      display:flex;\n",
              "      flex-wrap:wrap;\n",
              "      gap: 12px;\n",
              "    }\n",
              "\n",
              "    .colab-df-convert {\n",
              "      background-color: #E8F0FE;\n",
              "      border: none;\n",
              "      border-radius: 50%;\n",
              "      cursor: pointer;\n",
              "      display: none;\n",
              "      fill: #1967D2;\n",
              "      height: 32px;\n",
              "      padding: 0 0 0 0;\n",
              "      width: 32px;\n",
              "    }\n",
              "\n",
              "    .colab-df-convert:hover {\n",
              "      background-color: #E2EBFA;\n",
              "      box-shadow: 0px 1px 2px rgba(60, 64, 67, 0.3), 0px 1px 3px 1px rgba(60, 64, 67, 0.15);\n",
              "      fill: #174EA6;\n",
              "    }\n",
              "\n",
              "    [theme=dark] .colab-df-convert {\n",
              "      background-color: #3B4455;\n",
              "      fill: #D2E3FC;\n",
              "    }\n",
              "\n",
              "    [theme=dark] .colab-df-convert:hover {\n",
              "      background-color: #434B5C;\n",
              "      box-shadow: 0px 1px 3px 1px rgba(0, 0, 0, 0.15);\n",
              "      filter: drop-shadow(0px 1px 2px rgba(0, 0, 0, 0.3));\n",
              "      fill: #FFFFFF;\n",
              "    }\n",
              "  </style>\n",
              "\n",
              "      <script>\n",
              "        const buttonEl =\n",
              "          document.querySelector('#df-29bd966f-4f14-4929-a830-1ef5348e57d1 button.colab-df-convert');\n",
              "        buttonEl.style.display =\n",
              "          google.colab.kernel.accessAllowed ? 'block' : 'none';\n",
              "\n",
              "        async function convertToInteractive(key) {\n",
              "          const element = document.querySelector('#df-29bd966f-4f14-4929-a830-1ef5348e57d1');\n",
              "          const dataTable =\n",
              "            await google.colab.kernel.invokeFunction('convertToInteractive',\n",
              "                                                     [key], {});\n",
              "          if (!dataTable) return;\n",
              "\n",
              "          const docLinkHtml = 'Like what you see? Visit the ' +\n",
              "            '<a target=\"_blank\" href=https://colab.research.google.com/notebooks/data_table.ipynb>data table notebook</a>'\n",
              "            + ' to learn more about interactive tables.';\n",
              "          element.innerHTML = '';\n",
              "          dataTable['output_type'] = 'display_data';\n",
              "          await google.colab.output.renderOutput(dataTable, element);\n",
              "          const docLink = document.createElement('div');\n",
              "          docLink.innerHTML = docLinkHtml;\n",
              "          element.appendChild(docLink);\n",
              "        }\n",
              "      </script>\n",
              "    </div>\n",
              "  </div>\n",
              "  "
            ]
          },
          "metadata": {},
          "execution_count": 47
        }
      ]
    },
    {
      "cell_type": "code",
      "source": [
        "# Menunjukkan boxplot nilai error untuk melihat adanya outlier\n",
        "plt.figure(figsize=(15, 8))\n",
        "sns.boxplot(df_results['Error'])\n",
        "plt.title('Boxplot of Error')\n",
        "plt.show()"
      ],
      "metadata": {
        "colab": {
          "base_uri": "https://localhost:8080/",
          "height": 513
        },
        "id": "XqzTO1xOw97T",
        "outputId": "bf98f68d-435f-42b7-b962-fc7b4100901a"
      },
      "execution_count": 48,
      "outputs": [
        {
          "output_type": "display_data",
          "data": {
            "text/plain": [
              "<Figure size 1080x576 with 1 Axes>"
            ],
            "image/png": "[encoded data removed]"
          },
          "metadata": {
            "needs_background": "light"
          }
        }
      ]
    },
    {
      "cell_type": "code",
      "source": [
        "# Membuat histogram untuk menunjukkan distribusi nilai error\n",
        "plt.figure(figsize=(15, 8))\n",
        "sns.distplot(df_results['Error'])\n",
        "plt.title(\"The Distribution of Error\")\n",
        "plt.show()"
      ],
      "metadata": {
        "colab": {
          "base_uri": "https://localhost:8080/",
          "height": 513
        },
        "id": "48F77-GnyBrk",
        "outputId": "89896d28-3c7a-44c1-fcf5-1cbec1b8c0f1"
      },
      "execution_count": 49,
      "outputs": [
        {
          "output_type": "display_data",
          "data": {
            "text/plain": [
              "<Figure size 1080x576 with 1 Axes>"
            ],
            "image/png": "[encoded data removed]"
          },
          "metadata": {
            "needs_background": "light"
          }
        }
      ]
    },
    {
      "cell_type": "markdown",
      "source": [
        "Berdasarkan analisis beberapa grafik di atas, kita dapat melihat bahwa masih banyak *outlier* yang ada dalam nilai error sehingga kita menggunakan MAE (Mean Absolute Error) sebagai standar error dibandingkan dengan RMSE dan MSE karena MAE kurang sensitif terhadap *outlier* sementara RMSE dan MSE sangat sensitif terhadap *outlier*."
      ],
      "metadata": {
        "id": "AD8Ph8tbpDF7"
      }
    },
    {
      "cell_type": "code",
      "source": [
        "# Distribution plot untuk melihat kemampuan model dalam menggeneralisasi data tes\n",
        "plt.figure(figsize=(15, 10))\n",
        "\n",
        "ax1 = sns.distplot(y_test, hist=False, color=\"r\", label=\"Actual Value\")\n",
        "sns.distplot(y_pred, hist=False, color=\"b\", label=\"Prediction Value\" , ax=ax1)\n",
        "\n",
        "plt.title('Actual vs Prediction Values for Profit')\n",
        "plt.xlabel('Profit')\n",
        "plt.ylabel('Proportion of Profit')\n",
        "plt.legend()\n",
        "plt.show()\n",
        "plt.close()"
      ],
      "metadata": {
        "id": "khCfcXf-KeEz",
        "colab": {
          "base_uri": "https://localhost:8080/",
          "height": 621
        },
        "outputId": "52a83dbb-a6c2-4e7d-c559-2ae9ef465126"
      },
      "execution_count": 50,
      "outputs": [
        {
          "output_type": "display_data",
          "data": {
            "text/plain": [
              "<Figure size 1080x720 with 1 Axes>"
            ],
            "image/png": "[encoded data removed]"
          },
          "metadata": {
            "needs_background": "light"
          }
        }
      ]
    },
    {
      "cell_type": "code",
      "source": [
        "# Menyimpan model\n",
        "model.save('Linear_model.h5')"
      ],
      "metadata": {
        "id": "84YGLcHDPLaN"
      },
      "execution_count": 51,
      "outputs": []
    },
    {
      "cell_type": "markdown",
      "source": [
        "Model Analysis\n",
        "- Model yang digunakan untuk memprediksi profit adalah **Multiple Linear Regression DNN** memiliki nilai R-squared yang dihasilkan sebesar 0.8456 menandakan bahwa variasi nilai Y (Response Variable) yang dapat dijelaskan oleh model hanya 84.56%. Dapat kita simpulkan bahwa melalui model ini kita dapat memprediksi profit sistem berdasarkan *feature Ship Mode, Segment, Region, Category, Sales, Quantity dan Discount* dengan akurasi sebesar 84.56%.\n",
        "-  MAE (Mean Absolute Error) digunakan sebagai standar error dibandingkan dengan RMSE dan MSE karena MAE kurang sensitif terhadap *outlier*. MAE yang dihasilkan oleh model ini adalah 27.98 yang artinya dalam memprediksi profit, model memiliki nilai error sebesar 27.98.\n",
        "- Model ini dibangun dari beberapa variabel numerik dan kategorik. Variabel kategorik yang digunakan merupakan variabel dengan kardinalitas yang rendah yaitu *Ship Mode*, *Segment*, *Region* dan *Category* sehingga model ini tdak terlalu kompleks. Untuk selanjutnya diharapkan model dapat buat dengan menggunakan variabel kategorik dengan kardinalitas tinggi sehingga model dibangun berdasarkan variabel yang lebih spesifik.\n",
        "- Untuk meningkatkan performa model dibutuhkan data yang lebih banyak."
      ],
      "metadata": {
        "id": "es5WaR9OTbyO"
      }
    }
  ]
}